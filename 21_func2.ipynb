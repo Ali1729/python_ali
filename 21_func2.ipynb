{
 "cells": [
  {
   "cell_type": "code",
   "execution_count": 2,
   "metadata": {},
   "outputs": [
    {
     "name": "stdout",
     "output_type": "stream",
     "text": [
      "* \n",
      "* * \n",
      "* * * \n",
      "* * * * \n"
     ]
    }
   ],
   "source": [
    "for i in range(0, 4):  \n",
    "    # inner loop to handle number of columns  \n",
    "    # values is changing according to outer loop  \n",
    "        for j in range(0, i + 1):  \n",
    "            # printing stars  \n",
    "            print(\"* \", end=\"\")       \n",
    "  \n",
    "        # ending line after each row  \n",
    "        print()  "
   ]
  },
  {
   "attachments": {},
   "cell_type": "markdown",
   "metadata": {},
   "source": [
    "example of why to use functions."
   ]
  },
  {
   "cell_type": "markdown",
   "metadata": {},
   "source": []
  },
  {
   "cell_type": "markdown",
   "metadata": {},
   "source": []
  },
  {
   "cell_type": "code",
   "execution_count": null,
   "metadata": {},
   "outputs": [],
   "source": []
  },
  {
   "cell_type": "code",
   "execution_count": 1,
   "metadata": {},
   "outputs": [
    {
     "name": "stdout",
     "output_type": "stream",
     "text": [
      "* \n",
      "* * \n",
      "* * * \n",
      "* * * * \n"
     ]
    }
   ],
   "source": [
    "n = 4\n",
    "# outer loop to handle number of rows  \n",
    "for i in range(0, n):  \n",
    "    # inner loop to handle number of columns  \n",
    "    # values is changing according to outer loop  \n",
    "        for j in range(0, i + 1):  \n",
    "            # printing stars  \n",
    "            print(\"* \", end=\"\")       \n",
    "  \n",
    "        # ending line after each row  \n",
    "        print()  "
   ]
  },
  {
   "cell_type": "code",
   "execution_count": 3,
   "metadata": {},
   "outputs": [
    {
     "name": "stdout",
     "output_type": "stream",
     "text": [
      "* \n",
      "* * \n",
      "* * * \n",
      "* * * * \n",
      "* \n",
      "* * \n",
      "* * * \n",
      "* * * * \n",
      "* * * * * \n",
      "* \n",
      "* * \n",
      "* * * \n",
      "* * * * \n",
      "* * * * * \n",
      "* * * * * * \n"
     ]
    }
   ],
   "source": [
    "n = 4\n",
    "# outer loop to handle number of rows  \n",
    "for i in range(0, n):  \n",
    "    # inner loop to handle number of columns  \n",
    "    # values is changing according to outer loop  \n",
    "        for j in range(0, i + 1):  \n",
    "            # printing stars  \n",
    "            print(\"* \", end=\"\")       \n",
    "  \n",
    "        # ending line after each row  \n",
    "        print()  \n",
    "\n",
    "n = 5\n",
    "# outer loop to handle number of rows  \n",
    "for i in range(0, n):  \n",
    "    # inner loop to handle number of columns  \n",
    "    # values is changing according to outer loop  \n",
    "        for j in range(0, i + 1):  \n",
    "            # printing stars  \n",
    "            print(\"* \", end=\"\")       \n",
    "  \n",
    "        # ending line after each row  \n",
    "        print()  \n",
    "\n",
    "\n",
    "n = 6 \n",
    "# outer loop to handle number of rows  \n",
    "for i in range(0, n):  \n",
    "    # inner loop to handle number of columns  \n",
    "    # values is changing according to outer loop  \n",
    "        for j in range(0, i + 1):  \n",
    "            # printing stars  \n",
    "            print(\"* \", end=\"\")       \n",
    "  \n",
    "        # ending line after each row  \n",
    "        print()  "
   ]
  },
  {
   "cell_type": "code",
   "execution_count": 5,
   "metadata": {},
   "outputs": [
    {
     "name": "stdout",
     "output_type": "stream",
     "text": [
      "* \n",
      "* * \n",
      "* * * \n",
      "* * * * \n",
      "* \n",
      "* * \n",
      "* * * \n",
      "* * * * \n",
      "* * * * * \n",
      "* \n",
      "* * \n",
      "* * * \n",
      "* * * * \n",
      "* * * * * \n",
      "* * * * * * \n"
     ]
    }
   ],
   "source": [
    "def star(n):\n",
    "    for i in range(0, n):  \n",
    "        # inner loop to handle number of columns  \n",
    "        # values is changing according to outer loop  \n",
    "            for j in range(0, i + 1):  \n",
    "                # printing stars  \n",
    "                print(\"* \", end=\"\")       \n",
    "    \n",
    "            # ending line after each row  \n",
    "            print()  \n",
    "\n",
    "star(4)\n",
    "star(5)\n",
    "star(6)"
   ]
  },
  {
   "cell_type": "code",
   "execution_count": 6,
   "metadata": {},
   "outputs": [
    {
     "name": "stdout",
     "output_type": "stream",
     "text": [
      "* \n",
      "\n",
      "* * \n",
      "\n",
      "* * * \n",
      "\n",
      "* * * * \n",
      "\n",
      "* * * * * \n",
      "\n"
     ]
    }
   ],
   "source": [
    "def star_2(n):\n",
    "    for i in range(0, n):  \n",
    "        # inner loop to handle number of columns  \n",
    "        # values is changing according to outer loop  \n",
    "            for j in range(0, i + 1):  \n",
    "                # printing stars  \n",
    "                print(\"* \", end=\"\")       \n",
    "    \n",
    "            # ending line after each row  \n",
    "            print() \n",
    "            print() \n",
    "\n",
    "star_2(5)"
   ]
  },
  {
   "cell_type": "code",
   "execution_count": null,
   "metadata": {},
   "outputs": [],
   "source": [
    "def star_2(n,spaces):\n",
    "    for i in range(0, n):  \n",
    "        # inner loop to handle number of columns  \n",
    "        # values is changing according to outer loop  \n",
    "            for j in range(0, i + 1):  \n",
    "                # printing stars  \n",
    "                print(\"* \", end=\"\")       \n",
    "    \n",
    "            # ending line after each row  \n",
    "        \n",
    "            for i in range(spaces):\n",
    "                print() \n",
    "            \n"
   ]
  }
 ],
 "metadata": {
  "kernelspec": {
   "display_name": "Python 3",
   "language": "python",
   "name": "python3"
  },
  "language_info": {
   "codemirror_mode": {
    "name": "ipython",
    "version": 3
   },
   "file_extension": ".py",
   "mimetype": "text/x-python",
   "name": "python",
   "nbconvert_exporter": "python",
   "pygments_lexer": "ipython3",
   "version": "3.11.1"
  },
  "orig_nbformat": 4,
  "vscode": {
   "interpreter": {
    "hash": "108095e740c160118120ad5e22811b4aca9f414a6f3c55c969835bc2c10848d1"
   }
  }
 },
 "nbformat": 4,
 "nbformat_minor": 2
}
