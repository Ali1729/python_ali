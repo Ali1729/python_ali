{
 "cells": [
  {
   "cell_type": "code",
   "execution_count": null,
   "metadata": {},
   "outputs": [],
   "source": []
  },
  {
   "attachments": {},
   "cell_type": "markdown",
   "metadata": {},
   "source": [
    "requests\n",
    "Beautifulsoup4\n",
    "pandas\n"
   ]
  },
  {
   "cell_type": "code",
   "execution_count": 2,
   "metadata": {},
   "outputs": [],
   "source": [
    "import requests\n",
    "base_url = \"https://github.com/topics/\""
   ]
  },
  {
   "cell_type": "code",
   "execution_count": 3,
   "metadata": {},
   "outputs": [],
   "source": [
    "response = requests.get(base_url)"
   ]
  },
  {
   "cell_type": "code",
   "execution_count": 4,
   "metadata": {},
   "outputs": [
    {
     "data": {
      "text/plain": [
       "200"
      ]
     },
     "execution_count": 4,
     "metadata": {},
     "output_type": "execute_result"
    }
   ],
   "source": [
    "response.status_code"
   ]
  },
  {
   "cell_type": "code",
   "execution_count": 5,
   "metadata": {},
   "outputs": [],
   "source": [
    "\n",
    "with open(\"webpage.html\", 'w', encoding='utf-8') as fp: \n",
    "    fp.writelines(response.text)"
   ]
  },
  {
   "cell_type": "code",
   "execution_count": 6,
   "metadata": {},
   "outputs": [
    {
     "data": {
      "text/plain": [
       "str"
      ]
     },
     "execution_count": 6,
     "metadata": {},
     "output_type": "execute_result"
    }
   ],
   "source": [
    "type(response.text)"
   ]
  },
  {
   "cell_type": "code",
   "execution_count": 7,
   "metadata": {},
   "outputs": [],
   "source": [
    "from bs4 import BeautifulSoup\n",
    "soup = BeautifulSoup(response.text, 'html.parser')"
   ]
  },
  {
   "cell_type": "code",
   "execution_count": 8,
   "metadata": {},
   "outputs": [
    {
     "data": {
      "text/plain": [
       "67"
      ]
     },
     "execution_count": 8,
     "metadata": {},
     "output_type": "execute_result"
    }
   ],
   "source": [
    "len(soup.find_all('p'))"
   ]
  },
  {
   "cell_type": "code",
   "execution_count": 9,
   "metadata": {},
   "outputs": [],
   "source": [
    "selection_class ='f3 lh-condensed mb-0 mt-1 Link--primary'\n",
    "topic_tags = soup.find_all('p', selection_class)\n"
   ]
  },
  {
   "cell_type": "code",
   "execution_count": 10,
   "metadata": {},
   "outputs": [
    {
     "data": {
      "text/plain": [
       "[<p class=\"f3 lh-condensed mb-0 mt-1 Link--primary\">3D</p>,\n",
       " <p class=\"f3 lh-condensed mb-0 mt-1 Link--primary\">Ajax</p>,\n",
       " <p class=\"f3 lh-condensed mb-0 mt-1 Link--primary\">Algorithm</p>,\n",
       " <p class=\"f3 lh-condensed mb-0 mt-1 Link--primary\">Amp</p>,\n",
       " <p class=\"f3 lh-condensed mb-0 mt-1 Link--primary\">Android</p>,\n",
       " <p class=\"f3 lh-condensed mb-0 mt-1 Link--primary\">Angular</p>,\n",
       " <p class=\"f3 lh-condensed mb-0 mt-1 Link--primary\">Ansible</p>,\n",
       " <p class=\"f3 lh-condensed mb-0 mt-1 Link--primary\">API</p>,\n",
       " <p class=\"f3 lh-condensed mb-0 mt-1 Link--primary\">Arduino</p>,\n",
       " <p class=\"f3 lh-condensed mb-0 mt-1 Link--primary\">ASP.NET</p>,\n",
       " <p class=\"f3 lh-condensed mb-0 mt-1 Link--primary\">Atom</p>,\n",
       " <p class=\"f3 lh-condensed mb-0 mt-1 Link--primary\">Awesome Lists</p>,\n",
       " <p class=\"f3 lh-condensed mb-0 mt-1 Link--primary\">Amazon Web Services</p>,\n",
       " <p class=\"f3 lh-condensed mb-0 mt-1 Link--primary\">Azure</p>,\n",
       " <p class=\"f3 lh-condensed mb-0 mt-1 Link--primary\">Babel</p>,\n",
       " <p class=\"f3 lh-condensed mb-0 mt-1 Link--primary\">Bash</p>,\n",
       " <p class=\"f3 lh-condensed mb-0 mt-1 Link--primary\">Bitcoin</p>,\n",
       " <p class=\"f3 lh-condensed mb-0 mt-1 Link--primary\">Bootstrap</p>,\n",
       " <p class=\"f3 lh-condensed mb-0 mt-1 Link--primary\">Bot</p>,\n",
       " <p class=\"f3 lh-condensed mb-0 mt-1 Link--primary\">C</p>,\n",
       " <p class=\"f3 lh-condensed mb-0 mt-1 Link--primary\">Chrome</p>,\n",
       " <p class=\"f3 lh-condensed mb-0 mt-1 Link--primary\">Chrome extension</p>,\n",
       " <p class=\"f3 lh-condensed mb-0 mt-1 Link--primary\">Command line interface</p>,\n",
       " <p class=\"f3 lh-condensed mb-0 mt-1 Link--primary\">Clojure</p>,\n",
       " <p class=\"f3 lh-condensed mb-0 mt-1 Link--primary\">Code quality</p>,\n",
       " <p class=\"f3 lh-condensed mb-0 mt-1 Link--primary\">Code review</p>,\n",
       " <p class=\"f3 lh-condensed mb-0 mt-1 Link--primary\">Compiler</p>,\n",
       " <p class=\"f3 lh-condensed mb-0 mt-1 Link--primary\">Continuous integration</p>,\n",
       " <p class=\"f3 lh-condensed mb-0 mt-1 Link--primary\">COVID-19</p>,\n",
       " <p class=\"f3 lh-condensed mb-0 mt-1 Link--primary\">C++</p>]"
      ]
     },
     "execution_count": 10,
     "metadata": {},
     "output_type": "execute_result"
    }
   ],
   "source": [
    "topic_tags"
   ]
  },
  {
   "cell_type": "code",
   "execution_count": 11,
   "metadata": {},
   "outputs": [
    {
     "name": "stdout",
     "output_type": "stream",
     "text": [
      "3D\n",
      "Ajax\n",
      "Algorithm\n",
      "Amp\n",
      "Android\n",
      "Angular\n",
      "Ansible\n",
      "API\n",
      "Arduino\n",
      "ASP.NET\n",
      "Atom\n",
      "Awesome Lists\n",
      "Amazon Web Services\n",
      "Azure\n",
      "Babel\n",
      "Bash\n",
      "Bitcoin\n",
      "Bootstrap\n",
      "Bot\n",
      "C\n",
      "Chrome\n",
      "Chrome extension\n",
      "Command line interface\n",
      "Clojure\n",
      "Code quality\n",
      "Code review\n",
      "Compiler\n",
      "Continuous integration\n",
      "COVID-19\n",
      "C++\n"
     ]
    }
   ],
   "source": [
    "for topic_tag in topic_tags:\n",
    "    print(topic_tag.contents[0])"
   ]
  },
  {
   "cell_type": "code",
   "execution_count": 12,
   "metadata": {},
   "outputs": [
    {
     "name": "stdout",
     "output_type": "stream",
     "text": [
      "3D\n",
      "Ajax\n",
      "Algorithm\n",
      "Amp\n",
      "Android\n",
      "Angular\n",
      "Ansible\n",
      "API\n",
      "Arduino\n",
      "ASP.NET\n",
      "Atom\n",
      "Awesome Lists\n",
      "Amazon Web Services\n",
      "Azure\n",
      "Babel\n",
      "Bash\n",
      "Bitcoin\n",
      "Bootstrap\n",
      "Bot\n",
      "C\n",
      "Chrome\n",
      "Chrome extension\n",
      "Command line interface\n",
      "Clojure\n",
      "Code quality\n",
      "Code review\n",
      "Compiler\n",
      "Continuous integration\n",
      "COVID-19\n",
      "C++\n"
     ]
    }
   ],
   "source": [
    "for topic_tag in topic_tags:\n",
    "    print(topic_tag.text)"
   ]
  },
  {
   "cell_type": "code",
   "execution_count": 14,
   "metadata": {},
   "outputs": [
    {
     "data": {
      "text/plain": [
       "bs4.element.Tag"
      ]
     },
     "execution_count": 14,
     "metadata": {},
     "output_type": "execute_result"
    },
    {
     "data": {
      "text/plain": [
       "['DEFAULT_INTERESTING_STRING_TYPES',\n",
       " '__bool__',\n",
       " '__call__',\n",
       " '__class__',\n",
       " '__contains__',\n",
       " '__copy__',\n",
       " '__delattr__',\n",
       " '__delitem__',\n",
       " '__dict__',\n",
       " '__dir__',\n",
       " '__doc__',\n",
       " '__eq__',\n",
       " '__format__',\n",
       " '__ge__',\n",
       " '__getattr__',\n",
       " '__getattribute__',\n",
       " '__getitem__',\n",
       " '__getstate__',\n",
       " '__gt__',\n",
       " '__hash__',\n",
       " '__init__',\n",
       " '__init_subclass__',\n",
       " '__iter__',\n",
       " '__le__',\n",
       " '__len__',\n",
       " '__lt__',\n",
       " '__module__',\n",
       " '__ne__',\n",
       " '__new__',\n",
       " '__reduce__',\n",
       " '__reduce_ex__',\n",
       " '__repr__',\n",
       " '__setattr__',\n",
       " '__setitem__',\n",
       " '__sizeof__',\n",
       " '__str__',\n",
       " '__subclasshook__',\n",
       " '__unicode__',\n",
       " '__weakref__',\n",
       " '_all_strings',\n",
       " '_find_all',\n",
       " '_find_one',\n",
       " '_is_xml',\n",
       " '_lastRecursiveChild',\n",
       " '_last_descendant',\n",
       " '_namespaces',\n",
       " '_should_pretty_print',\n",
       " 'append',\n",
       " 'attrs',\n",
       " 'can_be_empty_element',\n",
       " 'cdata_list_attributes',\n",
       " 'childGenerator',\n",
       " 'children',\n",
       " 'clear',\n",
       " 'contents',\n",
       " 'decode',\n",
       " 'decode_contents',\n",
       " 'decompose',\n",
       " 'decomposed',\n",
       " 'default',\n",
       " 'descendants',\n",
       " 'encode',\n",
       " 'encode_contents',\n",
       " 'extend',\n",
       " 'extract',\n",
       " 'fetchNextSiblings',\n",
       " 'fetchParents',\n",
       " 'fetchPrevious',\n",
       " 'fetchPreviousSiblings',\n",
       " 'find',\n",
       " 'findAll',\n",
       " 'findAllNext',\n",
       " 'findAllPrevious',\n",
       " 'findChild',\n",
       " 'findChildren',\n",
       " 'findNext',\n",
       " 'findNextSibling',\n",
       " 'findNextSiblings',\n",
       " 'findParent',\n",
       " 'findParents',\n",
       " 'findPrevious',\n",
       " 'findPreviousSibling',\n",
       " 'findPreviousSiblings',\n",
       " 'find_all',\n",
       " 'find_all_next',\n",
       " 'find_all_previous',\n",
       " 'find_next',\n",
       " 'find_next_sibling',\n",
       " 'find_next_siblings',\n",
       " 'find_parent',\n",
       " 'find_parents',\n",
       " 'find_previous',\n",
       " 'find_previous_sibling',\n",
       " 'find_previous_siblings',\n",
       " 'format_string',\n",
       " 'formatter_for_name',\n",
       " 'get',\n",
       " 'getText',\n",
       " 'get_attribute_list',\n",
       " 'get_text',\n",
       " 'has_attr',\n",
       " 'has_key',\n",
       " 'hidden',\n",
       " 'index',\n",
       " 'insert',\n",
       " 'insert_after',\n",
       " 'insert_before',\n",
       " 'interesting_string_types',\n",
       " 'isSelfClosing',\n",
       " 'is_empty_element',\n",
       " 'known_xml',\n",
       " 'name',\n",
       " 'namespace',\n",
       " 'next',\n",
       " 'nextGenerator',\n",
       " 'nextSibling',\n",
       " 'nextSiblingGenerator',\n",
       " 'next_element',\n",
       " 'next_elements',\n",
       " 'next_sibling',\n",
       " 'next_siblings',\n",
       " 'parent',\n",
       " 'parentGenerator',\n",
       " 'parents',\n",
       " 'parserClass',\n",
       " 'parser_class',\n",
       " 'prefix',\n",
       " 'preserve_whitespace_tags',\n",
       " 'prettify',\n",
       " 'previous',\n",
       " 'previousGenerator',\n",
       " 'previousSibling',\n",
       " 'previousSiblingGenerator',\n",
       " 'previous_element',\n",
       " 'previous_elements',\n",
       " 'previous_sibling',\n",
       " 'previous_siblings',\n",
       " 'recursiveChildGenerator',\n",
       " 'renderContents',\n",
       " 'replaceWith',\n",
       " 'replaceWithChildren',\n",
       " 'replace_with',\n",
       " 'replace_with_children',\n",
       " 'select',\n",
       " 'select_one',\n",
       " 'setup',\n",
       " 'smooth',\n",
       " 'sourceline',\n",
       " 'sourcepos',\n",
       " 'string',\n",
       " 'strings',\n",
       " 'stripped_strings',\n",
       " 'text',\n",
       " 'unwrap',\n",
       " 'wrap']"
      ]
     },
     "execution_count": 14,
     "metadata": {},
     "output_type": "execute_result"
    }
   ],
   "source": [
    "type(topic_tags[0])\n",
    "\n",
    "dir(topic_tags[0])\n",
    "\n",
    "# <p class=\"f3 lh-condensed mb-0 mt-1 Link--primary\">3D</p>"
   ]
  },
  {
   "cell_type": "code",
   "execution_count": 15,
   "metadata": {},
   "outputs": [],
   "source": [
    "url_class ='no-underline flex-1 d-flex flex-column'\n",
    "url_tags = soup.find_all('a')"
   ]
  },
  {
   "cell_type": "code",
   "execution_count": 16,
   "metadata": {},
   "outputs": [
    {
     "data": {
      "text/plain": [
       "160"
      ]
     },
     "execution_count": 16,
     "metadata": {},
     "output_type": "execute_result"
    },
    {
     "data": {
      "text/plain": [
       "<a class=\"px-2 py-4 color-bg-accent-emphasis color-fg-on-emphasis show-on-focus js-skip-to-content\" href=\"#start-of-content\">Skip to content</a>"
      ]
     },
     "execution_count": 16,
     "metadata": {},
     "output_type": "execute_result"
    }
   ],
   "source": [
    "len(url_tags)\n",
    "\n",
    "url_tags[0]"
   ]
  },
  {
   "cell_type": "code",
   "execution_count": 17,
   "metadata": {},
   "outputs": [
    {
     "data": {
      "text/plain": [
       "'https://github.com'"
      ]
     },
     "execution_count": 17,
     "metadata": {},
     "output_type": "execute_result"
    }
   ],
   "source": [
    "git_base_url = 'https://github.com'\n",
    "git_base_url"
   ]
  },
  {
   "cell_type": "code",
   "execution_count": 18,
   "metadata": {},
   "outputs": [
    {
     "data": {
      "text/plain": [
       "'https://github.com#start-of-content'"
      ]
     },
     "execution_count": 18,
     "metadata": {},
     "output_type": "execute_result"
    }
   ],
   "source": [
    "new_url = git_base_url + url_tags[0].get('href')\n",
    "\n",
    "new_url\n"
   ]
  },
  {
   "cell_type": "code",
   "execution_count": 19,
   "metadata": {},
   "outputs": [
    {
     "name": "stdout",
     "output_type": "stream",
     "text": [
      "https://github.com#start-of-content\n",
      "https://github.comhttps://github.com/\n",
      "https://github.com/signup?ref_cta=Sign+up&ref_loc=header+logged+out&ref_page=%2Ftopics&source=header\n",
      "https://github.com/features/actions\n",
      "https://github.com/features/packages\n",
      "https://github.com/features/security\n",
      "https://github.com/features/codespaces\n",
      "https://github.com/features/copilot\n",
      "https://github.com/features/code-review\n",
      "https://github.com/features/issues\n",
      "https://github.com/features/discussions\n",
      "https://github.com/features\n",
      "https://github.comhttps://docs.github.com\n",
      "https://github.comhttps://skills.github.com/\n",
      "https://github.comhttps://github.blog\n",
      "https://github.com/enterprise\n",
      "https://github.com/team\n",
      "https://github.com/enterprise/startups\n",
      "https://github.comhttps://education.github.com\n",
      "https://github.com/solutions/ci-cd/\n",
      "https://github.comhttps://resources.github.com/devops/\n",
      "https://github.comhttps://resources.github.com/devops/fundamentals/devsecops/\n",
      "https://github.com/customer-stories\n",
      "https://github.comhttps://resources.github.com/\n",
      "https://github.com/sponsors\n",
      "https://github.com/readme\n",
      "https://github.com/topics\n",
      "https://github.com/trending\n",
      "https://github.com/collections\n",
      "https://github.com/pricing\n",
      "https://github.com\n",
      "https://github.com\n",
      "https://github.com\n",
      "https://github.com\n",
      "https://github.com/login?return_to=https%3A%2F%2Fgithub.com%2Ftopics%2F\n",
      "https://github.com/signup?ref_cta=Sign+up&ref_loc=header+logged+out&ref_page=%2Ftopics&source=header\n",
      "https://github.com/explore\n",
      "https://github.com/topics\n",
      "https://github.com/trending\n",
      "https://github.com/collections\n",
      "https://github.com/events\n",
      "https://github.com/sponsors/explore\n",
      "https://github.com/explore/email\n",
      "https://github.com/topics/ethereum\n",
      "https://github.com/topics/linux\n",
      "https://github.com/topics/ajax\n",
      "https://github.com/topics/3d\n",
      "https://github.com/topics/3d\n",
      "https://github.com/login?return_to=%2Ftopic.3d\n",
      "https://github.com/topics/ajax\n",
      "https://github.com/topics/ajax\n",
      "https://github.com/login?return_to=%2Ftopic.ajax\n",
      "https://github.com/topics/algorithm\n",
      "https://github.com/topics/algorithm\n",
      "https://github.com/login?return_to=%2Ftopic.algorithm\n",
      "https://github.com/topics/amphp\n",
      "https://github.com/topics/amphp\n",
      "https://github.com/login?return_to=%2Ftopic.amphp\n",
      "https://github.com/topics/android\n",
      "https://github.com/topics/android\n",
      "https://github.com/login?return_to=%2Ftopic.android\n",
      "https://github.com/topics/angular\n",
      "https://github.com/topics/angular\n",
      "https://github.com/login?return_to=%2Ftopic.angular\n",
      "https://github.com/topics/ansible\n",
      "https://github.com/topics/ansible\n",
      "https://github.com/login?return_to=%2Ftopic.ansible\n",
      "https://github.com/topics/api\n",
      "https://github.com/topics/api\n",
      "https://github.com/login?return_to=%2Ftopic.api\n",
      "https://github.com/topics/arduino\n",
      "https://github.com/topics/arduino\n",
      "https://github.com/login?return_to=%2Ftopic.arduino\n",
      "https://github.com/topics/aspnet\n",
      "https://github.com/topics/aspnet\n",
      "https://github.com/login?return_to=%2Ftopic.aspnet\n",
      "https://github.com/topics/atom\n",
      "https://github.com/topics/atom\n",
      "https://github.com/login?return_to=%2Ftopic.atom\n",
      "https://github.com/topics/awesome\n",
      "https://github.com/topics/awesome\n",
      "https://github.com/login?return_to=%2Ftopic.awesome\n",
      "https://github.com/topics/aws\n",
      "https://github.com/topics/aws\n",
      "https://github.com/login?return_to=%2Ftopic.aws\n",
      "https://github.com/topics/azure\n",
      "https://github.com/topics/azure\n",
      "https://github.com/login?return_to=%2Ftopic.azure\n",
      "https://github.com/topics/babel\n",
      "https://github.com/topics/babel\n",
      "https://github.com/login?return_to=%2Ftopic.babel\n",
      "https://github.com/topics/bash\n",
      "https://github.com/topics/bash\n",
      "https://github.com/login?return_to=%2Ftopic.bash\n",
      "https://github.com/topics/bitcoin\n",
      "https://github.com/topics/bitcoin\n",
      "https://github.com/login?return_to=%2Ftopic.bitcoin\n",
      "https://github.com/topics/bootstrap\n",
      "https://github.com/topics/bootstrap\n",
      "https://github.com/login?return_to=%2Ftopic.bootstrap\n",
      "https://github.com/topics/bot\n",
      "https://github.com/topics/bot\n",
      "https://github.com/login?return_to=%2Ftopic.bot\n",
      "https://github.com/topics/c\n",
      "https://github.com/topics/c\n",
      "https://github.com/login?return_to=%2Ftopic.c\n",
      "https://github.com/topics/chrome\n",
      "https://github.com/topics/chrome\n",
      "https://github.com/login?return_to=%2Ftopic.chrome\n",
      "https://github.com/topics/chrome-extension\n",
      "https://github.com/topics/chrome-extension\n",
      "https://github.com/login?return_to=%2Ftopic.chrome-extension\n",
      "https://github.com/topics/cli\n",
      "https://github.com/topics/cli\n",
      "https://github.com/login?return_to=%2Ftopic.cli\n",
      "https://github.com/topics/clojure\n",
      "https://github.com/topics/clojure\n",
      "https://github.com/login?return_to=%2Ftopic.clojure\n",
      "https://github.com/topics/code-quality\n",
      "https://github.com/topics/code-quality\n",
      "https://github.com/login?return_to=%2Ftopic.code-quality\n",
      "https://github.com/topics/code-review\n",
      "https://github.com/topics/code-review\n",
      "https://github.com/login?return_to=%2Ftopic.code-review\n",
      "https://github.com/topics/compiler\n",
      "https://github.com/topics/compiler\n",
      "https://github.com/login?return_to=%2Ftopic.compiler\n",
      "https://github.com/topics/continuous-integration\n",
      "https://github.com/topics/continuous-integration\n",
      "https://github.com/login?return_to=%2Ftopic.continuous-integration\n",
      "https://github.com/topics/covid-19\n",
      "https://github.com/topics/covid-19\n",
      "https://github.com/login?return_to=%2Ftopic.covid-19\n",
      "https://github.com/topics/cpp\n",
      "https://github.com/topics/cpp\n",
      "https://github.com/login?return_to=%2Ftopic.cpp\n",
      "https://github.com/topics/github\n",
      "https://github.com/topics/react\n",
      "https://github.com/topics/javascript\n",
      "https://github.com/topics/css\n",
      "https://github.com/topics/config\n",
      "https://github.com/topics/python\n",
      "https://github.com/topics/git\n",
      "https://github.com/topics/html\n",
      "https://github.com/topics/typescript\n",
      "https://github.com/topics/github-config\n",
      "https://github.comhttps://github.com\n",
      "https://github.comhttps://docs.github.com/site-policy/github-terms/github-terms-of-service\n",
      "https://github.comhttps://docs.github.com/site-policy/privacy-policies/github-privacy-statement\n",
      "https://github.comhttps://github.com/security\n",
      "https://github.comhttps://www.githubstatus.com/\n",
      "https://github.comhttps://docs.github.com\n",
      "https://github.comhttps://support.github.com?tags=dotcom-footer\n",
      "https://github.comhttps://github.com/pricing\n",
      "https://github.comhttps://docs.github.com\n",
      "https://github.comhttps://services.github.com\n",
      "https://github.comhttps://github.blog\n",
      "https://github.comhttps://github.com/about\n",
      "https://github.com\n",
      "https://github.com\n"
     ]
    }
   ],
   "source": [
    "for url_tag in url_tags:\n",
    "    print(git_base_url + url_tag.get('href'))"
   ]
  },
  {
   "cell_type": "code",
   "execution_count": 20,
   "metadata": {},
   "outputs": [],
   "source": [
    "real_urls =[]\n",
    "for url_tag in url_tags:\n",
    "    real_urls.append(git_base_url + url_tag.get('href'))\n",
    "\n"
   ]
  },
  {
   "cell_type": "code",
   "execution_count": 21,
   "metadata": {},
   "outputs": [],
   "source": [
    "real_topics=[]\n",
    "for topic_tag in topic_tags:\n",
    "    real_topics.append(topic_tag.text)"
   ]
  },
  {
   "cell_type": "code",
   "execution_count": 22,
   "metadata": {},
   "outputs": [
    {
     "data": {
      "text/plain": [
       "['3D',\n",
       " 'Ajax',\n",
       " 'Algorithm',\n",
       " 'Amp',\n",
       " 'Android',\n",
       " 'Angular',\n",
       " 'Ansible',\n",
       " 'API',\n",
       " 'Arduino',\n",
       " 'ASP.NET',\n",
       " 'Atom',\n",
       " 'Awesome Lists',\n",
       " 'Amazon Web Services',\n",
       " 'Azure',\n",
       " 'Babel',\n",
       " 'Bash',\n",
       " 'Bitcoin',\n",
       " 'Bootstrap',\n",
       " 'Bot',\n",
       " 'C',\n",
       " 'Chrome',\n",
       " 'Chrome extension',\n",
       " 'Command line interface',\n",
       " 'Clojure',\n",
       " 'Code quality',\n",
       " 'Code review',\n",
       " 'Compiler',\n",
       " 'Continuous integration',\n",
       " 'COVID-19',\n",
       " 'C++']"
      ]
     },
     "execution_count": 22,
     "metadata": {},
     "output_type": "execute_result"
    }
   ],
   "source": [
    "real_topics"
   ]
  },
  {
   "cell_type": "code",
   "execution_count": 23,
   "metadata": {},
   "outputs": [
    {
     "data": {
      "text/plain": [
       "{'topics': ['3D',\n",
       "  'Ajax',\n",
       "  'Algorithm',\n",
       "  'Amp',\n",
       "  'Android',\n",
       "  'Angular',\n",
       "  'Ansible',\n",
       "  'API',\n",
       "  'Arduino',\n",
       "  'ASP.NET',\n",
       "  'Atom',\n",
       "  'Awesome Lists',\n",
       "  'Amazon Web Services',\n",
       "  'Azure',\n",
       "  'Babel',\n",
       "  'Bash',\n",
       "  'Bitcoin',\n",
       "  'Bootstrap',\n",
       "  'Bot',\n",
       "  'C',\n",
       "  'Chrome',\n",
       "  'Chrome extension',\n",
       "  'Command line interface',\n",
       "  'Clojure',\n",
       "  'Code quality',\n",
       "  'Code review',\n",
       "  'Compiler',\n",
       "  'Continuous integration',\n",
       "  'COVID-19',\n",
       "  'C++'],\n",
       " 'urls': ['https://github.com#start-of-content',\n",
       "  'https://github.comhttps://github.com/',\n",
       "  'https://github.com/signup?ref_cta=Sign+up&ref_loc=header+logged+out&ref_page=%2Ftopics&source=header',\n",
       "  'https://github.com/features/actions',\n",
       "  'https://github.com/features/packages',\n",
       "  'https://github.com/features/security',\n",
       "  'https://github.com/features/codespaces',\n",
       "  'https://github.com/features/copilot',\n",
       "  'https://github.com/features/code-review',\n",
       "  'https://github.com/features/issues',\n",
       "  'https://github.com/features/discussions',\n",
       "  'https://github.com/features',\n",
       "  'https://github.comhttps://docs.github.com',\n",
       "  'https://github.comhttps://skills.github.com/',\n",
       "  'https://github.comhttps://github.blog',\n",
       "  'https://github.com/enterprise',\n",
       "  'https://github.com/team',\n",
       "  'https://github.com/enterprise/startups',\n",
       "  'https://github.comhttps://education.github.com',\n",
       "  'https://github.com/solutions/ci-cd/',\n",
       "  'https://github.comhttps://resources.github.com/devops/',\n",
       "  'https://github.comhttps://resources.github.com/devops/fundamentals/devsecops/',\n",
       "  'https://github.com/customer-stories',\n",
       "  'https://github.comhttps://resources.github.com/',\n",
       "  'https://github.com/sponsors',\n",
       "  'https://github.com/readme',\n",
       "  'https://github.com/topics',\n",
       "  'https://github.com/trending',\n",
       "  'https://github.com/collections',\n",
       "  'https://github.com/pricing',\n",
       "  'https://github.com',\n",
       "  'https://github.com',\n",
       "  'https://github.com',\n",
       "  'https://github.com',\n",
       "  'https://github.com/login?return_to=https%3A%2F%2Fgithub.com%2Ftopics%2F',\n",
       "  'https://github.com/signup?ref_cta=Sign+up&ref_loc=header+logged+out&ref_page=%2Ftopics&source=header',\n",
       "  'https://github.com/explore',\n",
       "  'https://github.com/topics',\n",
       "  'https://github.com/trending',\n",
       "  'https://github.com/collections',\n",
       "  'https://github.com/events',\n",
       "  'https://github.com/sponsors/explore',\n",
       "  'https://github.com/explore/email',\n",
       "  'https://github.com/topics/ethereum',\n",
       "  'https://github.com/topics/linux',\n",
       "  'https://github.com/topics/ajax',\n",
       "  'https://github.com/topics/3d',\n",
       "  'https://github.com/topics/3d',\n",
       "  'https://github.com/login?return_to=%2Ftopic.3d',\n",
       "  'https://github.com/topics/ajax',\n",
       "  'https://github.com/topics/ajax',\n",
       "  'https://github.com/login?return_to=%2Ftopic.ajax',\n",
       "  'https://github.com/topics/algorithm',\n",
       "  'https://github.com/topics/algorithm',\n",
       "  'https://github.com/login?return_to=%2Ftopic.algorithm',\n",
       "  'https://github.com/topics/amphp',\n",
       "  'https://github.com/topics/amphp',\n",
       "  'https://github.com/login?return_to=%2Ftopic.amphp',\n",
       "  'https://github.com/topics/android',\n",
       "  'https://github.com/topics/android',\n",
       "  'https://github.com/login?return_to=%2Ftopic.android',\n",
       "  'https://github.com/topics/angular',\n",
       "  'https://github.com/topics/angular',\n",
       "  'https://github.com/login?return_to=%2Ftopic.angular',\n",
       "  'https://github.com/topics/ansible',\n",
       "  'https://github.com/topics/ansible',\n",
       "  'https://github.com/login?return_to=%2Ftopic.ansible',\n",
       "  'https://github.com/topics/api',\n",
       "  'https://github.com/topics/api',\n",
       "  'https://github.com/login?return_to=%2Ftopic.api',\n",
       "  'https://github.com/topics/arduino',\n",
       "  'https://github.com/topics/arduino',\n",
       "  'https://github.com/login?return_to=%2Ftopic.arduino',\n",
       "  'https://github.com/topics/aspnet',\n",
       "  'https://github.com/topics/aspnet',\n",
       "  'https://github.com/login?return_to=%2Ftopic.aspnet',\n",
       "  'https://github.com/topics/atom',\n",
       "  'https://github.com/topics/atom',\n",
       "  'https://github.com/login?return_to=%2Ftopic.atom',\n",
       "  'https://github.com/topics/awesome',\n",
       "  'https://github.com/topics/awesome',\n",
       "  'https://github.com/login?return_to=%2Ftopic.awesome',\n",
       "  'https://github.com/topics/aws',\n",
       "  'https://github.com/topics/aws',\n",
       "  'https://github.com/login?return_to=%2Ftopic.aws',\n",
       "  'https://github.com/topics/azure',\n",
       "  'https://github.com/topics/azure',\n",
       "  'https://github.com/login?return_to=%2Ftopic.azure',\n",
       "  'https://github.com/topics/babel',\n",
       "  'https://github.com/topics/babel',\n",
       "  'https://github.com/login?return_to=%2Ftopic.babel',\n",
       "  'https://github.com/topics/bash',\n",
       "  'https://github.com/topics/bash',\n",
       "  'https://github.com/login?return_to=%2Ftopic.bash',\n",
       "  'https://github.com/topics/bitcoin',\n",
       "  'https://github.com/topics/bitcoin',\n",
       "  'https://github.com/login?return_to=%2Ftopic.bitcoin',\n",
       "  'https://github.com/topics/bootstrap',\n",
       "  'https://github.com/topics/bootstrap',\n",
       "  'https://github.com/login?return_to=%2Ftopic.bootstrap',\n",
       "  'https://github.com/topics/bot',\n",
       "  'https://github.com/topics/bot',\n",
       "  'https://github.com/login?return_to=%2Ftopic.bot',\n",
       "  'https://github.com/topics/c',\n",
       "  'https://github.com/topics/c',\n",
       "  'https://github.com/login?return_to=%2Ftopic.c',\n",
       "  'https://github.com/topics/chrome',\n",
       "  'https://github.com/topics/chrome',\n",
       "  'https://github.com/login?return_to=%2Ftopic.chrome',\n",
       "  'https://github.com/topics/chrome-extension',\n",
       "  'https://github.com/topics/chrome-extension',\n",
       "  'https://github.com/login?return_to=%2Ftopic.chrome-extension',\n",
       "  'https://github.com/topics/cli',\n",
       "  'https://github.com/topics/cli',\n",
       "  'https://github.com/login?return_to=%2Ftopic.cli',\n",
       "  'https://github.com/topics/clojure',\n",
       "  'https://github.com/topics/clojure',\n",
       "  'https://github.com/login?return_to=%2Ftopic.clojure',\n",
       "  'https://github.com/topics/code-quality',\n",
       "  'https://github.com/topics/code-quality',\n",
       "  'https://github.com/login?return_to=%2Ftopic.code-quality',\n",
       "  'https://github.com/topics/code-review',\n",
       "  'https://github.com/topics/code-review',\n",
       "  'https://github.com/login?return_to=%2Ftopic.code-review',\n",
       "  'https://github.com/topics/compiler',\n",
       "  'https://github.com/topics/compiler',\n",
       "  'https://github.com/login?return_to=%2Ftopic.compiler',\n",
       "  'https://github.com/topics/continuous-integration',\n",
       "  'https://github.com/topics/continuous-integration',\n",
       "  'https://github.com/login?return_to=%2Ftopic.continuous-integration',\n",
       "  'https://github.com/topics/covid-19',\n",
       "  'https://github.com/topics/covid-19',\n",
       "  'https://github.com/login?return_to=%2Ftopic.covid-19',\n",
       "  'https://github.com/topics/cpp',\n",
       "  'https://github.com/topics/cpp',\n",
       "  'https://github.com/login?return_to=%2Ftopic.cpp',\n",
       "  'https://github.com/topics/github',\n",
       "  'https://github.com/topics/react',\n",
       "  'https://github.com/topics/javascript',\n",
       "  'https://github.com/topics/css',\n",
       "  'https://github.com/topics/config',\n",
       "  'https://github.com/topics/python',\n",
       "  'https://github.com/topics/git',\n",
       "  'https://github.com/topics/html',\n",
       "  'https://github.com/topics/typescript',\n",
       "  'https://github.com/topics/github-config',\n",
       "  'https://github.comhttps://github.com',\n",
       "  'https://github.comhttps://docs.github.com/site-policy/github-terms/github-terms-of-service',\n",
       "  'https://github.comhttps://docs.github.com/site-policy/privacy-policies/github-privacy-statement',\n",
       "  'https://github.comhttps://github.com/security',\n",
       "  'https://github.comhttps://www.githubstatus.com/',\n",
       "  'https://github.comhttps://docs.github.com',\n",
       "  'https://github.comhttps://support.github.com?tags=dotcom-footer',\n",
       "  'https://github.comhttps://github.com/pricing',\n",
       "  'https://github.comhttps://docs.github.com',\n",
       "  'https://github.comhttps://services.github.com',\n",
       "  'https://github.comhttps://github.blog',\n",
       "  'https://github.comhttps://github.com/about',\n",
       "  'https://github.com',\n",
       "  'https://github.com']}"
      ]
     },
     "execution_count": 23,
     "metadata": {},
     "output_type": "execute_result"
    }
   ],
   "source": [
    "topics_dict = {'topics':real_topics,'urls':real_urls}\n",
    "topics_dict"
   ]
  },
  {
   "cell_type": "code",
   "execution_count": 25,
   "metadata": {},
   "outputs": [
    {
     "ename": "ValueError",
     "evalue": "All arrays must be of the same length",
     "output_type": "error",
     "traceback": [
      "\u001b[1;31m---------------------------------------------------------------------------\u001b[0m",
      "\u001b[1;31mValueError\u001b[0m                                Traceback (most recent call last)",
      "Cell \u001b[1;32mIn[25], line 2\u001b[0m\n\u001b[0;32m      1\u001b[0m \u001b[39mimport\u001b[39;00m \u001b[39mpandas\u001b[39;00m \u001b[39mas\u001b[39;00m \u001b[39mpd\u001b[39;00m\n\u001b[1;32m----> 2\u001b[0m df \u001b[39m=\u001b[39m pd\u001b[39m.\u001b[39;49mDataFrame(topics_dict)\n",
      "File \u001b[1;32mc:\\Users\\LENOVO\\AppData\\Local\\Programs\\Python\\Python311\\Lib\\site-packages\\pandas\\core\\frame.py:664\u001b[0m, in \u001b[0;36mDataFrame.__init__\u001b[1;34m(self, data, index, columns, dtype, copy)\u001b[0m\n\u001b[0;32m    658\u001b[0m     mgr \u001b[39m=\u001b[39m \u001b[39mself\u001b[39m\u001b[39m.\u001b[39m_init_mgr(\n\u001b[0;32m    659\u001b[0m         data, axes\u001b[39m=\u001b[39m{\u001b[39m\"\u001b[39m\u001b[39mindex\u001b[39m\u001b[39m\"\u001b[39m: index, \u001b[39m\"\u001b[39m\u001b[39mcolumns\u001b[39m\u001b[39m\"\u001b[39m: columns}, dtype\u001b[39m=\u001b[39mdtype, copy\u001b[39m=\u001b[39mcopy\n\u001b[0;32m    660\u001b[0m     )\n\u001b[0;32m    662\u001b[0m \u001b[39melif\u001b[39;00m \u001b[39misinstance\u001b[39m(data, \u001b[39mdict\u001b[39m):\n\u001b[0;32m    663\u001b[0m     \u001b[39m# GH#38939 de facto copy defaults to False only in non-dict cases\u001b[39;00m\n\u001b[1;32m--> 664\u001b[0m     mgr \u001b[39m=\u001b[39m dict_to_mgr(data, index, columns, dtype\u001b[39m=\u001b[39;49mdtype, copy\u001b[39m=\u001b[39;49mcopy, typ\u001b[39m=\u001b[39;49mmanager)\n\u001b[0;32m    665\u001b[0m \u001b[39melif\u001b[39;00m \u001b[39misinstance\u001b[39m(data, ma\u001b[39m.\u001b[39mMaskedArray):\n\u001b[0;32m    666\u001b[0m     \u001b[39mimport\u001b[39;00m \u001b[39mnumpy\u001b[39;00m\u001b[39m.\u001b[39;00m\u001b[39mma\u001b[39;00m\u001b[39m.\u001b[39;00m\u001b[39mmrecords\u001b[39;00m \u001b[39mas\u001b[39;00m \u001b[39mmrecords\u001b[39;00m\n",
      "File \u001b[1;32mc:\\Users\\LENOVO\\AppData\\Local\\Programs\\Python\\Python311\\Lib\\site-packages\\pandas\\core\\internals\\construction.py:493\u001b[0m, in \u001b[0;36mdict_to_mgr\u001b[1;34m(data, index, columns, dtype, typ, copy)\u001b[0m\n\u001b[0;32m    489\u001b[0m     \u001b[39melse\u001b[39;00m:\n\u001b[0;32m    490\u001b[0m         \u001b[39m# dtype check to exclude e.g. range objects, scalars\u001b[39;00m\n\u001b[0;32m    491\u001b[0m         arrays \u001b[39m=\u001b[39m [x\u001b[39m.\u001b[39mcopy() \u001b[39mif\u001b[39;00m \u001b[39mhasattr\u001b[39m(x, \u001b[39m\"\u001b[39m\u001b[39mdtype\u001b[39m\u001b[39m\"\u001b[39m) \u001b[39melse\u001b[39;00m x \u001b[39mfor\u001b[39;00m x \u001b[39min\u001b[39;00m arrays]\n\u001b[1;32m--> 493\u001b[0m \u001b[39mreturn\u001b[39;00m arrays_to_mgr(arrays, columns, index, dtype\u001b[39m=\u001b[39;49mdtype, typ\u001b[39m=\u001b[39;49mtyp, consolidate\u001b[39m=\u001b[39;49mcopy)\n",
      "File \u001b[1;32mc:\\Users\\LENOVO\\AppData\\Local\\Programs\\Python\\Python311\\Lib\\site-packages\\pandas\\core\\internals\\construction.py:118\u001b[0m, in \u001b[0;36marrays_to_mgr\u001b[1;34m(arrays, columns, index, dtype, verify_integrity, typ, consolidate)\u001b[0m\n\u001b[0;32m    115\u001b[0m \u001b[39mif\u001b[39;00m verify_integrity:\n\u001b[0;32m    116\u001b[0m     \u001b[39m# figure out the index, if necessary\u001b[39;00m\n\u001b[0;32m    117\u001b[0m     \u001b[39mif\u001b[39;00m index \u001b[39mis\u001b[39;00m \u001b[39mNone\u001b[39;00m:\n\u001b[1;32m--> 118\u001b[0m         index \u001b[39m=\u001b[39m _extract_index(arrays)\n\u001b[0;32m    119\u001b[0m     \u001b[39melse\u001b[39;00m:\n\u001b[0;32m    120\u001b[0m         index \u001b[39m=\u001b[39m ensure_index(index)\n",
      "File \u001b[1;32mc:\\Users\\LENOVO\\AppData\\Local\\Programs\\Python\\Python311\\Lib\\site-packages\\pandas\\core\\internals\\construction.py:666\u001b[0m, in \u001b[0;36m_extract_index\u001b[1;34m(data)\u001b[0m\n\u001b[0;32m    664\u001b[0m lengths \u001b[39m=\u001b[39m \u001b[39mlist\u001b[39m(\u001b[39mset\u001b[39m(raw_lengths))\n\u001b[0;32m    665\u001b[0m \u001b[39mif\u001b[39;00m \u001b[39mlen\u001b[39m(lengths) \u001b[39m>\u001b[39m \u001b[39m1\u001b[39m:\n\u001b[1;32m--> 666\u001b[0m     \u001b[39mraise\u001b[39;00m \u001b[39mValueError\u001b[39;00m(\u001b[39m\"\u001b[39m\u001b[39mAll arrays must be of the same length\u001b[39m\u001b[39m\"\u001b[39m)\n\u001b[0;32m    668\u001b[0m \u001b[39mif\u001b[39;00m have_dicts:\n\u001b[0;32m    669\u001b[0m     \u001b[39mraise\u001b[39;00m \u001b[39mValueError\u001b[39;00m(\n\u001b[0;32m    670\u001b[0m         \u001b[39m\"\u001b[39m\u001b[39mMixing dicts with non-Series may lead to ambiguous ordering.\u001b[39m\u001b[39m\"\u001b[39m\n\u001b[0;32m    671\u001b[0m     )\n",
      "\u001b[1;31mValueError\u001b[0m: All arrays must be of the same length"
     ]
    }
   ],
   "source": [
    "import pandas as pd\n",
    "df = pd.DataFrame(topics_dict)"
   ]
  },
  {
   "cell_type": "code",
   "execution_count": 26,
   "metadata": {},
   "outputs": [
    {
     "ename": "NameError",
     "evalue": "name 'df' is not defined",
     "output_type": "error",
     "traceback": [
      "\u001b[1;31m---------------------------------------------------------------------------\u001b[0m",
      "\u001b[1;31mNameError\u001b[0m                                 Traceback (most recent call last)",
      "Cell \u001b[1;32mIn[26], line 1\u001b[0m\n\u001b[1;32m----> 1\u001b[0m df\u001b[39m.\u001b[39mto_csv(\u001b[39m'\u001b[39m\u001b[39mtopics.csv\u001b[39m\u001b[39m'\u001b[39m,index\u001b[39m=\u001b[39m\u001b[39mFalse\u001b[39;00m)\n",
      "\u001b[1;31mNameError\u001b[0m: name 'df' is not defined"
     ]
    }
   ],
   "source": [
    "df.to_csv('topics.csv',index=False)"
   ]
  },
  {
   "cell_type": "code",
   "execution_count": 27,
   "metadata": {},
   "outputs": [],
   "source": [
    "\n",
    "import requests\n",
    "topic_url = \"https://github.com/topics/3d\"\n"
   ]
  },
  {
   "cell_type": "code",
   "execution_count": 28,
   "metadata": {},
   "outputs": [],
   "source": [
    "response = requests.get(topic_url)"
   ]
  },
  {
   "cell_type": "code",
   "execution_count": 29,
   "metadata": {},
   "outputs": [
    {
     "data": {
      "text/plain": [
       "200"
      ]
     },
     "execution_count": 29,
     "metadata": {},
     "output_type": "execute_result"
    }
   ],
   "source": [
    "response.status_code"
   ]
  },
  {
   "cell_type": "code",
   "execution_count": 30,
   "metadata": {},
   "outputs": [],
   "source": [
    "with open(\"webpage.html\", 'w', encoding='utf-8') as fp: \n",
    "    fp.writelines(response.text)"
   ]
  },
  {
   "cell_type": "code",
   "execution_count": 31,
   "metadata": {},
   "outputs": [],
   "source": [
    "from bs4 import BeautifulSoup\n",
    "soup = BeautifulSoup(response.text, 'html.parser')\n"
   ]
  },
  {
   "cell_type": "code",
   "execution_count": 32,
   "metadata": {},
   "outputs": [],
   "source": [
    "project_class = 'f3 color-fg-muted text-normal lh-condensed'\n",
    "project_tags = soup.find_all('h3', project_class)"
   ]
  },
  {
   "cell_type": "code",
   "execution_count": 33,
   "metadata": {},
   "outputs": [],
   "source": [
    "authors =[]\n",
    "for project_tag in project_tags:\n",
    "    authors.append(project_tag.text.strip().split('\\n')[0])\n",
    "    \n"
   ]
  },
  {
   "cell_type": "code",
   "execution_count": 52,
   "metadata": {},
   "outputs": [],
   "source": [
    "stars_class = 'Counter js-social-count'\n",
    "star_tags = soup.find_all('span', stars_class)"
   ]
  },
  {
   "cell_type": "code",
   "execution_count": 53,
   "metadata": {},
   "outputs": [
    {
     "data": {
      "text/plain": [
       "'91,887'"
      ]
     },
     "execution_count": 53,
     "metadata": {},
     "output_type": "execute_result"
    }
   ],
   "source": [
    "star_tags[0].get(\"title\")"
   ]
  },
  {
   "cell_type": "code",
   "execution_count": 49,
   "metadata": {},
   "outputs": [
    {
     "name": "stdout",
     "output_type": "stream",
     "text": [
      "91.9k\n"
     ]
    }
   ],
   "source": [
    "for i in star_tags[0].children:\n",
    "    print(i)"
   ]
  },
  {
   "cell_type": "code",
   "execution_count": 23,
   "metadata": {},
   "outputs": [
    {
     "data": {
      "text/plain": [
       "['mrdoob',\n",
       " 'pmndrs',\n",
       " 'libgdx',\n",
       " 'BabylonJS',\n",
       " 'ssloy',\n",
       " 'aframevr',\n",
       " 'lettier',\n",
       " 'FreeCAD',\n",
       " 'CesiumGS',\n",
       " 'metafizzy',\n",
       " 'timzhang642',\n",
       " 'isl-org',\n",
       " 'blender',\n",
       " 'a1studmuffin',\n",
       " 'domlysz',\n",
       " 'FyroxEngine',\n",
       " 'openscad',\n",
       " 'google',\n",
       " 'spritejs',\n",
       " 'jagenjo']"
      ]
     },
     "execution_count": 23,
     "metadata": {},
     "output_type": "execute_result"
    }
   ],
   "source": [
    "authors"
   ]
  },
  {
   "cell_type": "code",
   "execution_count": 32,
   "metadata": {},
   "outputs": [],
   "source": [
    "project_url_class = 'text-bold wb-break-word'\n",
    "project_url_tags = soup.find_all('a', project_url_class)\n",
    "project_urls =[]\n",
    "\n",
    "\n",
    "for project_url in project_url_tags:\n",
    "    project_urls.append(str(topic_url) + str(project_url.get('href')))"
   ]
  },
  {
   "cell_type": "code",
   "execution_count": 33,
   "metadata": {},
   "outputs": [
    {
     "data": {
      "text/plain": [
       "['https://github.com/topics/3d/mrdoob/three.js',\n",
       " 'https://github.com/topics/3d/pmndrs/react-three-fiber',\n",
       " 'https://github.com/topics/3d/libgdx/libgdx',\n",
       " 'https://github.com/topics/3d/BabylonJS/Babylon.js',\n",
       " 'https://github.com/topics/3d/ssloy/tinyrenderer',\n",
       " 'https://github.com/topics/3d/aframevr/aframe',\n",
       " 'https://github.com/topics/3d/lettier/3d-game-shaders-for-beginners',\n",
       " 'https://github.com/topics/3d/FreeCAD/FreeCAD',\n",
       " 'https://github.com/topics/3d/CesiumGS/cesium',\n",
       " 'https://github.com/topics/3d/metafizzy/zdog',\n",
       " 'https://github.com/topics/3d/timzhang642/3D-Machine-Learning',\n",
       " 'https://github.com/topics/3d/isl-org/Open3D',\n",
       " 'https://github.com/topics/3d/blender/blender',\n",
       " 'https://github.com/topics/3d/a1studmuffin/SpaceshipGenerator',\n",
       " 'https://github.com/topics/3d/domlysz/BlenderGIS',\n",
       " 'https://github.com/topics/3d/FyroxEngine/Fyrox',\n",
       " 'https://github.com/topics/3d/openscad/openscad',\n",
       " 'https://github.com/topics/3d/google/model-viewer',\n",
       " 'https://github.com/topics/3d/spritejs/spritejs',\n",
       " 'https://github.com/topics/3d/jagenjo/webglstudio.js']"
      ]
     },
     "execution_count": 33,
     "metadata": {},
     "output_type": "execute_result"
    }
   ],
   "source": [
    "project_urls"
   ]
  },
  {
   "cell_type": "code",
   "execution_count": 34,
   "metadata": {},
   "outputs": [
    {
     "data": {
      "text/plain": [
       "{'Authors': ['mrdoob',\n",
       "  'pmndrs',\n",
       "  'libgdx',\n",
       "  'BabylonJS',\n",
       "  'ssloy',\n",
       "  'aframevr',\n",
       "  'lettier',\n",
       "  'FreeCAD',\n",
       "  'CesiumGS',\n",
       "  'metafizzy',\n",
       "  'timzhang642',\n",
       "  'isl-org',\n",
       "  'blender',\n",
       "  'a1studmuffin',\n",
       "  'domlysz',\n",
       "  'FyroxEngine',\n",
       "  'openscad',\n",
       "  'google',\n",
       "  'spritejs',\n",
       "  'jagenjo'],\n",
       " 'project_urls': ['https://github.com/topics/3d/mrdoob/three.js',\n",
       "  'https://github.com/topics/3d/pmndrs/react-three-fiber',\n",
       "  'https://github.com/topics/3d/libgdx/libgdx',\n",
       "  'https://github.com/topics/3d/BabylonJS/Babylon.js',\n",
       "  'https://github.com/topics/3d/ssloy/tinyrenderer',\n",
       "  'https://github.com/topics/3d/aframevr/aframe',\n",
       "  'https://github.com/topics/3d/lettier/3d-game-shaders-for-beginners',\n",
       "  'https://github.com/topics/3d/FreeCAD/FreeCAD',\n",
       "  'https://github.com/topics/3d/CesiumGS/cesium',\n",
       "  'https://github.com/topics/3d/metafizzy/zdog',\n",
       "  'https://github.com/topics/3d/timzhang642/3D-Machine-Learning',\n",
       "  'https://github.com/topics/3d/isl-org/Open3D',\n",
       "  'https://github.com/topics/3d/blender/blender',\n",
       "  'https://github.com/topics/3d/a1studmuffin/SpaceshipGenerator',\n",
       "  'https://github.com/topics/3d/domlysz/BlenderGIS',\n",
       "  'https://github.com/topics/3d/FyroxEngine/Fyrox',\n",
       "  'https://github.com/topics/3d/openscad/openscad',\n",
       "  'https://github.com/topics/3d/google/model-viewer',\n",
       "  'https://github.com/topics/3d/spritejs/spritejs',\n",
       "  'https://github.com/topics/3d/jagenjo/webglstudio.js']}"
      ]
     },
     "execution_count": 34,
     "metadata": {},
     "output_type": "execute_result"
    }
   ],
   "source": [
    "projects_dict = {'Authors':authors,'project_urls':project_urls}\n",
    "projects_dict"
   ]
  },
  {
   "cell_type": "code",
   "execution_count": 35,
   "metadata": {},
   "outputs": [],
   "source": [
    "import pandas as pd\n",
    "df = pd.DataFrame(projects_dict)\n",
    "df.to_csv('3d_topics.csv',index=False)"
   ]
  }
 ],
 "metadata": {
  "kernelspec": {
   "display_name": "Python 3",
   "language": "python",
   "name": "python3"
  },
  "language_info": {
   "codemirror_mode": {
    "name": "ipython",
    "version": 3
   },
   "file_extension": ".py",
   "mimetype": "text/x-python",
   "name": "python",
   "nbconvert_exporter": "python",
   "pygments_lexer": "ipython3",
   "version": "3.11.3"
  },
  "orig_nbformat": 4,
  "vscode": {
   "interpreter": {
    "hash": "108095e740c160118120ad5e22811b4aca9f414a6f3c55c969835bc2c10848d1"
   }
  }
 },
 "nbformat": 4,
 "nbformat_minor": 2
}
