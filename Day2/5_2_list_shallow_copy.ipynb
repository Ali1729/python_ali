{
 "cells": [
  {
   "cell_type": "code",
   "execution_count": 21,
   "metadata": {},
   "outputs": [
    {
     "name": "stdout",
     "output_type": "stream",
     "text": [
      "2233632086704\n",
      "2233632086672\n",
      "2233632086960\n",
      "2233632177536\n",
      "2233632086704\n",
      "2233632086672\n",
      "2233632086960\n",
      "2233632177536\n",
      "2233610078336\n",
      "2233610078336\n"
     ]
    }
   ],
   "source": [
    "a = [23435,345346,45567,[234,234,3456645]]\n",
    "b = a\n",
    "\n",
    "for i in a:\n",
    "    print(id(i))\n",
    "\n",
    "for i in b:\n",
    "    print(id(i))\n",
    "\n",
    "print(id(b))\n",
    "print(id(a))"
   ]
  },
  {
   "cell_type": "code",
   "execution_count": 22,
   "metadata": {},
   "outputs": [
    {
     "name": "stdout",
     "output_type": "stream",
     "text": [
      "2233632086128\n",
      "2233632095696\n",
      "2233632083792\n",
      "2233632241856\n",
      "2233632086128\n",
      "2233632095696\n",
      "2233632083792\n",
      "2233632241856\n",
      "2233632491328\n",
      "2233632243392\n"
     ]
    }
   ],
   "source": [
    "a = [23435,345346,45567,[234,234,3456645]]\n",
    "b = a[:]\n",
    "\n",
    "for i in a:\n",
    "    print(id(i))\n",
    "\n",
    "for i in b:\n",
    "    print(id(i))\n",
    "    \n",
    "print(id(b))\n",
    "print(id(a))"
   ]
  },
  {
   "cell_type": "code",
   "execution_count": 19,
   "metadata": {},
   "outputs": [],
   "source": [
    "a[3][0]=234219"
   ]
  },
  {
   "cell_type": "code",
   "execution_count": 20,
   "metadata": {},
   "outputs": [
    {
     "data": {
      "text/plain": [
       "[23435, 345346, 45567, [234219, 234, 3456645]]"
      ]
     },
     "execution_count": 20,
     "metadata": {},
     "output_type": "execute_result"
    }
   ],
   "source": [
    "b"
   ]
  },
  {
   "cell_type": "code",
   "execution_count": 5,
   "metadata": {},
   "outputs": [],
   "source": [
    "a[0] = 3456"
   ]
  },
  {
   "cell_type": "code",
   "execution_count": 6,
   "metadata": {},
   "outputs": [
    {
     "data": {
      "text/plain": [
       "[3456, 34, 5, 6]"
      ]
     },
     "execution_count": 6,
     "metadata": {},
     "output_type": "execute_result"
    }
   ],
   "source": [
    "b"
   ]
  },
  {
   "cell_type": "code",
   "execution_count": 7,
   "metadata": {},
   "outputs": [],
   "source": [
    "a = [123,345,6,7,[12,34,56]]\n"
   ]
  },
  {
   "cell_type": "code",
   "execution_count": 8,
   "metadata": {},
   "outputs": [],
   "source": [
    "b =a \n",
    "\n"
   ]
  },
  {
   "cell_type": "code",
   "execution_count": 9,
   "metadata": {},
   "outputs": [],
   "source": [
    "a [3]= 5656"
   ]
  },
  {
   "cell_type": "code",
   "execution_count": 10,
   "metadata": {},
   "outputs": [
    {
     "data": {
      "text/plain": [
       "[123, 345, 6, 5656, [12, 34, 56]]"
      ]
     },
     "execution_count": 10,
     "metadata": {},
     "output_type": "execute_result"
    }
   ],
   "source": [
    "b"
   ]
  },
  {
   "cell_type": "code",
   "execution_count": 11,
   "metadata": {},
   "outputs": [],
   "source": [
    "a[4][1] =234\n"
   ]
  },
  {
   "cell_type": "code",
   "execution_count": 12,
   "metadata": {},
   "outputs": [
    {
     "data": {
      "text/plain": [
       "[123, 345, 6, 5656, [12, 234, 56]]"
      ]
     },
     "execution_count": 12,
     "metadata": {},
     "output_type": "execute_result"
    }
   ],
   "source": [
    "b"
   ]
  },
  {
   "cell_type": "code",
   "execution_count": 13,
   "metadata": {},
   "outputs": [],
   "source": [
    "b = a[:]\n"
   ]
  },
  {
   "cell_type": "code",
   "execution_count": 14,
   "metadata": {},
   "outputs": [],
   "source": [
    "a[0] = 456433\n"
   ]
  },
  {
   "cell_type": "code",
   "execution_count": 15,
   "metadata": {},
   "outputs": [
    {
     "data": {
      "text/plain": [
       "[123, 345, 6, 5656, [12, 234, 56]]"
      ]
     },
     "execution_count": 15,
     "metadata": {},
     "output_type": "execute_result"
    }
   ],
   "source": [
    "b"
   ]
  },
  {
   "cell_type": "code",
   "execution_count": 16,
   "metadata": {},
   "outputs": [
    {
     "data": {
      "text/plain": [
       "[456433, 345, 6, 5656, [12, 234, 56]]"
      ]
     },
     "execution_count": 16,
     "metadata": {},
     "output_type": "execute_result"
    }
   ],
   "source": [
    "a\n"
   ]
  },
  {
   "cell_type": "code",
   "execution_count": 38,
   "metadata": {},
   "outputs": [
    {
     "name": "stdout",
     "output_type": "stream",
     "text": [
      "2233637436288\n",
      "2233631697024\n",
      "[23435, 345346, 45567, [234, 234, 3456645]]\n",
      "[23435, 345346, 45567, [36255, 234, 3456645]]\n"
     ]
    }
   ],
   "source": [
    "import copy\n",
    "a = [23435,345346,45567,[234,234,3456645]]\n",
    "b= a\n",
    "# b = a \n",
    "print(id(a))\n",
    "print(id(b))\n",
    "\n",
    "b= a[:]\n",
    "# b = a \n",
    "print(id(a))\n",
    "print(id(b))\n",
    "b = copy.deepcopy(a)\n",
    "print(id(a[3]))\n",
    "print(id(b[3]))\n",
    "a [3][0] =36255\n",
    "print(b)\n",
    "print(a)"
   ]
  }
 ],
 "metadata": {
  "kernelspec": {
   "display_name": "Python 3",
   "language": "python",
   "name": "python3"
  },
  "language_info": {
   "codemirror_mode": {
    "name": "ipython",
    "version": 3
   },
   "file_extension": ".py",
   "mimetype": "text/x-python",
   "name": "python",
   "nbconvert_exporter": "python",
   "pygments_lexer": "ipython3",
   "version": "3.11.1"
  },
  "orig_nbformat": 4,
  "vscode": {
   "interpreter": {
    "hash": "108095e740c160118120ad5e22811b4aca9f414a6f3c55c969835bc2c10848d1"
   }
  }
 },
 "nbformat": 4,
 "nbformat_minor": 2
}
