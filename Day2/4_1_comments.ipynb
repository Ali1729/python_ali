{
 "cells": [
  {
   "cell_type": "code",
   "execution_count": 2,
   "metadata": {},
   "outputs": [
    {
     "data": {
      "text/plain": [
       "'   \\nclass Vehicle2():\\n    def __init__(self):\\n        pass\\n        # self.num_wheels = num_wheels\\n        # self.num_doors = num_doors\\n    \\n    def honk(self):\\n        print(\"honk honk\")\\n\\n    def press_break(self):\\n        print(\"screech\")\\n      '"
      ]
     },
     "execution_count": 2,
     "metadata": {},
     "output_type": "execute_result"
    }
   ],
   "source": [
    "a = 10 #comment\n",
    "\n",
    "\"\"\"\n",
    "class Vehicle2():\n",
    "    def __init__(self):\n",
    "        pass\n",
    "        # self.num_wheels = num_wheels\n",
    "        # self.num_doors = num_doors\n",
    "    \n",
    "    def honk(self):\n",
    "        print(\"honk honk\")\n",
    "\n",
    "    def press_break(self):\n",
    "        print(\"screech\")\n",
    "        \"\"\"\n",
    "\n",
    "'''   \n",
    "class Vehicle2():\n",
    "    def __init__(self):\n",
    "        pass\n",
    "        # self.num_wheels = num_wheels\n",
    "        # self.num_doors = num_doors\n",
    "    \n",
    "    def honk(self):\n",
    "        print(\"honk honk\")\n",
    "\n",
    "    def press_break(self):\n",
    "        print(\"screech\")\n",
    "      '''"
   ]
  }
 ],
 "metadata": {
  "kernelspec": {
   "display_name": "Python 3",
   "language": "python",
   "name": "python3"
  },
  "language_info": {
   "codemirror_mode": {
    "name": "ipython",
    "version": 3
   },
   "file_extension": ".py",
   "mimetype": "text/x-python",
   "name": "python",
   "nbconvert_exporter": "python",
   "pygments_lexer": "ipython3",
   "version": "3.11.1"
  },
  "orig_nbformat": 4,
  "vscode": {
   "interpreter": {
    "hash": "108095e740c160118120ad5e22811b4aca9f414a6f3c55c969835bc2c10848d1"
   }
  }
 },
 "nbformat": 4,
 "nbformat_minor": 2
}
