{
 "cells": [
  {
   "cell_type": "code",
   "execution_count": null,
   "metadata": {},
   "outputs": [],
   "source": [
    "\"\"\" A block is a piece of Python program text that is executed as a unit. \n",
    "The following are blocks: a module, a function body, and a class definition. \n",
    "Each command typed interactively is a block. \n",
    "A script file (a file given as standard input to the interpreter or specified as a command line argument to the interpreter) is a code block.\n",
    "\"\"\""
   ]
  },
  {
   "cell_type": "code",
   "execution_count": 1,
   "metadata": {},
   "outputs": [
    {
     "name": "stdout",
     "output_type": "stream",
     "text": [
      "apple\n",
      "banana\n",
      "cherry\n"
     ]
    }
   ],
   "source": [
    "def my_function(food):\n",
    "  for x in food:\n",
    "    print(x)\n",
    "  return \"printed\"\n",
    "\n",
    "fruits = [\"apple\", \"banana\", \"cherry\"]\n",
    "\n",
    "my_function(fruits)"
   ]
  },
  {
   "cell_type": "code",
   "execution_count": 2,
   "metadata": {},
   "outputs": [
    {
     "name": "stdout",
     "output_type": "stream",
     "text": [
      "John\n",
      "36\n"
     ]
    }
   ],
   "source": [
    "class Person:\n",
    "  def __init__(self, name, age):\n",
    "    self.name = name\n",
    "    self.age = age\n",
    "\n",
    "p1 = Person(\"John\", 36)\n",
    "\n",
    "print(p1.name)\n",
    "print(p1.age) "
   ]
  },
  {
   "cell_type": "code",
   "execution_count": null,
   "metadata": {},
   "outputs": [],
   "source": [
    "# CLASSES and OBJECTS \n",
    "# In object-oriented terminology, a class is a template for defining objects. \n",
    "# It specifies the names and types of variables that can exist in an object, as well as \"methods\"--procedures for operating on those variables.\n",
    "#  A class can be thought of as a \"type\", with the objects being a \"variable\" of that type. Multiple objects,\n",
    "#  or instances of a class can be created in a single HLU program, just as you declare multiple variables of the same type in any program. \n",
    "\n",
    "# Perspective 1\n",
    "# CLASS is LIKE a blue print.\n",
    "# from blue print we will create actual thing called object of the class (read class as type)\n",
    "\n",
    "# Perspective 2\n",
    "# when we give a = list() . Here list is a class . from that list we are creating an object. This new object is going to have all the properties and functions the class has."
   ]
  },
  {
   "cell_type": "code",
   "execution_count": null,
   "metadata": {},
   "outputs": [],
   "source": [
    "class Vehicle():\n",
    "    def __init__(self,num_wheels,num_doors):\n",
    "        self.num_wheels = num_wheels\n",
    "        self.num_doors = num_doors\n",
    "    \n",
    "    def honk(self):\n",
    "        print(\"honk honk\")\n",
    "\n",
    "    def press_break(self):\n",
    "        \n",
    "\n",
    "\n",
    "\n",
    "class CAR(Vehicle)\n",
    "        "
   ]
  }
 ],
 "metadata": {
  "kernelspec": {
   "display_name": "Python 3",
   "language": "python",
   "name": "python3"
  },
  "language_info": {
   "codemirror_mode": {
    "name": "ipython",
    "version": 3
   },
   "file_extension": ".py",
   "mimetype": "text/x-python",
   "name": "python",
   "nbconvert_exporter": "python",
   "pygments_lexer": "ipython3",
   "version": "3.11.1"
  },
  "orig_nbformat": 4,
  "vscode": {
   "interpreter": {
    "hash": "108095e740c160118120ad5e22811b4aca9f414a6f3c55c969835bc2c10848d1"
   }
  }
 },
 "nbformat": 4,
 "nbformat_minor": 2
}
