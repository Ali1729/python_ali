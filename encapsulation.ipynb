{
 "cells": [
  {
   "cell_type": "code",
   "execution_count": 9,
   "metadata": {},
   "outputs": [],
   "source": [
    "class Account():\n",
    "    def __init__(self,name,balance):\n",
    "        self.name = name\n",
    "        self.__balance =balance\n",
    "        \n",
    "    def add_balance(self,amount):\n",
    "        self.__balance = self.__balance+amount\n",
    "        \n",
    "    def get_value():\n",
    "        pass\n",
    "    \n",
    "    def set_value():\n",
    "        pass\n",
    "        \n"
   ]
  },
  {
   "cell_type": "code",
   "execution_count": 14,
   "metadata": {},
   "outputs": [
    {
     "data": {
      "text/plain": [
       "1010"
      ]
     },
     "execution_count": 14,
     "metadata": {},
     "output_type": "execute_result"
    }
   ],
   "source": [
    "a =Account('al',10)\n",
    "a.__balance = 1000\n",
    "a.__balance = a.balance+amount\n",
    "a.add_balance(10)\n",
    "a.__balance"
   ]
  },
  {
   "cell_type": "code",
   "execution_count": 15,
   "metadata": {},
   "outputs": [],
   "source": [
    "# Using a property to (indirectly) access data in an object\n",
    "\n",
    "class Student():\n",
    "\n",
    "    def __init__(self, name, startingGrade=0):\n",
    "        self.__name = name\n",
    "        self.grade = startingGrade\n",
    "        \n",
    "\n",
    "    @property\n",
    "    def grade(self):\n",
    "        return self.__grade\n",
    "\n",
    "    @grade.setter\n",
    "    def grade(self, newGrade):\n",
    "        try:\n",
    "            newGrade = int(newGrade)\n",
    "        except (TypeError, ValueError) as e:\n",
    "            raise type(e)('New grade: ' + str(newGrade) + ', is an invalid type.')\n",
    "        if (newGrade < 0) or (newGrade > 100):\n",
    "            raise ValueError('New grade: ' + str(newGrade) + ', must be between 0 and 100.')\n",
    "        self.__grade = newGrade\n"
   ]
  },
  {
   "cell_type": "code",
   "execution_count": 18,
   "metadata": {},
   "outputs": [
    {
     "data": {
      "text/plain": [
       "10"
      ]
     },
     "execution_count": 18,
     "metadata": {},
     "output_type": "execute_result"
    },
    {
     "ename": "ValueError",
     "evalue": "New grade: asdf, is an invalid type.",
     "output_type": "error",
     "traceback": [
      "\u001b[1;31m---------------------------------------------------------------------------\u001b[0m",
      "\u001b[1;31mValueError\u001b[0m                                Traceback (most recent call last)",
      "Cell \u001b[1;32mIn[15], line 16\u001b[0m, in \u001b[0;36mStudent.grade\u001b[1;34m(self, newGrade)\u001b[0m\n\u001b[0;32m     15\u001b[0m \u001b[39mtry\u001b[39;00m:\n\u001b[1;32m---> 16\u001b[0m     newGrade \u001b[39m=\u001b[39m \u001b[39mint\u001b[39;49m(newGrade)\n\u001b[0;32m     17\u001b[0m \u001b[39mexcept\u001b[39;00m (\u001b[39mTypeError\u001b[39;00m, \u001b[39mValueError\u001b[39;00m) \u001b[39mas\u001b[39;00m e:\n",
      "\u001b[1;31mValueError\u001b[0m: invalid literal for int() with base 10: 'asdf'",
      "\nDuring handling of the above exception, another exception occurred:\n",
      "\u001b[1;31mValueError\u001b[0m                                Traceback (most recent call last)",
      "Cell \u001b[1;32mIn[18], line 4\u001b[0m\n\u001b[0;32m      1\u001b[0m a \u001b[39m=\u001b[39m Student(\u001b[39m'\u001b[39m\u001b[39mal\u001b[39m\u001b[39m'\u001b[39m,\u001b[39m10\u001b[39m)\n\u001b[0;32m      3\u001b[0m a\u001b[39m.\u001b[39mgrade\n\u001b[1;32m----> 4\u001b[0m a\u001b[39m.\u001b[39;49mgrade \u001b[39m=\u001b[39m \u001b[39m\"\u001b[39m\u001b[39masdf\u001b[39m\u001b[39m\"\u001b[39m\n",
      "Cell \u001b[1;32mIn[15], line 18\u001b[0m, in \u001b[0;36mStudent.grade\u001b[1;34m(self, newGrade)\u001b[0m\n\u001b[0;32m     16\u001b[0m     newGrade \u001b[39m=\u001b[39m \u001b[39mint\u001b[39m(newGrade)\n\u001b[0;32m     17\u001b[0m \u001b[39mexcept\u001b[39;00m (\u001b[39mTypeError\u001b[39;00m, \u001b[39mValueError\u001b[39;00m) \u001b[39mas\u001b[39;00m e:\n\u001b[1;32m---> 18\u001b[0m     \u001b[39mraise\u001b[39;00m \u001b[39mtype\u001b[39m(e)(\u001b[39m'\u001b[39m\u001b[39mNew grade: \u001b[39m\u001b[39m'\u001b[39m \u001b[39m+\u001b[39m \u001b[39mstr\u001b[39m(newGrade) \u001b[39m+\u001b[39m \u001b[39m'\u001b[39m\u001b[39m, is an invalid type.\u001b[39m\u001b[39m'\u001b[39m)\n\u001b[0;32m     19\u001b[0m \u001b[39mif\u001b[39;00m (newGrade \u001b[39m<\u001b[39m \u001b[39m0\u001b[39m) \u001b[39mor\u001b[39;00m (newGrade \u001b[39m>\u001b[39m \u001b[39m100\u001b[39m):\n\u001b[0;32m     20\u001b[0m     \u001b[39mraise\u001b[39;00m \u001b[39mValueError\u001b[39;00m(\u001b[39m'\u001b[39m\u001b[39mNew grade: \u001b[39m\u001b[39m'\u001b[39m \u001b[39m+\u001b[39m \u001b[39mstr\u001b[39m(newGrade) \u001b[39m+\u001b[39m \u001b[39m'\u001b[39m\u001b[39m, must be between 0 and 100.\u001b[39m\u001b[39m'\u001b[39m)\n",
      "\u001b[1;31mValueError\u001b[0m: New grade: asdf, is an invalid type."
     ]
    }
   ],
   "source": [
    "a = Student('al',10)\n",
    "\n",
    "a.grade\n",
    "a.grade = \"asdf\""
   ]
  },
  {
   "cell_type": "code",
   "execution_count": null,
   "metadata": {},
   "outputs": [],
   "source": [
    "\n",
    "\n"
   ]
  },
  {
   "attachments": {},
   "cell_type": "markdown",
   "metadata": {},
   "source": [
    "Interface and implementation."
   ]
  },
  {
   "cell_type": "code",
   "execution_count": 20,
   "metadata": {},
   "outputs": [
    {
     "data": {
      "text/plain": [
       "[<__main__.Triangle at 0x1edb3ba42d0>, <__main__.Rectacngle at 0x1edb3ba7e90>]"
      ]
     },
     "execution_count": 20,
     "metadata": {},
     "output_type": "execute_result"
    }
   ],
   "source": [
    "from abc import ABC , abstractmethod\n",
    "class Shape():\n",
    "    \n",
    "    @abstractmethod\n",
    "    def get_number_of_sides():\n",
    "        pass\n",
    "    \n",
    "    @abstractmethod\n",
    "    def area():\n",
    "        pass\n",
    "    \n",
    "\n",
    "class Triangle(Shape):\n",
    "    def __init__(self):\n",
    "        self.side =3\n",
    "    def get_number_of_sides(self):\n",
    "        print(\"My number of sides\",str(self.side))\n",
    "        \n",
    "class Rectacngle(Shape):\n",
    "    def __init__(self):\n",
    "        self.side =4\n",
    "    def get_number_of_sides(self):\n",
    "        print(\"My number of sides\",str(self.side))\n",
    "\n",
    "l = []\n",
    "a = Triangle()\n",
    "b= Rectacngle()        \n",
    "l.append(a)\n",
    "l.append(b)\n",
    "l\n",
    "\n",
    "    "
   ]
  },
  {
   "cell_type": "code",
   "execution_count": 21,
   "metadata": {},
   "outputs": [
    {
     "name": "stdout",
     "output_type": "stream",
     "text": [
      "My number of sides 3\n",
      "My number of sides 4\n"
     ]
    }
   ],
   "source": [
    "for i in l:\n",
    "    i.get_number_of_sides()"
   ]
  },
  {
   "cell_type": "code",
   "execution_count": null,
   "metadata": {},
   "outputs": [],
   "source": [
    "class A():\n",
    "    def __add__()\n"
   ]
  },
  {
   "cell_type": "code",
   "execution_count": 25,
   "metadata": {},
   "outputs": [
    {
     "ename": "NameError",
     "evalue": "name 'func' is not defined",
     "output_type": "error",
     "traceback": [
      "\u001b[1;31m---------------------------------------------------------------------------\u001b[0m",
      "\u001b[1;31mNameError\u001b[0m                                 Traceback (most recent call last)",
      "Cell \u001b[1;32mIn[25], line 2\u001b[0m\n\u001b[0;32m      1\u001b[0m \u001b[39mimport\u001b[39;00m \u001b[39mtime\u001b[39;00m\n\u001b[1;32m----> 2\u001b[0m \u001b[39mdef\u001b[39;00m \u001b[39mtime_10\u001b[39m(callback\u001b[39m=\u001b[39m func):\n\u001b[0;32m      3\u001b[0m     time\u001b[39m.\u001b[39msleep(\u001b[39m10\u001b[39m)\n\u001b[0;32m      4\u001b[0m     \u001b[39mreturn\u001b[39;00m func\n",
      "\u001b[1;31mNameError\u001b[0m: name 'func' is not defined"
     ]
    }
   ],
   "source": [
    "import time\n",
    "def time_10(callback= func):\n",
    "    time.sleep(10)\n",
    "    return func\n",
    "    \n",
    "def tim2(func):\n",
    "    pass\n",
    "     \n",
    "time_10(callback = tim2)\n",
    "\n",
    "print(\"exit waiting\")"
   ]
  },
  {
   "cell_type": "code",
   "execution_count": 30,
   "metadata": {},
   "outputs": [
    {
     "data": {
      "text/plain": [
       "<generator object _chain_from_iterable_of_lists at 0x000001EDB4689D80>"
      ]
     },
     "execution_count": 30,
     "metadata": {},
     "output_type": "execute_result"
    },
    {
     "name": "stdout",
     "output_type": "stream",
     "text": [
      "It took  0.32 second(s) to finish\n"
     ]
    }
   ],
   "source": [
    "import time\n",
    "import os\n",
    "from concurrent.futures import ProcessPoolExecutor\n",
    "from PIL import Image, ImageFilter\n",
    "\n",
    "filenames = [\n",
    "    'images/1.png',\n",
    "    'images/2.png',\n",
    "    'images/3.png',\n",
    "    'images/4.png',\n",
    "    'images/5.png',\n",
    "]\n",
    "\n",
    "def create_thumbnail(filename, size=(50,50),thumb_dir ='thumbs'):\n",
    "    img = Image.open(filename)\n",
    "    img = img.filter(ImageFilter.GaussianBlur())\n",
    "    img.thumbnail(size)\n",
    "    img.save(f'{thumb_dir}/{os.path.basename(filename)}')\n",
    "    print(f'{filename} was processed...')\n",
    "\n",
    "\n",
    "if __name__ == '__main__':\n",
    "    start = time.perf_counter()\n",
    "\n",
    "    with ProcessPoolExecutor() as executor:\n",
    "        executor.map(create_thumbnail, filenames)\n",
    "        \n",
    "    # for filename in filenames:\n",
    "    #     create_thumbnail(filename)\n",
    "   \n",
    "    finish = time.perf_counter()\n",
    "\n",
    "    print(f'It took {finish-start: .2f} second(s) to finish')"
   ]
  },
  {
   "cell_type": "code",
   "execution_count": 33,
   "metadata": {},
   "outputs": [
    {
     "name": "stdout",
     "output_type": "stream",
     "text": [
      "It took  0.17 second(s) to finish\n"
     ]
    }
   ],
   "source": [
    "import time\n",
    "import multiprocessing\n",
    "\n",
    "def task(n=100_000_000):\n",
    "    print(\"task started\")\n",
    "    while n:\n",
    "        n -= 1\n",
    "\n",
    "if __name__  ==  '__main__':\n",
    "    start = time.perf_counter()\n",
    "\n",
    "    p1 = multiprocessing.Process(target=task)\n",
    "    p2 = multiprocessing.Process(target=task)\n",
    "\n",
    "    p1.start()\n",
    "    p2.start()\n",
    "\n",
    "    p1.join()\n",
    "    p2.join()\n",
    "\n",
    "    finish = time.perf_counter()\n",
    "\n",
    "    print(f'It took {finish-start: .2f} second(s) to finish')"
   ]
  },
  {
   "cell_type": "code",
   "execution_count": 37,
   "metadata": {},
   "outputs": [
    {
     "name": "stdout",
     "output_type": "stream",
     "text": [
      "validated\n"
     ]
    }
   ],
   "source": [
    "a = 0\n",
    "b = True\n",
    "\n",
    "if any([a>10, b is True]):\n",
    "    print(\"validated\")"
   ]
  },
  {
   "cell_type": "code",
   "execution_count": 39,
   "metadata": {},
   "outputs": [
    {
     "name": "stdout",
     "output_type": "stream",
     "text": [
      "0\n",
      "1\n",
      "2\n",
      "3\n",
      "4\n"
     ]
    }
   ],
   "source": [
    "# a = input()\n",
    "a = 5\n",
    "for i in range(a):\n",
    "    print(i)\n",
    "    "
   ]
  }
 ],
 "metadata": {
  "kernelspec": {
   "display_name": "Python 3",
   "language": "python",
   "name": "python3"
  },
  "language_info": {
   "codemirror_mode": {
    "name": "ipython",
    "version": 3
   },
   "file_extension": ".py",
   "mimetype": "text/x-python",
   "name": "python",
   "nbconvert_exporter": "python",
   "pygments_lexer": "ipython3",
   "version": "3.11.1"
  },
  "orig_nbformat": 4,
  "vscode": {
   "interpreter": {
    "hash": "108095e740c160118120ad5e22811b4aca9f414a6f3c55c969835bc2c10848d1"
   }
  }
 },
 "nbformat": 4,
 "nbformat_minor": 2
}
