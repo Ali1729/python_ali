{
 "cells": [
  {
   "cell_type": "code",
   "execution_count": 1,
   "metadata": {},
   "outputs": [
    {
     "ename": "TypeError",
     "evalue": "'tuple' object does not support item assignment",
     "output_type": "error",
     "traceback": [
      "\u001b[1;31m---------------------------------------------------------------------------\u001b[0m",
      "\u001b[1;31mTypeError\u001b[0m                                 Traceback (most recent call last)",
      "Cell \u001b[1;32mIn[1], line 6\u001b[0m\n\u001b[0;32m      2\u001b[0m InteractiveShell\u001b[39m.\u001b[39mast_node_interactivity \u001b[39m=\u001b[39m \u001b[39m\"\u001b[39m\u001b[39mall\u001b[39m\u001b[39m\"\u001b[39m\n\u001b[0;32m      5\u001b[0m nums \u001b[39m=\u001b[39m (\u001b[39m1\u001b[39m, \u001b[39m2\u001b[39m, \u001b[39m3\u001b[39m)\n\u001b[1;32m----> 6\u001b[0m nums[\u001b[39m0\u001b[39;49m] \u001b[39m=\u001b[39m \u001b[39m100\u001b[39m \u001b[39m# ERROR!\u001b[39;00m\n\u001b[0;32m      9\u001b[0m nums \u001b[39m=\u001b[39m [\u001b[39m1\u001b[39m, \u001b[39m2\u001b[39m, \u001b[39m3\u001b[39m]\n\u001b[0;32m     10\u001b[0m nums[\u001b[39m0\u001b[39m] \u001b[39m=\u001b[39m \u001b[39m100\u001b[39m \u001b[39m# Works\u001b[39;00m\n",
      "\u001b[1;31mTypeError\u001b[0m: 'tuple' object does not support item assignment"
     ]
    }
   ],
   "source": [
    "\n",
    "from IPython.core.interactiveshell import InteractiveShell\n",
    "InteractiveShell.ast_node_interactivity = \"all\"\n",
    "\n",
    "\n",
    "nums = (1, 2, 3)\n",
    "nums[0] = 100 # ERROR!\n",
    "\n",
    "\n",
    "nums = [1, 2, 3]\n",
    "nums[0] = 100 # Works\n",
    "\n",
    "   "
   ]
  },
  {
   "attachments": {},
   "cell_type": "markdown",
   "metadata": {},
   "source": [
    "    # Tuples and lists are both used to store collection of data\n",
    "    # Tuples and lists are both heterogeneous data types means that you can store any kind of data type.\n",
    "    # Tuples and lists are both ordered means the order in which you put the items are kept.\n",
    "    # Tuples and lists are both sequential data types so you can iterate over the items contained.\n",
    "    # Items of both tuples and lists can be accessed by an integer index operator, provided in square brackets, [index]."
   ]
  },
  {
   "cell_type": "code",
   "execution_count": 3,
   "metadata": {},
   "outputs": [
    {
     "name": "stdout",
     "output_type": "stream",
     "text": [
      "104\n",
      "80\n"
     ]
    }
   ],
   "source": [
    "# Tuples are memory efficient\n",
    "import sys\n",
    "\n",
    "a_list = list()\n",
    "a_tuple = tuple()\n",
    "\n",
    "a_list = [1,2,3,4,5]\n",
    "a_tuple = (1,2,3,4,5)\n",
    "\n",
    "print(sys.getsizeof(a_list))\n",
    "print(sys.getsizeof(a_tuple))\n"
   ]
  },
  {
   "cell_type": "code",
   "execution_count": null,
   "metadata": {},
   "outputs": [],
   "source": [
    "\n",
    "import sys, platform\n",
    "import time\n",
    "\n",
    "print(platform.python_version())\n",
    "\n",
    "start_time = time.time()\n",
    "b_list = list(range(10000000))\n",
    "end_time = time.time()\n",
    "print(\"Instantiation time for LIST:\", end_time - start_time)\n",
    "\n",
    "start_time = time.time()\n",
    "b_tuple = tuple(range(10000000))\n",
    "end_time = time.time()\n",
    "print(\"Instantiation time for TUPLE:\", end_time - start_time)\n",
    "\n",
    "start_time = time.time()\n",
    "for item in b_list:\n",
    "  aa = b_list[20000]\n",
    "end_time = time.time()\n",
    "print(\"Lookup time for LIST: \", end_time - start_time)\n",
    "\n",
    "start_time = time.time()\n",
    "for item in b_tuple:\n",
    "  aa = b_tuple[20000]\n",
    "end_time = time.time()\n",
    "print(\"Lookup time for TUPLE: \", end_time - start_time)"
   ]
  },
  {
   "attachments": {},
   "cell_type": "markdown",
   "metadata": {},
   "source": [
    "There may be some occasions when you don’t want your data to be changed. If you have data that’s not meant to be changed in the first place, you should choose tuple data type over lists.\n",
    "\n",
    "But if you know that the data will grow and shrink during the runtime of the application, you need to go with the list data type."
   ]
  },
  {
   "cell_type": "code",
   "execution_count": null,
   "metadata": {},
   "outputs": [],
   "source": []
  }
 ],
 "metadata": {
  "kernelspec": {
   "display_name": "Python 3",
   "language": "python",
   "name": "python3"
  },
  "language_info": {
   "codemirror_mode": {
    "name": "ipython",
    "version": 3
   },
   "file_extension": ".py",
   "mimetype": "text/x-python",
   "name": "python",
   "nbconvert_exporter": "python",
   "pygments_lexer": "ipython3",
   "version": "3.11.1"
  },
  "orig_nbformat": 4,
  "vscode": {
   "interpreter": {
    "hash": "108095e740c160118120ad5e22811b4aca9f414a6f3c55c969835bc2c10848d1"
   }
  }
 },
 "nbformat": 4,
 "nbformat_minor": 2
}
