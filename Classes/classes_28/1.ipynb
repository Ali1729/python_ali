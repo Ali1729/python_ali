{
 "cells": [
  {
   "attachments": {},
   "cell_type": "markdown",
   "metadata": {},
   "source": [
    "Giving default attributes to constructor is possible."
   ]
  },
  {
   "cell_type": "code",
   "execution_count": 1,
   "metadata": {},
   "outputs": [
    {
     "name": "stdout",
     "output_type": "stream",
     "text": [
      "Bob Smith 0\n",
      "Sue Jones 100000\n"
     ]
    }
   ],
   "source": [
    "class Person:\n",
    "    def __init__(self, name, job=None, pay=0):\n",
    "        self.name = name\n",
    "        self.job = job\n",
    "        self.pay = pay\n",
    "        \n",
    "        \n",
    "        \n",
    "bob = Person('Bob Smith') # Test the class\n",
    "sue = Person('Sue Jones', job='dev', pay=100000) # Runs __init__ automatically\n",
    "print(bob.name, bob.pay) # Fetch attached attributes\n",
    "print(sue.name, sue.pay) # sue's and bob's attrs diffe"
   ]
  },
  {
   "attachments": {},
   "cell_type": "markdown",
   "metadata": {},
   "source": [
    "__name__ example\n",
    "ab1.py\n",
    "ab2.py is importing.\n"
   ]
  },
  {
   "attachments": {},
   "cell_type": "markdown",
   "metadata": {},
   "source": [
    "Adding Behaviour\n"
   ]
  },
  {
   "cell_type": "code",
   "execution_count": 2,
   "metadata": {},
   "outputs": [
    {
     "name": "stdout",
     "output_type": "stream",
     "text": [
      "Bob Smith 0\n",
      "Sue Jones 100000\n",
      "Smith\n",
      "110000.00\n"
     ]
    }
   ],
   "source": [
    "class Person:\n",
    "    def __init__(self, name, job=None, pay=0):\n",
    "        self.name = name\n",
    "        self.job = job\n",
    "        self.pay = pay\n",
    "        \n",
    "if __name__ == '__main__':\n",
    "    bob = Person('Bob Smith')\n",
    "    sue = Person('Sue Jones', job='dev', pay=100000)\n",
    "    print(bob.name, bob.pay)\n",
    "    print(sue.name, sue.pay)\n",
    "    print(bob.name.split()[-2]) # Extract object's last name\n",
    "    print(sue.name.split()[-2]) # Extract object's last name\n",
    "    sue.pay *= 1.10 # Give this object a raise\n",
    "    print('%.2f' % sue.pay)"
   ]
  },
  {
   "cell_type": "code",
   "execution_count": 3,
   "metadata": {},
   "outputs": [
    {
     "name": "stdout",
     "output_type": "stream",
     "text": [
      "Bob Smith 0\n",
      "Sue Jones 100000\n",
      "Smith Jones\n",
      "110000\n",
      "<__main__.Person object at 0x000001A2F6EECC10>\n"
     ]
    }
   ],
   "source": [
    "class Person:\n",
    "    def __init__(self, name, job=None, pay=0):\n",
    "        self.name = name\n",
    "        self.job = job\n",
    "        self.pay = pay\n",
    "    def lastName(self): # Behavior methods\n",
    "        return self.name.split()[-1] # self is implied subject\n",
    "    \n",
    "    def giveRaise(self, percent):\n",
    "        self.pay = int(self.pay * (1 + percent)) # Must change here only\n",
    "        \n",
    "        \n",
    "        \n",
    "if __name__ == '__main__':\n",
    "    bob = Person('Bob Smith')\n",
    "    sue = Person('Sue Jones', job='dev', pay=100000)\n",
    "    print(bob.name, bob.pay)\n",
    "    print(sue.name, sue.pay)\n",
    "    print(bob.lastName(), sue.lastName()) # Use the new methods\n",
    "    sue.giveRaise(.10) # instead of hardcoding\n",
    "    print(sue.pay)\n",
    "    \n",
    "    print(bob)"
   ]
  },
  {
   "attachments": {},
   "cell_type": "markdown",
   "metadata": {},
   "source": [
    "Operator overloading"
   ]
  },
  {
   "cell_type": "code",
   "execution_count": 8,
   "metadata": {},
   "outputs": [
    {
     "name": "stdout",
     "output_type": "stream",
     "text": [
      "20\n"
     ]
    },
    {
     "data": {
      "text/plain": [
       "int"
      ]
     },
     "execution_count": 8,
     "metadata": {},
     "output_type": "execute_result"
    }
   ],
   "source": [
    "a = 20\n",
    "print(a)\n",
    "type(a)"
   ]
  },
  {
   "cell_type": "code",
   "execution_count": 11,
   "metadata": {},
   "outputs": [
    {
     "name": "stdout",
     "output_type": "stream",
     "text": [
      "Class person\n",
      "<class '__main__.Person'>\n",
      "Smith Jones\n",
      "Class person\n"
     ]
    }
   ],
   "source": [
    "class Person:\n",
    "    def __init__(self, name, job=None, pay=0):\n",
    "        self.name = name\n",
    "        self.job = job\n",
    "        self.pay = pay\n",
    "    def lastName(self):\n",
    "        return self.name.split()[-1]\n",
    "    def giveRaise(self, percent):\n",
    "        self.pay = int(self.pay * (1 + percent))\n",
    "    def __repr__(self): # Added method\n",
    "        return '[Person: %s, %s]' % (self.name, self.pay) # String to print\n",
    "    \n",
    "    def __str__(self):\n",
    "        return \"Class person\"\n",
    "    \n",
    "if __name__ == '__main__':\n",
    "    bob = Person('Bob Smith')\n",
    "    sue = Person('Sue Jones', job='dev', pay=100000)\n",
    "    print(bob)\n",
    "    print(type(sue))\n",
    "    print(bob.lastName(), sue.lastName())\n",
    "    sue.giveRaise(.10)\n",
    "    print(sue)"
   ]
  },
  {
   "cell_type": "code",
   "execution_count": 15,
   "metadata": {},
   "outputs": [
    {
     "name": "stdout",
     "output_type": "stream",
     "text": [
      "our own add method\n"
     ]
    },
    {
     "data": {
      "text/plain": [
       "30"
      ]
     },
     "execution_count": 15,
     "metadata": {},
     "output_type": "execute_result"
    }
   ],
   "source": [
    "class A():\n",
    "    def __init__(self,val):\n",
    "        self.val = val\n",
    "        \n",
    "    def add(self,val2):\n",
    "        return self.val + val2\n",
    "\n",
    "    def __add__(self,val3):\n",
    "        print(\"our own add method\")\n",
    "        return self.val+val3\n",
    "\n",
    "        \n",
    "a = A(10)\n",
    "# a.add(20)\n",
    "\n",
    "a+20\n",
    "        "
   ]
  },
  {
   "attachments": {},
   "cell_type": "markdown",
   "metadata": {},
   "source": [
    "Subclassing.\n",
    "classes6_1.ipynb"
   ]
  },
  {
   "cell_type": "code",
   "execution_count": 4,
   "metadata": {},
   "outputs": [
    {
     "name": "stdout",
     "output_type": "stream",
     "text": [
      "Person init is bing called.\n",
      "Person init is bing called.\n",
      "[Person: Bob Smith, 0]\n",
      "[Person: Sue Jones, 100000]\n",
      "Smith Jones\n",
      "Manager init is bing called.\n",
      "Person init is bing called.\n",
      "--All three--\n",
      "[Person: Bob Smith, 0]\n",
      "[Person: Sue Jones, 110000]\n",
      "[Person: Tom Hiddle, 24000]\n"
     ]
    }
   ],
   "source": [
    "class Person:\n",
    "    def __init__(self, name, job=None, pay=0):\n",
    "        print(\"Person init is bing called.\")\n",
    "        self.name = name\n",
    "        self.job = job\n",
    "        self.pay = pay\n",
    "\n",
    "    \n",
    "    def lastName(self):\n",
    "        return self.name.split()[-1]\n",
    "    \n",
    "    def giveRaise(self,percent):\n",
    "        self.pay = int(self.pay * (1+percent) )\n",
    "        \n",
    "    # def giveRaise_manager(self):\n",
    "    #     self.pay = int(self.pay * (1 + percent + bonus)) # Bad: cut and past       \n",
    "        \n",
    "    \n",
    "\n",
    "    def __repr__(self):\n",
    "        return '[Person: %s, %s]' % (self.name, self.pay)\n",
    "    \n",
    "  \n",
    "\n",
    "\n",
    "class Manager(Person):\n",
    "    def __init__(self,name, job='mgr',pay=0):\n",
    "        print(\"Manager init is bing called.\")\n",
    "        Person.__init__(self, name, 'mgr', pay)\n",
    "        \n",
    "    def giveRaise(self, percent, bonus=.10):\n",
    "        Person.giveRaise(self, percent + bonus)\n",
    "\n",
    "    def giveRaise(self, percent, bonus=.10):\n",
    "        Person.giveRaise(self,percent+bonus) \n",
    "\n",
    "if __name__ == '__main__':\n",
    "    bob = Person('Bob Smith')\n",
    "    sue = Person('Sue Jones', job= 'dev', pay = 100000)\n",
    "\n",
    "    print(bob)\n",
    "    print(sue)\n",
    "    print(bob.lastName(), sue.lastName())\n",
    "\n",
    "    tom = Manager('Tom Hiddle', job = 'Manager', pay = 20000)\n",
    "    print('--All three--')\n",
    "    for obj in (bob, sue, tom): # Process objects generically\n",
    "        obj.giveRaise(.10) # Run this object's giveRaise\n",
    "        print(obj) # Run the common __repr__\n"
   ]
  },
  {
   "attachments": {},
   "cell_type": "markdown",
   "metadata": {},
   "source": [
    "polymorhpism\n"
   ]
  },
  {
   "cell_type": "code",
   "execution_count": null,
   "metadata": {},
   "outputs": [],
   "source": [
    "OOP \n",
    "\n",
    "\n",
    "Although we could have simply coded Manager from scratch as new, independent\n",
    "code, we would have had to reimplement all the behaviors in Person that are the\n",
    "same for Managers.\n",
    "\n",
    "• Although we could have simply changed the existing Person class in place for the\n",
    "requirements of Manager’s giveRaise, doing so would probably break the places\n",
    "where we still need the original Person behavior.\n",
    "\n",
    "• Although we could have simply copied the Person class in its entirety, renamed the\n",
    "copy to Manager, and changed its giveRaise, doing so would introduce code redundancy that would double our work in the future—changes made to Person in\n",
    "the future would not be picked up automatically, but would have to be manually\n",
    "propagated to Manager’s code. As usual, the cut-and-paste approach may seem\n",
    "quick now, but it doubles your work in the future."
   ]
  },
  {
   "cell_type": "code",
   "execution_count": null,
   "metadata": {},
   "outputs": [],
   "source": [
    "class Person:\n",
    "    def __init__(self, name, job=None, pay=0):\n",
    "        print(\"Person init is bing called.\")\n",
    "        self.name = name\n",
    "        self.job = job\n",
    "        self.pay = pay\n",
    "\n",
    "    \n",
    "    def lastName(self):\n",
    "        return self.name.split()[-1]\n",
    "    \n",
    "    def giveRaise(self,percent):\n",
    "        self.pay = int(self.pay * (1+percent) )\n",
    "        \n",
    "    # def giveRaise_manager(self):\n",
    "    #     self.pay = int(self.pay * (1 + percent + bonus)) # Bad: cut and past       \n",
    "        \n",
    "    \n",
    "\n",
    "    def __repr__(self):\n",
    "        return '[Person: %s, %s]' % (self.name, self.pay)\n",
    "\n",
    "\n",
    "class Manager(Person):\n",
    "    def __init__(self,name, job='mgr',pay=0):\n",
    "        print(\"Manager init is bing called.\")\n",
    "        Person.__init__(self, name, 'mgr', pay)\n",
    "        \n",
    "    def giveRaise(self, percent, bonus=.10):\n",
    "        Person.giveRaise(self, percent + bonus)\n",
    "\n",
    "    def giveRaise(self, percent, bonus=.10):\n",
    "        Person.giveRaise(self,percent+bonus) \n",
    "\n",
    "if __name__ == '__main__':\n",
    "    bob = Person('Bob Smith')\n",
    "    sue = Person('Sue Jones', job= 'dev', pay = 100000)\n",
    "\n",
    "    print(bob)\n",
    "    print(sue)\n",
    "    print(bob.lastName(), sue.lastName())\n",
    "\n",
    "    tom = Manager('Tom Hiddle', job = 'Manager', pay = 20000)\n",
    "    print('--All three--')\n",
    "    for obj in (bob, sue, tom): # Process objects generically\n",
    "        obj.giveRaise(.10) # Run this object's giveRaise\n",
    "        print(obj) # Run the common __repr__\n"
   ]
  },
  {
   "attachments": {},
   "cell_type": "markdown",
   "metadata": {},
   "source": [
    "Desgin Pattern Delegation\n"
   ]
  },
  {
   "cell_type": "code",
   "execution_count": 16,
   "metadata": {},
   "outputs": [
    {
     "name": "stdout",
     "output_type": "stream",
     "text": [
      "Person init is bing called.\n",
      "Person init is bing called.\n",
      "[Person: Bob Smith, 0]\n",
      "[Person: Sue Jones, 100000]\n",
      "Smith Jones\n"
     ]
    },
    {
     "ename": "TypeError",
     "evalue": "Manager.__init__() got an unexpected keyword argument 'job'",
     "output_type": "error",
     "traceback": [
      "\u001b[1;31m---------------------------------------------------------------------------\u001b[0m",
      "\u001b[1;31mTypeError\u001b[0m                                 Traceback (most recent call last)",
      "Cell \u001b[1;32mIn[16], line 42\u001b[0m\n\u001b[0;32m     39\u001b[0m \u001b[39mprint\u001b[39m(sue)\n\u001b[0;32m     40\u001b[0m \u001b[39mprint\u001b[39m(bob\u001b[39m.\u001b[39mlastName(), sue\u001b[39m.\u001b[39mlastName())\n\u001b[1;32m---> 42\u001b[0m tom \u001b[39m=\u001b[39m Manager(\u001b[39m'\u001b[39;49m\u001b[39mTom Hiddle\u001b[39;49m\u001b[39m'\u001b[39;49m, job \u001b[39m=\u001b[39;49m \u001b[39m'\u001b[39;49m\u001b[39mManager\u001b[39;49m\u001b[39m'\u001b[39;49m, pay \u001b[39m=\u001b[39;49m \u001b[39m20000\u001b[39;49m)\n\u001b[0;32m     43\u001b[0m \u001b[39mprint\u001b[39m(\u001b[39m'\u001b[39m\u001b[39m--All three--\u001b[39m\u001b[39m'\u001b[39m)\n\u001b[0;32m     44\u001b[0m \u001b[39mfor\u001b[39;00m obj \u001b[39min\u001b[39;00m (bob, sue, tom): \u001b[39m# Process objects generically\u001b[39;00m\n",
      "\u001b[1;31mTypeError\u001b[0m: Manager.__init__() got an unexpected keyword argument 'job'"
     ]
    }
   ],
   "source": [
    "class Person:\n",
    "    def __init__(self, name, job=None, pay=0):\n",
    "        print(\"Person init is bing called.\")\n",
    "        self.name = name\n",
    "        self.job = job\n",
    "        self.pay = pay\n",
    "\n",
    "    \n",
    "    def lastName(self):\n",
    "        return self.name.split()[-1]\n",
    "    \n",
    "    def giveRaise(self,percent):\n",
    "        self.pay = int(self.pay * (1+percent) )\n",
    "        \n",
    "    # def giveRaise_manager(self):\n",
    "    #     self.pay = int(self.pay * (1 + percent + bonus)) # Bad: cut and past       \n",
    "        \n",
    "    \n",
    "\n",
    "    def __repr__(self):\n",
    "        return '[Person: %s, %s]' % (self.name, self.pay)\n",
    "\n",
    "\n",
    "class Manager:\n",
    "    def __init__(self, name, pay):\n",
    "        self.person = Person(name, 'mgr', pay) # Embed a Person object\n",
    "    def giveRaise(self, percent, bonus=.10):\n",
    "        self.person.giveRaise(percent + bonus) # Intercept and delegate\n",
    "    def __getattr__(self, attr):\n",
    "        return getattr(self.person, attr) # Delegate all other attrs\n",
    "    def __repr__(self):\n",
    "        return str(self.person) # Must overload again (in 3.X)\n",
    "\n",
    "if __name__ == '__main__':\n",
    "    bob = Person('Bob Smith')\n",
    "    sue = Person('Sue Jones', job= 'dev', pay = 100000)\n",
    "\n",
    "    print(bob)\n",
    "    print(sue)\n",
    "    print(bob.lastName(), sue.lastName())\n",
    "\n",
    "    tom = Manager('Tom Hiddle', job = 'Manager', pay = 20000)\n",
    "    print('--All three--')\n",
    "    for obj in (bob, sue, tom): # Process objects generically\n",
    "        obj.giveRaise(.10) # Run this object's giveRaise\n",
    "        print(obj) # Run the common __repr__\n"
   ]
  },
  {
   "cell_type": "code",
   "execution_count": null,
   "metadata": {},
   "outputs": [],
   "source": [
    "Composition"
   ]
  },
  {
   "cell_type": "code",
   "execution_count": null,
   "metadata": {},
   "outputs": [],
   "source": [
    "class Department:\n",
    "    def __init__(self, *args):\n",
    "        self.members = list(args)\n",
    "    def addMember(self, person):\n",
    "        self.members.append(person)\n",
    "    def giveRaises(self, percent):\n",
    "        for person in self.members:\n",
    "            person.giveRaise(percent)\n",
    "    def showAll(self):\n",
    "        for person in self.members:\n",
    "            print(person)\n",
    "        \n",
    "if __name__ == '__main__':\n",
    "    bob = Person('Bob Smith')\n",
    "    sue = Person('Sue Jones', job='dev', pay=100000)\n",
    "    tom = Manager('Tom Jones', 50000)\n",
    "    development = Department(bob, sue) # Embed objects in a composite\n",
    "    development.addMember(tom)\n",
    "    development.giveRaises(.10) # Runs embedded objects' giveRaise\n",
    "    development.showAll() # Runs embedded objects' __repr_"
   ]
  },
  {
   "attachments": {},
   "cell_type": "markdown",
   "metadata": {},
   "source": [
    "Advanced.   "
   ]
  },
  {
   "cell_type": "code",
   "execution_count": 17,
   "metadata": {},
   "outputs": [
    {
     "name": "stdout",
     "output_type": "stream",
     "text": [
      "[TopTest: attr1 = 1]\n",
      "[SubTest: attr1 = 3]\n"
     ]
    }
   ],
   "source": [
    "# generic display tool.\n",
    "class AttrDisplay:\n",
    "    \n",
    "    def gatherAttrs(self):\n",
    "        attrs =[]\n",
    "        for key in sorted(self.__dict__):\n",
    "            attrs.append('%s = %s' % (key,getattr(self,key)))\n",
    "            \n",
    "            return ', '.join(attrs)\n",
    "        \n",
    "        \n",
    "    def __repr__(self):\n",
    "        return '[%s: %s]' % (self.__class__.__name__, self.gatherAttrs())\n",
    "    \n",
    "\n",
    "if __name__ == '__main__':\n",
    "    \n",
    "    class TopTest(AttrDisplay):\n",
    "        count = 0 \n",
    "        def __init__(self):\n",
    "            self.attr1 = TopTest.count\n",
    "            self.attr1 = TopTest.count+1\n",
    "            \n",
    "            TopTest.count +=2\n",
    "            \n",
    "    class SubTest(TopTest):\n",
    "        pass\n",
    "    \n",
    "    x, y = TopTest(), SubTest()\n",
    "    print(x)\n",
    "    print(y)\n",
    "        \n",
    "            "
   ]
  }
 ],
 "metadata": {
  "kernelspec": {
   "display_name": "Python 3",
   "language": "python",
   "name": "python3"
  },
  "language_info": {
   "codemirror_mode": {
    "name": "ipython",
    "version": 3
   },
   "file_extension": ".py",
   "mimetype": "text/x-python",
   "name": "python",
   "nbconvert_exporter": "python",
   "pygments_lexer": "ipython3",
   "version": "3.11.1"
  },
  "orig_nbformat": 4,
  "vscode": {
   "interpreter": {
    "hash": "108095e740c160118120ad5e22811b4aca9f414a6f3c55c969835bc2c10848d1"
   }
  }
 },
 "nbformat": 4,
 "nbformat_minor": 2
}
