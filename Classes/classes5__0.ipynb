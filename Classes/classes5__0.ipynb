{
 "cells": [
  {
   "cell_type": "code",
   "execution_count": 6,
   "metadata": {},
   "outputs": [
    {
     "name": "stdout",
     "output_type": "stream",
     "text": [
      "this is class C\n",
      "The new print is  45\n"
     ]
    }
   ],
   "source": [
    "class A():\n",
    "    def set_value(self,val):\n",
    "        print(\"This is inside class A\")\n",
    "        self.val = val\n",
    "    \n",
    "    def display(self):\n",
    "        print(self.val)\n",
    "\n",
    "class C():\n",
    "    def set_value(self,val):\n",
    "        print(\"this is class C\")\n",
    "        self.val = val\n",
    "\n",
    "class B(C,A):\n",
    "    def display(self):\n",
    "        print(\"The new print is \", str(self.val))\n",
    "    \n",
    "class D(B):\n",
    "    pass        \n",
    "              \n",
    "d = D()\n",
    "d.set_value(45)\n",
    "\n",
    "d.display()"
   ]
  },
  {
   "attachments": {},
   "cell_type": "markdown",
   "metadata": {},
   "source": [
    " Superclasses are listed in parentheses in a class header"
   ]
  },
  {
   "cell_type": "code",
   "execution_count": null,
   "metadata": {},
   "outputs": [],
   "source": [
    "a =10\n",
    "a =20\n",
    "print(a)"
   ]
  }
 ],
 "metadata": {
  "kernelspec": {
   "display_name": "Python 3",
   "language": "python",
   "name": "python3"
  },
  "language_info": {
   "codemirror_mode": {
    "name": "ipython",
    "version": 3
   },
   "file_extension": ".py",
   "mimetype": "text/x-python",
   "name": "python",
   "nbconvert_exporter": "python",
   "pygments_lexer": "ipython3",
   "version": "3.11.1"
  },
  "orig_nbformat": 4,
  "vscode": {
   "interpreter": {
    "hash": "108095e740c160118120ad5e22811b4aca9f414a6f3c55c969835bc2c10848d1"
   }
  }
 },
 "nbformat": 4,
 "nbformat_minor": 2
}
