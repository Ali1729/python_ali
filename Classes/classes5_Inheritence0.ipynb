{
 "cells": [
  {
   "cell_type": "code",
   "execution_count": 1,
   "metadata": {},
   "outputs": [
    {
     "name": "stdout",
     "output_type": "stream",
     "text": [
      "10\n",
      "The new print is  20\n",
      "10\n"
     ]
    }
   ],
   "source": [
    "# Simple inheritence\n",
    "class A():\n",
    "    def set_value(self,val):\n",
    "        self.val = val\n",
    "    \n",
    "    def display(self):\n",
    "        print(self.val)\n",
    "\n",
    "\n",
    "class B(A):\n",
    "    def display(self):\n",
    "        print(\"The new print is \", str(self.val))\n",
    "    \n",
    "\n",
    "x =A()\n",
    "x.set_value(10)\n",
    "x.display()\n",
    "y = B()\n",
    "y.set_value(20)\n",
    "y.display()\n",
    "x.display() # The changes to sub classes, wont effect the upper class behaviour"
   ]
  },
  {
   "cell_type": "code",
   "execution_count": null,
   "metadata": {},
   "outputs": [],
   "source": [
    "# In above example, we have not called constructor of Class A\n",
    "class A():\n",
    "    def __init__(self):\n",
    "        self.first_value = \"first\"\n",
    "\n",
    "\n",
    "class B(A):\n",
    "    def __init__(self):\n",
    "        self.second_value = \"second\"\n",
    "    \n",
    "x =B()\n",
    "x.first_value"
   ]
  }
 ],
 "metadata": {
  "kernelspec": {
   "display_name": "Python 3",
   "language": "python",
   "name": "python3"
  },
  "language_info": {
   "codemirror_mode": {
    "name": "ipython",
    "version": 3
   },
   "file_extension": ".py",
   "mimetype": "text/x-python",
   "name": "python",
   "nbconvert_exporter": "python",
   "pygments_lexer": "ipython3",
   "version": "3.11.1"
  },
  "orig_nbformat": 4,
  "vscode": {
   "interpreter": {
    "hash": "108095e740c160118120ad5e22811b4aca9f414a6f3c55c969835bc2c10848d1"
   }
  }
 },
 "nbformat": 4,
 "nbformat_minor": 2
}
