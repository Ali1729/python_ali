{
 "cells": [
  {
   "cell_type": "code",
   "execution_count": 5,
   "metadata": {},
   "outputs": [
    {
     "name": "stdout",
     "output_type": "stream",
     "text": [
      "first\n",
      "second\n"
     ]
    }
   ],
   "source": [
    "class A():\n",
    "    first_attribute = \"first\"\n",
    "    second_attribute = \"second\"\n",
    "\n",
    "\n",
    "x = A()\n",
    "print(x.first_attribute)\n",
    "print(x.second_attribute)\n"
   ]
  },
  {
   "cell_type": "code",
   "execution_count": null,
   "metadata": {},
   "outputs": [],
   "source": [
    "AA = {\"first_attribute\":\"first\", \"second_attribute\": \"second\"}\n",
    "AA[\"first_attribute\"]\n",
    "AA[\"second_attribute\"]"
   ]
  },
  {
   "cell_type": "code",
   "execution_count": 6,
   "metadata": {},
   "outputs": [
    {
     "name": "stdout",
     "output_type": "stream",
     "text": [
      "first\n"
     ]
    }
   ],
   "source": [
    "\n",
    "y = A()\n",
    "x.first_attribute = \"changed\"\n",
    "print(y.first_attribute)\n"
   ]
  },
  {
   "cell_type": "code",
   "execution_count": 4,
   "metadata": {},
   "outputs": [
    {
     "data": {
      "text/plain": [
       "'changed'"
      ]
     },
     "execution_count": 4,
     "metadata": {},
     "output_type": "execute_result"
    }
   ],
   "source": [
    "x.first_attribute"
   ]
  },
  {
   "cell_type": "code",
   "execution_count": 7,
   "metadata": {},
   "outputs": [
    {
     "name": "stdout",
     "output_type": "stream",
     "text": [
      "changed\n",
      "newly changed\n"
     ]
    }
   ],
   "source": [
    "A.first_attribute = \"newly changed\"\n",
    "print(x.first_attribute)\n",
    "print(y.first_attribute)"
   ]
  },
  {
   "cell_type": "code",
   "execution_count": 13,
   "metadata": {},
   "outputs": [
    {
     "name": "stdout",
     "output_type": "stream",
     "text": [
      "first\n",
      "second\n"
     ]
    },
    {
     "ename": "AttributeError",
     "evalue": "type object 'A' has no attribute 'two'",
     "output_type": "error",
     "traceback": [
      "\u001b[1;31m---------------------------------------------------------------------------\u001b[0m",
      "\u001b[1;31mAttributeError\u001b[0m                            Traceback (most recent call last)",
      "Cell \u001b[1;32mIn[13], line 12\u001b[0m\n\u001b[0;32m     10\u001b[0m y \u001b[39m=\u001b[39m A()\n\u001b[0;32m     11\u001b[0m \u001b[39m# print(y.two)\u001b[39;00m\n\u001b[1;32m---> 12\u001b[0m \u001b[39mprint\u001b[39m(A\u001b[39m.\u001b[39;49mtwo)\n",
      "\u001b[1;31mAttributeError\u001b[0m: type object 'A' has no attribute 'two'"
     ]
    }
   ],
   "source": [
    "class A():\n",
    "    first_attribute = \"first\"\n",
    "    second_attribute = \"second\"\n",
    "\n",
    "\n",
    "x = A()\n",
    "print(x.first_attribute)\n",
    "print(x.second_attribute)\n",
    "x.two = \"asdf\"\n",
    "y = A()\n",
    "# print(y.two)\n",
    "print(A.two)\n"
   ]
  },
  {
   "cell_type": "code",
   "execution_count": 9,
   "metadata": {},
   "outputs": [
    {
     "name": "stdout",
     "output_type": "stream",
     "text": [
      "first\n",
      "second\n",
      "asdf\n"
     ]
    }
   ],
   "source": [
    "# Changes to blue print , will reflect in instances.\n",
    "class A():\n",
    "    first_attribute = \"first\"\n",
    "    second_attribute = \"second\"\n",
    "\n",
    "\n",
    "x = A()\n",
    "print(x.first_attribute)\n",
    "print(x.second_attribute)\n",
    "\n",
    "y = A()\n",
    "A.two = \"asdf\"\n",
    "print(y.two)\n"
   ]
  },
  {
   "cell_type": "code",
   "execution_count": 10,
   "metadata": {},
   "outputs": [
    {
     "name": "stdout",
     "output_type": "stream",
     "text": [
      "first\n",
      "second\n",
      "not first\n",
      "not first\n"
     ]
    }
   ],
   "source": [
    "# Changes to blue print , will reflect in instances.\n",
    "class A():\n",
    "    first_attribute = \"first\"\n",
    "    second_attribute = \"second\"\n",
    "\n",
    "\n",
    "x = A()\n",
    "print(x.first_attribute)\n",
    "print(x.second_attribute)\n",
    "\n",
    "y = A()\n",
    "A.first_attribute = \"not first\"\n",
    "print(y.first_attribute)\n",
    "print(x.first_attribute)\n"
   ]
  },
  {
   "cell_type": "code",
   "execution_count": null,
   "metadata": {},
   "outputs": [],
   "source": []
  }
 ],
 "metadata": {
  "kernelspec": {
   "display_name": "Python 3",
   "language": "python",
   "name": "python3"
  },
  "language_info": {
   "codemirror_mode": {
    "name": "ipython",
    "version": 3
   },
   "file_extension": ".py",
   "mimetype": "text/x-python",
   "name": "python",
   "nbconvert_exporter": "python",
   "pygments_lexer": "ipython3",
   "version": "3.11.1"
  },
  "orig_nbformat": 4,
  "vscode": {
   "interpreter": {
    "hash": "108095e740c160118120ad5e22811b4aca9f414a6f3c55c969835bc2c10848d1"
   }
  }
 },
 "nbformat": 4,
 "nbformat_minor": 2
}
