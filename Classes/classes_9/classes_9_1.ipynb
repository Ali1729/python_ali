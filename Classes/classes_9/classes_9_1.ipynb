{
 "cells": [
  {
   "attachments": {},
   "cell_type": "markdown",
   "metadata": {},
   "source": [
    "Class is a compounding statement , similar to function.\n"
   ]
  },
  {
   "cell_type": "code",
   "execution_count": 2,
   "metadata": {},
   "outputs": [
    {
     "name": "stdout",
     "output_type": "stream",
     "text": [
      "class objects 2\n"
     ]
    }
   ],
   "source": [
    "class A:\n",
    "    x=45\n",
    "    if x >45 :\n",
    "        print(\" class objects\")\n",
    "        \n",
    "    else :\n",
    "        print(\"class objects 2\")\n",
    "        \n"
   ]
  },
  {
   "attachments": {},
   "cell_type": "markdown",
   "metadata": {},
   "source": [
    "class attributes will be accessible , with in instance."
   ]
  },
  {
   "cell_type": "code",
   "execution_count": 4,
   "metadata": {},
   "outputs": [
    {
     "data": {
      "text/plain": [
       "45"
      ]
     },
     "execution_count": 4,
     "metadata": {},
     "output_type": "execute_result"
    }
   ],
   "source": [
    "p =A()\n",
    "p.x\n",
    "\n"
   ]
  },
  {
   "attachments": {},
   "cell_type": "markdown",
   "metadata": {},
   "source": [
    "Class attributes can be changed with class itself.\n",
    "Those attributes will be changed in instance also, unless in instance have its own copy"
   ]
  },
  {
   "cell_type": "code",
   "execution_count": 5,
   "metadata": {},
   "outputs": [
    {
     "data": {
      "text/plain": [
       "50"
      ]
     },
     "execution_count": 5,
     "metadata": {},
     "output_type": "execute_result"
    }
   ],
   "source": [
    "A.x = 50\n",
    "p.x"
   ]
  },
  {
   "cell_type": "code",
   "execution_count": 6,
   "metadata": {},
   "outputs": [
    {
     "data": {
      "text/plain": [
       "100"
      ]
     },
     "execution_count": 6,
     "metadata": {},
     "output_type": "execute_result"
    }
   ],
   "source": [
    "p.x = 100\n",
    "A.x = 200\n",
    "p.x"
   ]
  },
  {
   "attachments": {},
   "cell_type": "markdown",
   "metadata": {},
   "source": [
    "class Attributes vs instance attributes."
   ]
  },
  {
   "cell_type": "code",
   "execution_count": 8,
   "metadata": {},
   "outputs": [
    {
     "data": {
      "text/plain": [
       "0"
      ]
     },
     "execution_count": 8,
     "metadata": {},
     "output_type": "execute_result"
    }
   ],
   "source": [
    "class Employee:\n",
    "    random_var = 0   # class variable.\n",
    "    def __init__(self, id, name, salary):\n",
    "        self.id = id # instance variable.\n",
    "        self.name = name\n",
    "        self.salary = salary\n",
    "        \n",
    "class EmployeeManagementSystem(Employee):\n",
    "    \n",
    "    \n",
    "    def __init__(self,id,name,salary):\n",
    "        super().__init__(id,name,salary)\n",
    "        \n",
    "  \n",
    "\n",
    "# Usage\n",
    "ems = EmployeeManagementSystem()\n",
    "\n",
    "ems.random_var"
   ]
  },
  {
   "attachments": {},
   "cell_type": "markdown",
   "metadata": {},
   "source": [
    "Self instance argument conversion   "
   ]
  },
  {
   "cell_type": "code",
   "execution_count": null,
   "metadata": {},
   "outputs": [],
   "source": [
    "instance.method(args...)\n",
    "\n",
    "class.method(instance, args...)"
   ]
  },
  {
   "cell_type": "code",
   "execution_count": 9,
   "metadata": {},
   "outputs": [
    {
     "name": "stdout",
     "output_type": "stream",
     "text": [
      "good morning.\n",
      "good Morning\n"
     ]
    }
   ],
   "source": [
    "class A():\n",
    "    def printf(self,message):\n",
    "        print(message)\n",
    "\n",
    "\n",
    "x = A()\n",
    "\n",
    "x.printf(\"good morning.\")\n",
    "A.printf(x,\"good Morning\")"
   ]
  },
  {
   "attachments": {},
   "cell_type": "markdown",
   "metadata": {},
   "source": [
    "local variables vs object scope"
   ]
  },
  {
   "cell_type": "code",
   "execution_count": null,
   "metadata": {},
   "outputs": [],
   "source": [
    "class A():\n",
    "    def method1(self,):\n",
    "        self.x = 10\n",
    "        y = 20\n",
    "    def method2(self,):\n",
    "        print(self.x)\n",
    "        print(y)"
   ]
  }
 ],
 "metadata": {
  "kernelspec": {
   "display_name": "Python 3",
   "language": "python",
   "name": "python3"
  },
  "language_info": {
   "codemirror_mode": {
    "name": "ipython",
    "version": 3
   },
   "file_extension": ".py",
   "mimetype": "text/x-python",
   "name": "python",
   "nbconvert_exporter": "python",
   "pygments_lexer": "ipython3",
   "version": "3.11.1"
  },
  "orig_nbformat": 4,
  "vscode": {
   "interpreter": {
    "hash": "108095e740c160118120ad5e22811b4aca9f414a6f3c55c969835bc2c10848d1"
   }
  }
 },
 "nbformat": 4,
 "nbformat_minor": 2
}
