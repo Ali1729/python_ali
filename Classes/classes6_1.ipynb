{
 "cells": [
  {
   "attachments": {},
   "cell_type": "markdown",
   "metadata": {},
   "source": [
    "Each object.attribute reference invokes a new, independent search"
   ]
  },
  {
   "cell_type": "code",
   "execution_count": 7,
   "metadata": {},
   "outputs": [
    {
     "data": {
      "text/plain": [
       "10"
      ]
     },
     "execution_count": 7,
     "metadata": {},
     "output_type": "execute_result"
    },
    {
     "data": {
      "text/plain": [
       "110"
      ]
     },
     "execution_count": 7,
     "metadata": {},
     "output_type": "execute_result"
    }
   ],
   "source": [
    "# Simple inheritence\n",
    "class A():\n",
    "    def __init__(self,val):\n",
    "        self.val = val\n",
    "        self.val2 = val +10\n",
    "        \n",
    "    def set_value(self,val):\n",
    "        self.val = val\n",
    "    \n",
    "    def display(self):\n",
    "        print(self.val)\n",
    "\n",
    "\n",
    "class B(A):\n",
    "    \n",
    "    def __init__(self,val):\n",
    "        super().__init__(val)\n",
    "        self.val = val\n",
    "        self.val2 = val+100\n",
    "    \n",
    "    def display(self):\n",
    "        print(\"The new print is \", str(self.val))\n",
    "    \n",
    "\n",
    "b = B(10)\n",
    "b.val\n",
    "b.val2\n",
    "# The changes to sub classes, wont effect the upper class behaviour"
   ]
  },
  {
   "attachments": {},
   "cell_type": "markdown",
   "metadata": {},
   "source": [
    "Logic changes are made by subclassing, not by changing superclasses"
   ]
  },
  {
   "cell_type": "code",
   "execution_count": 16,
   "metadata": {},
   "outputs": [
    {
     "name": "stdout",
     "output_type": "stream",
     "text": [
      "Person init is bing called.\n",
      "Person init is bing called.\n",
      "Manager init is bing called.\n",
      "Person init is bing called.\n"
     ]
    },
    {
     "data": {
      "text/plain": [
       "1310000"
      ]
     },
     "execution_count": 16,
     "metadata": {},
     "output_type": "execute_result"
    }
   ],
   "source": [
    "class Person:\n",
    "    def __init__(self, name, job=None, pay=0):\n",
    "        print(\"Person init is bing called.\")\n",
    "        self.name = name\n",
    "        self.job = job\n",
    "        self.pay = pay\n",
    "\n",
    "    \n",
    "    def lastName(self):\n",
    "        return self.name.split()[-1]\n",
    "    \n",
    "    def giveRaise(self,percent):\n",
    "        percent = percent+2\n",
    "        self.pay = int(self.pay * (1+percent) )\n",
    "        \n",
    "    # def giveRaise_manager(self,percent):\n",
    "    #     bonus = percent\n",
    "    #     self.pay =self.giveRaise(percent+bonus) # Bad: cut and past       \n",
    "        \n",
    "    \n",
    "\n",
    "    def __repr__(self):\n",
    "        return '[Person: %s, %s]' % (self.name, self.pay)\n",
    "\n",
    "\n",
    "class Manager(Person):\n",
    "    def __init__(self,name, job='mgr',pay=0):\n",
    "        print(\"Manager init is bing called.\")\n",
    "        Person.__init__(self, name, 'mgr', pay)\n",
    "        \n",
    "    # def giveRaise(self, percent, bonus=.10):\n",
    "       \n",
    "    #     self.pay = int(self.pay * (1 + percent + bonus)) # Bad: cut and past       \n",
    "\n",
    "    def giveRaise(self, percent, bonus=.10):\n",
    "        Person.giveRaise(self,percent+bonus) \n",
    "\n",
    "if __name__ == '__main__':\n",
    "    bob = Person('Bob Smith')\n",
    "    sue = Person('Sue Jones', job= 'dev', pay = 100000)\n",
    "    sue1 = Manager('Sue Jones', job= 'mgr', pay = 100000)\n",
    "    \n",
    "    sue1.giveRaise(10)\n",
    "    sue1.pay"
   ]
  },
  {
   "cell_type": "code",
   "execution_count": 17,
   "metadata": {},
   "outputs": [
    {
     "name": "stdout",
     "output_type": "stream",
     "text": [
      "[Person: Bob Smith, 0]\n",
      "[Person: Sue Jones, 100000]\n",
      "Smith Jones\n",
      "Manager init is bing called.\n",
      "Person init is bing called.\n",
      "--All three--\n",
      "[Person: Bob Smith, 0]\n",
      "[Person: Sue Jones, 310000]\n",
      "[Person: Sue Jones, 4192000]\n",
      "[Person: Tom Hiddle, 64000]\n"
     ]
    }
   ],
   "source": [
    "\n",
    "print(bob)\n",
    "print(sue)\n",
    "print(bob.lastName(), sue.lastName())\n",
    "\n",
    "tom = Manager('Tom Hiddle', job = 'Manager', pay = 20000)\n",
    "print('--All three--')\n",
    "for obj in (bob, sue, sue1,tom): # Process objects generically\n",
    "    obj.giveRaise(.10) # Run this object's giveRaise\n",
    "    print(obj) # Run the common __repr__\n"
   ]
  },
  {
   "attachments": {},
   "cell_type": "markdown",
   "metadata": {},
   "source": [
    "Extension of a function is different from extension of a class"
   ]
  },
  {
   "cell_type": "code",
   "execution_count": null,
   "metadata": {},
   "outputs": [],
   "source": [
    "def create_employee(id, name, salary,jobd):\n",
    "    return {\"id\": id, \"name\": name, \"salary\": salary,\"job\":jobd}\n",
    "\n",
    "def add_employee(employees, employee):\n",
    "    employees.append(employee)\n",
    "\n",
    "def remove_employee(employees, employee_id):\n",
    "    for employee in employees:\n",
    "        if employee[\"id\"] == employee_id:\n",
    "            employees.remove(employee)\n",
    "            return True\n",
    "    return False\n",
    "\n",
    "\n",
    "def giveRaise(percent):\n",
    "    pay = int(pay * (1+percent) )\n",
    "    \n",
    "    \n",
    "def giveRaise_manager(employee,percent,bonus):\n",
    "    if employee[\"job\"] == 'mgr':\n",
    "        pay = int(pay * (1+percent)+bonus )\n",
    "        \n",
    "\n",
    "def display_all_employees(employees):\n",
    "    for employee in employees:\n",
    "        print(\"Employee ID:\", employee[\"id\"])\n",
    "        print(\"Employee Name:\", employee[\"name\"])\n",
    "        print(\"Employee Salary:\", employee[\"salary\"])\n",
    "\n",
    "# Usage\n",
    "employees = []\n",
    "\n",
    "employee1 = create_employee(1, \"John Doe\", 50000)\n",
    "employee2 = create_employee(2, \"Jane Doe\", 60000)\n",
    "\n",
    "add_employee(employees, employee1)\n",
    "add_employee(employees, employee2)\n",
    "\n",
    "display_all_employees(employees)\n",
    "\n",
    "giveRaise(employee1)\n",
    "\n",
    "remove_employee(employees, 1)\n",
    "\n",
    "display_all_employees(employees)\n"
   ]
  },
  {
   "cell_type": "code",
   "execution_count": null,
   "metadata": {},
   "outputs": [],
   "source": [
    "class Person:\n",
    "    def __init__(self, name, job=None, pay=0):\n",
    "        print(\"Person init is bing called.\")\n",
    "        self.name = name\n",
    "        self.job = job\n",
    "        self.pay = pay\n",
    "\n",
    "    \n",
    "    def lastName(self):\n",
    "        return self.name.split()[-1]\n",
    "    \n",
    "    def giveRaise(self,percent):\n",
    "        self.pay = int(self.pay * (1+percent) )\n",
    "        \n",
    "    # def giveRaise_manager(self):\n",
    "    #     self.pay = int(self.pay * (1 + percent + bonus)) # Bad: cut and past       \n",
    "        \n",
    "    \n",
    "\n",
    "    def __repr__(self):\n",
    "        return '[Person: %s, %s]' % (self.name, self.pay)\n",
    "\n",
    "\n",
    "class Manager(Person):\n",
    "    def __init__(self,name, job='mgr',pay=0):\n",
    "        print(\"Manager init is bing called.\")\n",
    "        Person.__init__(self, name, 'mgr', pay)\n",
    "        \n",
    "    def giveRaise(self, percent, bonus=.10):\n",
    "        self.pay = int(self.pay * (1 + percent + bonus)) # Bad: cut and past    \n",
    "        \n",
    "    def giveRaise(self, percent, bonus=.10):\n",
    "        self.pay = int(self.pay * (1 + percent + bonus))   \n",
    "\n",
    "    def giveRaise(self, percent, bonus=.10):\n",
    "        Person.giveRaise(self,percent+bonus) \n",
    "\n",
    "if __name__ == '__main__':\n",
    "    bob = Person('Bob Smith')\n",
    "    sue = Person('Sue Jones', job= 'dev', pay = 100000)\n",
    "\n",
    "    print(bob)\n",
    "    print(sue)\n",
    "    print(bob.lastName(), sue.lastName())\n",
    "\n",
    "    tom = Manager('Tom Hiddle', job = 'Manager', pay = 20000)\n",
    "    print('--All three--')\n",
    "    for obj in (bob, sue, tom): # Process objects generically\n",
    "        obj.giveRaise(.10) # Run this object's giveRaise\n",
    "        print(obj) # Run the common __repr__"
   ]
  },
  {
   "attachments": {},
   "cell_type": "markdown",
   "metadata": {},
   "source": [
    "Classes are attributes in modules.\n",
    "\n",
    "importing a class from another module.\n",
    "\n",
    "more than on class can be there in single module . and more combination of variable , classes and modules are permitted \n",
    "\n"
   ]
  },
  {
   "cell_type": "code",
   "execution_count": null,
   "metadata": {},
   "outputs": [],
   "source": [
    "from classes42_constructor import A \n",
    "a =A()"
   ]
  },
  {
   "cell_type": "code",
   "execution_count": null,
   "metadata": {},
   "outputs": [],
   "source": [
    "import classes42_constructor \n",
    "a = classes42_constructor.A()"
   ]
  },
  {
   "attachments": {},
   "cell_type": "markdown",
   "metadata": {},
   "source": []
  }
 ],
 "metadata": {
  "kernelspec": {
   "display_name": "Python 3",
   "language": "python",
   "name": "python3"
  },
  "language_info": {
   "codemirror_mode": {
    "name": "ipython",
    "version": 3
   },
   "file_extension": ".py",
   "mimetype": "text/x-python",
   "name": "python",
   "nbconvert_exporter": "python",
   "pygments_lexer": "ipython3",
   "version": "3.11.1"
  },
  "orig_nbformat": 4,
  "vscode": {
   "interpreter": {
    "hash": "108095e740c160118120ad5e22811b4aca9f414a6f3c55c969835bc2c10848d1"
   }
  }
 },
 "nbformat": 4,
 "nbformat_minor": 2
}
