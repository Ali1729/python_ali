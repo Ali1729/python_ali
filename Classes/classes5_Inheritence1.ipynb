{
 "cells": [
  {
   "cell_type": "code",
   "execution_count": 1,
   "metadata": {},
   "outputs": [
    {
     "ename": "AttributeError",
     "evalue": "'B' object has no attribute 'first_value'",
     "output_type": "error",
     "traceback": [
      "\u001b[1;31m---------------------------------------------------------------------------\u001b[0m",
      "\u001b[1;31mAttributeError\u001b[0m                            Traceback (most recent call last)",
      "Cell \u001b[1;32mIn[1], line 11\u001b[0m\n\u001b[0;32m      8\u001b[0m         \u001b[39mself\u001b[39m\u001b[39m.\u001b[39msecond_value \u001b[39m=\u001b[39m \u001b[39m\"\u001b[39m\u001b[39msecond\u001b[39m\u001b[39m\"\u001b[39m\n\u001b[0;32m     10\u001b[0m x \u001b[39m=\u001b[39mB()\n\u001b[1;32m---> 11\u001b[0m x\u001b[39m.\u001b[39;49mfirst_value\n",
      "\u001b[1;31mAttributeError\u001b[0m: 'B' object has no attribute 'first_value'"
     ]
    }
   ],
   "source": [
    "# Simple inheritence\n",
    "class A():\n",
    "    def __init__(self):\n",
    "        self.first_value = \"first\"\n",
    "\n",
    "\n",
    "class B(A):\n",
    "    def __init__(self):\n",
    "        self.second_value = \"second\"\n",
    "    \n",
    "x =B()\n",
    "x.first_value"
   ]
  },
  {
   "cell_type": "code",
   "execution_count": null,
   "metadata": {},
   "outputs": [],
   "source": [
    "# In above example, we have not called constructor of Class A\n",
    "class A():\n",
    "    def __init__(self):\n",
    "        self.first_value = \"first\"\n",
    "\n",
    "\n",
    "class B(A):\n",
    "    def __init__(self):\n",
    "        self.second_value = \"second\"\n",
    "    \n",
    "x =B()\n",
    "x.first_value"
   ]
  }
 ],
 "metadata": {
  "kernelspec": {
   "display_name": "Python 3",
   "language": "python",
   "name": "python3"
  },
  "language_info": {
   "codemirror_mode": {
    "name": "ipython",
    "version": 3
   },
   "file_extension": ".py",
   "mimetype": "text/x-python",
   "name": "python",
   "nbconvert_exporter": "python",
   "pygments_lexer": "ipython3",
   "version": "3.11.1"
  },
  "orig_nbformat": 4,
  "vscode": {
   "interpreter": {
    "hash": "108095e740c160118120ad5e22811b4aca9f414a6f3c55c969835bc2c10848d1"
   }
  }
 },
 "nbformat": 4,
 "nbformat_minor": 2
}
