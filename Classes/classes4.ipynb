{
 "cells": [
  {
   "cell_type": "code",
   "execution_count": 4,
   "metadata": {},
   "outputs": [
    {
     "name": "stdout",
     "output_type": "stream",
     "text": [
      "{'__module__': '__main__', 'first_attribute': 'first', 'second_attribute': 'second', '__init__': <function A.__init__ at 0x00000164456C42C0>, '__dict__': <attribute '__dict__' of 'A' objects>, '__weakref__': <attribute '__weakref__' of 'A' objects>, '__doc__': None}\n",
      "{'third_attribute': 'third'}\n"
     ]
    }
   ],
   "source": [
    "class A():\n",
    "    \n",
    "    first_attribute = \"first\"\n",
    "    second_attribute = \"second\"\n",
    "\n",
    "    def __init__(self,):\n",
    "        \"\"\"this is documentaion\"\"\"\n",
    "        self.third_attribute = \"third\"\n",
    "    \n",
    "x= A()\n",
    "print(A.__dict__)\n",
    "print(x.__dict__)"
   ]
  },
  {
   "cell_type": "code",
   "execution_count": 3,
   "metadata": {},
   "outputs": [
    {
     "name": "stdout",
     "output_type": "stream",
     "text": [
      "{'third_attribute': 'third'}\n"
     ]
    }
   ],
   "source": [
    "x = A()\n",
    "print(x.__dict__)\n"
   ]
  },
  {
   "cell_type": "code",
   "execution_count": 4,
   "metadata": {},
   "outputs": [
    {
     "name": "stdout",
     "output_type": "stream",
     "text": [
      "first\n"
     ]
    }
   ],
   "source": [
    "print(x.first_attribute)"
   ]
  },
  {
   "cell_type": "code",
   "execution_count": 5,
   "metadata": {},
   "outputs": [
    {
     "name": "stdout",
     "output_type": "stream",
     "text": [
      "constructor is being called.\n"
     ]
    }
   ],
   "source": [
    "class A():\n",
    "    first_attribute = \"first\"\n",
    "    second_attribute = \"second\"\n",
    "\n",
    "    def __init__(self):\n",
    "        print(\"constructor is being called.\")\n",
    "        self.third_attribute = \"third\"\n",
    "        self.second_attribute = \"not really second\"\n",
    "    \n",
    "\n",
    "x = A()\n",
    "# print(x.second_attribute)"
   ]
  },
  {
   "cell_type": "code",
   "execution_count": 6,
   "metadata": {},
   "outputs": [
    {
     "name": "stdout",
     "output_type": "stream",
     "text": [
      "1\n",
      "2\n"
     ]
    },
    {
     "ename": "AttributeError",
     "evalue": "'A' object has no attribute 'second_attribute'",
     "output_type": "error",
     "traceback": [
      "\u001b[1;31m---------------------------------------------------------------------------\u001b[0m",
      "\u001b[1;31mAttributeError\u001b[0m                            Traceback (most recent call last)",
      "Cell \u001b[1;32mIn[6], line 12\u001b[0m\n\u001b[0;32m      8\u001b[0m         \u001b[39mprint\u001b[39m(\u001b[39m\"\u001b[39m\u001b[39m2\u001b[39m\u001b[39m\"\u001b[39m)\n\u001b[0;32m     11\u001b[0m x \u001b[39m=\u001b[39m A()\n\u001b[1;32m---> 12\u001b[0m \u001b[39mprint\u001b[39m(x\u001b[39m.\u001b[39;49msecond_attribute)\n",
      "\u001b[1;31mAttributeError\u001b[0m: 'A' object has no attribute 'second_attribute'"
     ]
    }
   ],
   "source": [
    "class A():\n",
    "    first_attribute = \"first\"\n",
    "\n",
    "    def __init__(self):\n",
    "        self.third_attribute = \"third\"\n",
    "        print(\"1\")\n",
    "        second_attribute = \"not really second\"\n",
    "        print(\"2\")\n",
    "    \n",
    "\n",
    "x = A()\n",
    "print(x.second_attribute)"
   ]
  },
  {
   "cell_type": "code",
   "execution_count": 7,
   "metadata": {},
   "outputs": [
    {
     "name": "stdout",
     "output_type": "stream",
     "text": [
      "not really second\n"
     ]
    }
   ],
   "source": [
    "class A():\n",
    "\n",
    "    def __init__(self):\n",
    "        self.third_attribute = \"third\"\n",
    "        self.second_attribute = \"not really second\"\n",
    "    \n",
    "    first_attribute = \"first\"\n",
    "    second_attribute = \"second\"\n",
    "\n",
    "x = A()\n",
    "print(x.second_attribute)\n",
    "\n"
   ]
  },
  {
   "cell_type": "code",
   "execution_count": null,
   "metadata": {},
   "outputs": [],
   "source": [
    "# self just below class is invalid.\n",
    "class A():\n",
    "\n",
    "    self.invalid = \"invalid\"\n",
    "\n",
    "    def __init__(self):\n",
    "        self.third_attribute = \"third\"\n",
    "        self.second_attribute = \"not really second\"\n",
    "    \n",
    "    first_attribute = \"first\"\n",
    "    second_attribute = \"second\"\n",
    "\n",
    "x = A()\n",
    "print(x.second_attribute)"
   ]
  },
  {
   "cell_type": "code",
   "execution_count": null,
   "metadata": {},
   "outputs": [],
   "source": [
    "# Self does not have to be self only \n",
    "class A():\n",
    "\n",
    "    def __init__(only1):\n",
    "        only1.third_attribute = \"third\"\n",
    "        only1.second_attribute = \"not really second\"\n",
    "    \n",
    "    first_attribute = \"first\"\n",
    "    second_attribute = \"second\"\n",
    "\n",
    "x = A()\n",
    "print(x.second_attribute)"
   ]
  },
  {
   "cell_type": "code",
   "execution_count": 8,
   "metadata": {},
   "outputs": [
    {
     "name": "stdout",
     "output_type": "stream",
     "text": [
      "third\n"
     ]
    },
    {
     "ename": "AttributeError",
     "evalue": "type object 'A' has no attribute 'third_attribute'",
     "output_type": "error",
     "traceback": [
      "\u001b[1;31m---------------------------------------------------------------------------\u001b[0m",
      "\u001b[1;31mAttributeError\u001b[0m                            Traceback (most recent call last)",
      "Cell \u001b[1;32mIn[8], line 16\u001b[0m\n\u001b[0;32m     14\u001b[0m x \u001b[39m=\u001b[39m A()\n\u001b[0;32m     15\u001b[0m \u001b[39mprint\u001b[39m(x\u001b[39m.\u001b[39mthird_attribute)\n\u001b[1;32m---> 16\u001b[0m \u001b[39mprint\u001b[39m(A\u001b[39m.\u001b[39;49mthird_attribute)\n",
      "\u001b[1;31mAttributeError\u001b[0m: type object 'A' has no attribute 'third_attribute'"
     ]
    }
   ],
   "source": [
    "# Class cannot access instance attributes.\n",
    "\n",
    "class A():\n",
    "\n",
    "    invalid = \"invalid\"\n",
    "\n",
    "    def __init__(only1):\n",
    "        only1.third_attribute = \"third\"\n",
    "        only1.second_attribute = \"not really second\"\n",
    "    \n",
    "    first_attribute = \"first\"\n",
    "    second_attribute = \"second\"\n",
    "\n",
    "x = A()\n",
    "print(x.third_attribute)\n",
    "print(A.third_attribute)"
   ]
  },
  {
   "cell_type": "code",
   "execution_count": 9,
   "metadata": {},
   "outputs": [
    {
     "name": "stdout",
     "output_type": "stream",
     "text": [
      "func1\n",
      "func1\n"
     ]
    }
   ],
   "source": [
    "\n",
    "class A():\n",
    "\n",
    "    invalid = \"invalid\"\n",
    "\n",
    "    def __init__(self):\n",
    "        self.third_attribute = \"third\"\n",
    "        self.second_attribute = \"not really second\"\n",
    "    \n",
    "    first_attribute = \"first\"\n",
    "    second_attribute = \"second\"\n",
    "\n",
    "    def func1(self):\n",
    "        print(\"func1\")\n",
    "\n",
    "\n",
    "x = A()\n",
    "# A.func1()\n",
    "x.func1()\n",
    "y = A()\n",
    "y.func1()"
   ]
  },
  {
   "cell_type": "code",
   "execution_count": 26,
   "metadata": {},
   "outputs": [
    {
     "data": {
      "text/plain": [
       "3"
      ]
     },
     "execution_count": 26,
     "metadata": {},
     "output_type": "execute_result"
    },
    {
     "data": {
      "text/plain": [
       "4"
      ]
     },
     "execution_count": 26,
     "metadata": {},
     "output_type": "execute_result"
    }
   ],
   "source": [
    "\n",
    "class A():\n",
    "\n",
    "    invalid = \"invalid\"\n",
    "\n",
    "    def __init__(self,third, fourth):\n",
    "        self.third_attribute =third\n",
    "        self.second_attribute = fourth\n",
    "    \n",
    "    first_attribute = \"first\"\n",
    "    second_attribute = \"second\"\n",
    "\n",
    "    def func1(self):\n",
    "        print(\"func1\")\n",
    "        \n",
    "x =A(3,4)\n",
    "x.third_attribute\n",
    "x.second_attribute\n"
   ]
  }
 ],
 "metadata": {
  "kernelspec": {
   "display_name": "Python 3",
   "language": "python",
   "name": "python3"
  },
  "language_info": {
   "codemirror_mode": {
    "name": "ipython",
    "version": 3
   },
   "file_extension": ".py",
   "mimetype": "text/x-python",
   "name": "python",
   "nbconvert_exporter": "python",
   "pygments_lexer": "ipython3",
   "version": "3.11.1"
  },
  "orig_nbformat": 4,
  "vscode": {
   "interpreter": {
    "hash": "108095e740c160118120ad5e22811b4aca9f414a6f3c55c969835bc2c10848d1"
   }
  }
 },
 "nbformat": 4,
 "nbformat_minor": 2
}
