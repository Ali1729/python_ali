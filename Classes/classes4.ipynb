{
 "cells": [
  {
   "cell_type": "code",
   "execution_count": 2,
   "metadata": {},
   "outputs": [
    {
     "name": "stdout",
     "output_type": "stream",
     "text": [
      "{'__module__': '__main__', 'first_attribute': 'first', 'second_attribute': 'second', '__init__': <function A.__init__ at 0x000001EC9F4D9580>, '__dict__': <attribute '__dict__' of 'A' objects>, '__weakref__': <attribute '__weakref__' of 'A' objects>, '__doc__': None}\n"
     ]
    }
   ],
   "source": [
    "class A():\n",
    "    first_attribute = \"first\"\n",
    "    second_attribute = \"second\"\n",
    "\n",
    "    def __init__(self):\n",
    "        self.third_attribute = \"third\"\n",
    "    \n",
    "\n",
    "print(A.__dict__)"
   ]
  },
  {
   "cell_type": "code",
   "execution_count": 4,
   "metadata": {},
   "outputs": [
    {
     "name": "stdout",
     "output_type": "stream",
     "text": [
      "{'third_attribute': 'third'}\n"
     ]
    }
   ],
   "source": [
    "x = A()\n",
    "print(x.__dict__)\n"
   ]
  },
  {
   "cell_type": "code",
   "execution_count": 5,
   "metadata": {},
   "outputs": [
    {
     "name": "stdout",
     "output_type": "stream",
     "text": [
      "first\n"
     ]
    }
   ],
   "source": [
    "print(x.first_attribute)"
   ]
  },
  {
   "cell_type": "code",
   "execution_count": 6,
   "metadata": {},
   "outputs": [
    {
     "name": "stdout",
     "output_type": "stream",
     "text": [
      "second\n"
     ]
    }
   ],
   "source": [
    "class A():\n",
    "    first_attribute = \"first\"\n",
    "    second_attribute = \"second\"\n",
    "\n",
    "    def __init__(self):\n",
    "        self.third_attribute = \"third\"\n",
    "        self.second_attribute = \"not really second\"\n",
    "    \n",
    "\n",
    "x = A()\n",
    "print(x.second_attribute)"
   ]
  },
  {
   "cell_type": "code",
   "execution_count": 7,
   "metadata": {},
   "outputs": [
    {
     "name": "stdout",
     "output_type": "stream",
     "text": [
      "second\n"
     ]
    }
   ],
   "source": [
    "class A():\n",
    "    first_attribute = \"first\"\n",
    "    second_attribute = \"second\"\n",
    "\n",
    "    def __init__(self):\n",
    "        self.third_attribute = \"third\"\n",
    "        second_attribute = \"not really second\"\n",
    "    \n",
    "\n",
    "x = A()\n",
    "print(x.second_attribute)"
   ]
  },
  {
   "cell_type": "code",
   "execution_count": 8,
   "metadata": {},
   "outputs": [
    {
     "name": "stdout",
     "output_type": "stream",
     "text": [
      "not really second\n"
     ]
    }
   ],
   "source": [
    "class A():\n",
    "\n",
    "    def __init__(self):\n",
    "        self.third_attribute = \"third\"\n",
    "        self.second_attribute = \"not really second\"\n",
    "    \n",
    "    first_attribute = \"first\"\n",
    "    second_attribute = \"second\"\n",
    "\n",
    "x = A()\n",
    "print(x.second_attribute)"
   ]
  },
  {
   "cell_type": "code",
   "execution_count": null,
   "metadata": {},
   "outputs": [],
   "source": [
    "# self just below class is invalid.\n",
    "class A():\n",
    "\n",
    "    self.invalid = \"invalid\"\n",
    "\n",
    "    def __init__(self):\n",
    "        self.third_attribute = \"third\"\n",
    "        self.second_attribute = \"not really second\"\n",
    "    \n",
    "    first_attribute = \"first\"\n",
    "    second_attribute = \"second\"\n",
    "\n",
    "x = A()\n",
    "print(x.second_attribute)"
   ]
  },
  {
   "cell_type": "code",
   "execution_count": null,
   "metadata": {},
   "outputs": [],
   "source": [
    "# Self does not have to be self only \n",
    "class A():\n",
    "\n",
    "    def __init__(only1):\n",
    "        only1.third_attribute = \"third\"\n",
    "        only1.second_attribute = \"not really second\"\n",
    "    \n",
    "    first_attribute = \"first\"\n",
    "    second_attribute = \"second\"\n",
    "\n",
    "x = A()\n",
    "print(x.second_attribute)"
   ]
  },
  {
   "cell_type": "code",
   "execution_count": 10,
   "metadata": {},
   "outputs": [
    {
     "ename": "AttributeError",
     "evalue": "type object 'A' has no attribute 'third_attribute'",
     "output_type": "error",
     "traceback": [
      "\u001b[1;31m---------------------------------------------------------------------------\u001b[0m",
      "\u001b[1;31mAttributeError\u001b[0m                            Traceback (most recent call last)",
      "Cell \u001b[1;32mIn[10], line 15\u001b[0m\n\u001b[0;32m     12\u001b[0m     second_attribute \u001b[39m=\u001b[39m \u001b[39m\"\u001b[39m\u001b[39msecond\u001b[39m\u001b[39m\"\u001b[39m\n\u001b[0;32m     14\u001b[0m x \u001b[39m=\u001b[39m A()\n\u001b[1;32m---> 15\u001b[0m \u001b[39mprint\u001b[39m(A\u001b[39m.\u001b[39;49mthird_attribute)\n",
      "\u001b[1;31mAttributeError\u001b[0m: type object 'A' has no attribute 'third_attribute'"
     ]
    }
   ],
   "source": [
    "# Class cannot access instance attributes.\n",
    "\n",
    "class A():\n",
    "\n",
    "    invalid = \"invalid\"\n",
    "\n",
    "    def __init__(only1):\n",
    "        only1.third_attribute = \"third\"\n",
    "        only1.second_attribute = \"not really second\"\n",
    "    \n",
    "    first_attribute = \"first\"\n",
    "    second_attribute = \"second\"\n",
    "\n",
    "x = A()\n",
    "print(A.third_attribute)"
   ]
  }
 ],
 "metadata": {
  "kernelspec": {
   "display_name": "Python 3",
   "language": "python",
   "name": "python3"
  },
  "language_info": {
   "codemirror_mode": {
    "name": "ipython",
    "version": 3
   },
   "file_extension": ".py",
   "mimetype": "text/x-python",
   "name": "python",
   "nbconvert_exporter": "python",
   "pygments_lexer": "ipython3",
   "version": "3.11.1"
  },
  "orig_nbformat": 4,
  "vscode": {
   "interpreter": {
    "hash": "108095e740c160118120ad5e22811b4aca9f414a6f3c55c969835bc2c10848d1"
   }
  }
 },
 "nbformat": 4,
 "nbformat_minor": 2
}
