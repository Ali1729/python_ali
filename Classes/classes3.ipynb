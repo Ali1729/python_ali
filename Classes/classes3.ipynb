{
 "cells": [
  {
   "cell_type": "code",
   "execution_count": 12,
   "metadata": {},
   "outputs": [
    {
     "name": "stdout",
     "output_type": "stream",
     "text": [
      "first\n",
      "second\n"
     ]
    },
    {
     "ename": "AttributeError",
     "evalue": "'A' object has no attribute 'third_attribute'",
     "output_type": "error",
     "traceback": [
      "\u001b[1;31m---------------------------------------------------------------------------\u001b[0m",
      "\u001b[1;31mAttributeError\u001b[0m                            Traceback (most recent call last)",
      "Cell \u001b[1;32mIn[12], line 14\u001b[0m\n\u001b[0;32m     12\u001b[0m \u001b[39mprint\u001b[39m(x\u001b[39m.\u001b[39msecond_attribute)\n\u001b[0;32m     13\u001b[0m \u001b[39m# x.func()\u001b[39;00m\n\u001b[1;32m---> 14\u001b[0m \u001b[39mprint\u001b[39m(x\u001b[39m.\u001b[39;49mthird_attribute)\n",
      "\u001b[1;31mAttributeError\u001b[0m: 'A' object has no attribute 'third_attribute'"
     ]
    }
   ],
   "source": [
    "# attributes definded inside method wont be accessible unless they have self\n",
    "class A():\n",
    "    first_attribute = \"first\"\n",
    "    second_attribute = \"second\"\n",
    "\n",
    "    def func(self):\n",
    "        self.third_attribute = \"third\"\n",
    "    \n",
    "\n",
    "x = A()\n",
    "print(x.first_attribute)\n",
    "print(x.second_attribute)\n",
    "# x.func()\n",
    "print(x.third_attribute)"
   ]
  },
  {
   "cell_type": "code",
   "execution_count": 7,
   "metadata": {},
   "outputs": [
    {
     "data": {
      "text/plain": [
       "__main__.A"
      ]
     },
     "execution_count": 7,
     "metadata": {},
     "output_type": "execute_result"
    }
   ],
   "source": [
    "# attributes definded inside method wont be accessible unless they have self\n",
    "class A():\n",
    "    first_attribute = \"first\"\n",
    "    second_attribute = \"second\"\n",
    "\n",
    "    def func():\n",
    "        third_attribute = \"third\"\n",
    "    \n",
    "x = A()\n",
    "type(x)"
   ]
  },
  {
   "cell_type": "code",
   "execution_count": 4,
   "metadata": {},
   "outputs": [
    {
     "name": "stdout",
     "output_type": "stream",
     "text": [
      "asdf\n",
      "first\n"
     ]
    }
   ],
   "source": [
    "# not giving paranthesis.\n",
    "class A():\n",
    "    first_attribute = \"first\"\n",
    "    second_attribute = \"second\"\n",
    "\n",
    "    def __init__(self):\n",
    "        self.fourth_value = \"fourth\"\n",
    "    def func():\n",
    "        third_attribute = \"third\"\n",
    "\n",
    "x= A\n",
    "x.two = \"asdf\"\n",
    "print(A.two)\n",
    "print(x.first_attribute)\n",
    "x.func()\n",
    "# x.fourth_value\n",
    "# x.__init__.fourth_value"
   ]
  },
  {
   "cell_type": "code",
   "execution_count": 14,
   "metadata": {},
   "outputs": [
    {
     "data": {
      "text/plain": [
       "'fourth'"
      ]
     },
     "execution_count": 14,
     "metadata": {},
     "output_type": "execute_result"
    }
   ],
   "source": [
    "#with self in methods we will be able to access.\n",
    "class A():\n",
    "    first_attribute = \"first\"\n",
    "    second_attribute = \"second\"\n",
    "\n",
    "    def __init__(self):\n",
    "        print(\"This is a constructor\")\n",
    "        self.fourth_value = \"fourth\"\n",
    "    def func(self):\n",
    "        self.third_attribute = \"third\"\n",
    "\n",
    "x= A()\n",
    "# x.third_attribute\n",
    "# x.fourth_value\n",
    "# x.fourth_value\n",
    "# x.__init__.fourth_value"
   ]
  },
  {
   "cell_type": "code",
   "execution_count": 3,
   "metadata": {},
   "outputs": [
    {
     "data": {
      "text/plain": [
       "'third'"
      ]
     },
     "execution_count": 3,
     "metadata": {},
     "output_type": "execute_result"
    }
   ],
   "source": [
    "x.func()\n",
    "x.third_attribute"
   ]
  }
 ],
 "metadata": {
  "kernelspec": {
   "display_name": "Python 3",
   "language": "python",
   "name": "python3"
  },
  "language_info": {
   "codemirror_mode": {
    "name": "ipython",
    "version": 3
   },
   "file_extension": ".py",
   "mimetype": "text/x-python",
   "name": "python",
   "nbconvert_exporter": "python",
   "pygments_lexer": "ipython3",
   "version": "3.11.1"
  },
  "orig_nbformat": 4,
  "vscode": {
   "interpreter": {
    "hash": "108095e740c160118120ad5e22811b4aca9f414a6f3c55c969835bc2c10848d1"
   }
  }
 },
 "nbformat": 4,
 "nbformat_minor": 2
}
