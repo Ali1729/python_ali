{
 "cells": [
  {
   "cell_type": "code",
   "execution_count": 1,
   "metadata": {},
   "outputs": [
    {
     "name": "stdout",
     "output_type": "stream",
     "text": [
      "first\n",
      "second\n"
     ]
    },
    {
     "ename": "AttributeError",
     "evalue": "'A' object has no attribute 'third_attribute'",
     "output_type": "error",
     "traceback": [
      "\u001b[1;31m---------------------------------------------------------------------------\u001b[0m",
      "\u001b[1;31mAttributeError\u001b[0m                            Traceback (most recent call last)",
      "Cell \u001b[1;32mIn[1], line 12\u001b[0m\n\u001b[0;32m     10\u001b[0m \u001b[39mprint\u001b[39m(x\u001b[39m.\u001b[39mfirst_attribute)\n\u001b[0;32m     11\u001b[0m \u001b[39mprint\u001b[39m(x\u001b[39m.\u001b[39msecond_attribute)\n\u001b[1;32m---> 12\u001b[0m \u001b[39mprint\u001b[39m(x\u001b[39m.\u001b[39;49mthird_attribute)\n",
      "\u001b[1;31mAttributeError\u001b[0m: 'A' object has no attribute 'third_attribute'"
     ]
    }
   ],
   "source": [
    "# attributes definded inside method wont be accessible unless they have self\n",
    "class A():\n",
    "    first_attribute = \"first\"\n",
    "    second_attribute = \"second\"\n",
    "\n",
    "    def func():\n",
    "        third_attribute = \"third\"\n",
    "    \n",
    "\n",
    "x = A()\n",
    "print(x.first_attribute)\n",
    "print(x.second_attribute)\n",
    "print(x.third_attribute)"
   ]
  },
  {
   "cell_type": "code",
   "execution_count": 2,
   "metadata": {},
   "outputs": [
    {
     "name": "stdout",
     "output_type": "stream",
     "text": [
      "asdf\n",
      "first\n"
     ]
    }
   ],
   "source": [
    "# not giving paranthesis.\n",
    "class A():\n",
    "    first_attribute = \"first\"\n",
    "    second_attribute = \"second\"\n",
    "\n",
    "    def __init__(self):\n",
    "        self.fourth_value = \"fourth\"\n",
    "    def func():\n",
    "        third_attribute = \"third\"\n",
    "\n",
    "x= A\n",
    "x.two = \"asdf\"\n",
    "print(A.two)\n",
    "print(x.first_attribute)\n",
    "x.func()\n",
    "# x.fourth_value\n",
    "# x.__init__.fourth_value"
   ]
  }
 ],
 "metadata": {
  "kernelspec": {
   "display_name": "Python 3",
   "language": "python",
   "name": "python3"
  },
  "language_info": {
   "codemirror_mode": {
    "name": "ipython",
    "version": 3
   },
   "file_extension": ".py",
   "mimetype": "text/x-python",
   "name": "python",
   "nbconvert_exporter": "python",
   "pygments_lexer": "ipython3",
   "version": "3.11.1"
  },
  "orig_nbformat": 4,
  "vscode": {
   "interpreter": {
    "hash": "108095e740c160118120ad5e22811b4aca9f414a6f3c55c969835bc2c10848d1"
   }
  }
 },
 "nbformat": 4,
 "nbformat_minor": 2
}
