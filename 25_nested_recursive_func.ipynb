{
 "cells": [
  {
   "cell_type": "code",
   "execution_count": 4,
   "metadata": {},
   "outputs": [
    {
     "name": "stdout",
     "output_type": "stream",
     "text": [
      "[0] 0\n",
      "[0, 1] 1\n",
      "[0, 1, 2] 3\n",
      "[0, 1, 2, 3] 6\n",
      "[0, 1, 2, 3, 4] 10\n",
      "[0, 1, 2, 3, 4, 5] 15\n",
      "[0, 1, 2, 3, 4, 5, 6] 21\n",
      "[0, 1, 2, 3, 4, 5, 6, 7] 28\n",
      "[0, 1, 2, 3, 4, 5, 6, 7, 8] 36\n",
      "[0, 1, 2, 3, 4, 5, 6, 7, 8, 9] 45\n",
      "[0, 1, 2, 3, 4, 5, 6, 7, 8, 9, 10] 55\n",
      "[0, 1, 2, 3, 4, 5, 6, 7, 8, 9, 10, 11] 66\n",
      "[0, 1, 2, 3, 4, 5, 6, 7, 8, 9, 10, 11, 12] 78\n",
      "[0, 1, 2, 3, 4, 5, 6, 7, 8, 9, 10, 11, 12, 13] 91\n",
      "[0, 1, 2, 3, 4, 5, 6, 7, 8, 9, 10, 11, 12, 13, 14] 105\n"
     ]
    },
    {
     "data": {
      "text/plain": [
       "105"
      ]
     },
     "execution_count": 4,
     "metadata": {},
     "output_type": "execute_result"
    }
   ],
   "source": [
    "# sum list of values one by one from starting value , \n",
    "# return when sum > 100\n",
    "\n",
    "\n",
    "\n",
    "def mysum(L):\n",
    "    len1 = len(L)\n",
    "    for i in range(1,len1):\n",
    "        print(L[0:i],sum(L[0:i]))\n",
    "        if sum(L[0:i]) > 100:\n",
    "            return sum(L[0:i])\n",
    "        \n",
    "mysum(list(range(50)))\n",
    "        "
   ]
  },
  {
   "cell_type": "code",
   "execution_count": 10,
   "metadata": {},
   "outputs": [
    {
     "data": {
      "text/plain": [
       "4950"
      ]
     },
     "execution_count": 10,
     "metadata": {},
     "output_type": "execute_result"
    }
   ],
   "source": [
    "# sum list of values without using sum function\n",
    "\n",
    "\n",
    "\n",
    "def mysum(L):\n",
    "    len1 = len(L)\n",
    "    sum1 =0\n",
    "    for i in L:\n",
    "        sum1 = sum1+i\n",
    "    return sum1\n",
    "        \n",
    "        \n",
    "        \n",
    "mysum(list(range(100)))"
   ]
  },
  {
   "cell_type": "code",
   "execution_count": 11,
   "metadata": {},
   "outputs": [
    {
     "name": "stdout",
     "output_type": "stream",
     "text": [
      "100\n"
     ]
    },
    {
     "ename": "TypeError",
     "evalue": "'int' object is not subscriptable",
     "output_type": "error",
     "traceback": [
      "\u001b[1;31m---------------------------------------------------------------------------\u001b[0m",
      "\u001b[1;31mTypeError\u001b[0m                                 Traceback (most recent call last)",
      "Cell \u001b[1;32mIn[11], line 11\u001b[0m\n\u001b[0;32m      8\u001b[0m     \u001b[39melse\u001b[39;00m:\n\u001b[0;32m      9\u001b[0m         \u001b[39mreturn\u001b[39;00m L[\u001b[39m0\u001b[39m] \u001b[39m+\u001b[39m mysum(L[\u001b[39m1\u001b[39m:])\n\u001b[1;32m---> 11\u001b[0m mysum(\u001b[39m100\u001b[39;49m)\n",
      "Cell \u001b[1;32mIn[11], line 9\u001b[0m, in \u001b[0;36mmysum\u001b[1;34m(L)\u001b[0m\n\u001b[0;32m      7\u001b[0m     \u001b[39mreturn\u001b[39;00m \u001b[39m0\u001b[39m\n\u001b[0;32m      8\u001b[0m \u001b[39melse\u001b[39;00m:\n\u001b[1;32m----> 9\u001b[0m     \u001b[39mreturn\u001b[39;00m L[\u001b[39m0\u001b[39;49m] \u001b[39m+\u001b[39m mysum(L[\u001b[39m1\u001b[39m:])\n",
      "\u001b[1;31mTypeError\u001b[0m: 'int' object is not subscriptable"
     ]
    }
   ],
   "source": [
    "# example of nested function to get the sum of lists.\n",
    "\n",
    "def mysum(L):\n",
    "    print(L) # Trace recursive levels\n",
    "    \n",
    "    if not L: # L shorter at each level\n",
    "        return 0\n",
    "    else:\n",
    "        return L[0] + mysum(L[1:])\n",
    "    \n",
    "mysum(100)"
   ]
  },
  {
   "cell_type": "code",
   "execution_count": 16,
   "metadata": {},
   "outputs": [
    {
     "name": "stdout",
     "output_type": "stream",
     "text": [
      "range(0, 100)\n",
      "range(1, 100)\n",
      "range(2, 100)\n",
      "range(3, 100)\n",
      "range(4, 100)\n",
      "range(5, 100)\n",
      "range(6, 100)\n",
      "range(7, 100)\n",
      "range(8, 100)\n",
      "range(9, 100)\n",
      "range(10, 100)\n",
      "range(11, 100)\n",
      "range(12, 100)\n",
      "range(13, 100)\n",
      "range(14, 100)\n",
      "range(15, 100)\n",
      "range(16, 100)\n",
      "range(17, 100)\n",
      "range(18, 100)\n",
      "range(19, 100)\n",
      "range(20, 100)\n",
      "range(21, 100)\n",
      "range(22, 100)\n",
      "range(23, 100)\n",
      "range(24, 100)\n",
      "range(25, 100)\n",
      "range(26, 100)\n",
      "range(27, 100)\n",
      "range(28, 100)\n",
      "range(29, 100)\n",
      "range(30, 100)\n",
      "range(31, 100)\n",
      "range(32, 100)\n",
      "range(33, 100)\n",
      "range(34, 100)\n",
      "range(35, 100)\n",
      "range(36, 100)\n",
      "range(37, 100)\n",
      "range(38, 100)\n",
      "range(39, 100)\n",
      "range(40, 100)\n",
      "range(41, 100)\n",
      "range(42, 100)\n",
      "range(43, 100)\n",
      "range(44, 100)\n",
      "range(45, 100)\n",
      "range(46, 100)\n",
      "range(47, 100)\n",
      "range(48, 100)\n",
      "range(49, 100)\n",
      "range(50, 100)\n",
      "range(51, 100)\n",
      "range(52, 100)\n",
      "range(53, 100)\n",
      "range(54, 100)\n",
      "range(55, 100)\n",
      "range(56, 100)\n",
      "range(57, 100)\n",
      "range(58, 100)\n",
      "range(59, 100)\n",
      "range(60, 100)\n",
      "range(61, 100)\n",
      "range(62, 100)\n",
      "range(63, 100)\n",
      "range(64, 100)\n",
      "range(65, 100)\n",
      "range(66, 100)\n",
      "range(67, 100)\n",
      "range(68, 100)\n",
      "range(69, 100)\n",
      "range(70, 100)\n",
      "range(71, 100)\n",
      "range(72, 100)\n",
      "range(73, 100)\n",
      "range(74, 100)\n",
      "range(75, 100)\n",
      "range(76, 100)\n",
      "range(77, 100)\n",
      "range(78, 100)\n",
      "range(79, 100)\n",
      "range(80, 100)\n",
      "range(81, 100)\n",
      "range(82, 100)\n",
      "range(83, 100)\n",
      "range(84, 100)\n",
      "range(85, 100)\n",
      "range(86, 100)\n",
      "range(87, 100)\n",
      "range(88, 100)\n",
      "range(89, 100)\n",
      "range(90, 100)\n",
      "range(91, 100)\n",
      "range(92, 100)\n",
      "range(93, 100)\n",
      "range(94, 100)\n",
      "range(95, 100)\n",
      "range(96, 100)\n",
      "range(97, 100)\n",
      "range(98, 100)\n",
      "range(99, 100)\n",
      "range(100, 100)\n"
     ]
    },
    {
     "data": {
      "text/plain": [
       "4950"
      ]
     },
     "execution_count": 16,
     "metadata": {},
     "output_type": "execute_result"
    }
   ],
   "source": [
    "\n",
    "def mysum(L):\n",
    "    print(L) # Trace recursive levels\n",
    "    \n",
    "    if not L: # L shorter at each level\n",
    "        return 0\n",
    "    else:\n",
    "        return L[0] + mysum(L[1:])\n",
    "    \n",
    "mysum(range(100))"
   ]
  },
  {
   "attachments": {},
   "cell_type": "markdown",
   "metadata": {},
   "source": [
    "Nested functions\n"
   ]
  },
  {
   "attachments": {},
   "cell_type": "markdown",
   "metadata": {},
   "source": []
  },
  {
   "cell_type": "code",
   "execution_count": null,
   "metadata": {},
   "outputs": [],
   "source": [
    "__annotations__"
   ]
  },
  {
   "cell_type": "code",
   "execution_count": null,
   "metadata": {},
   "outputs": [],
   "source": [
    "def func(a,b,c):\n",
    "    return a+b+c\n",
    "\n",
    "func(1,2,3)"
   ]
  },
  {
   "cell_type": "code",
   "execution_count": 17,
   "metadata": {},
   "outputs": [
    {
     "data": {
      "text/plain": [
       "16.5"
      ]
     },
     "execution_count": 17,
     "metadata": {},
     "output_type": "execute_result"
    }
   ],
   "source": [
    "def func(a: str, b: (1, 10), c: float) -> int:\n",
    "    return a + b + c    \n",
    "\n",
    "func(1,5,10.5)"
   ]
  },
  {
   "cell_type": "markdown",
   "metadata": {},
   "source": []
  },
  {
   "cell_type": "code",
   "execution_count": null,
   "metadata": {},
   "outputs": [],
   "source": [
    "Lambda Functions"
   ]
  },
  {
   "cell_type": "code",
   "execution_count": 6,
   "metadata": {},
   "outputs": [
    {
     "data": {
      "text/plain": [
       "12"
      ]
     },
     "execution_count": 6,
     "metadata": {},
     "output_type": "execute_result"
    }
   ],
   "source": [
    "def sum3(a,b,c):\n",
    "    return a+b+c\n",
    "\n",
    "\n",
    "f = lambda a,b,c:a+b+c\n",
    "\n",
    "f(3,4,5) "
   ]
  },
  {
   "cell_type": "code",
   "execution_count": null,
   "metadata": {},
   "outputs": [],
   "source": [
    "def f (a,b,c):"
   ]
  },
  {
   "attachments": {},
   "cell_type": "markdown",
   "metadata": {},
   "source": [
    "function definition is not a statement.\n",
    "lambda is a statement\n",
    "lambda can be there in list.\n",
    "lambda can exist without any name.\n",
    "lambda can only have single statement not a blcok\n"
   ]
  },
  {
   "cell_type": "code",
   "execution_count": 7,
   "metadata": {},
   "outputs": [
    {
     "name": "stdout",
     "output_type": "stream",
     "text": [
      "25\n",
      "125\n",
      "625\n"
     ]
    }
   ],
   "source": [
    "L = [lambda x: x ** 2 \n",
    "lambda x: x ** 3,\n",
    "lambda x: x ** 4] # A list of three callable \n",
    "\n",
    "for f in L:\n",
    "    print(f(5))"
   ]
  }
 ],
 "metadata": {
  "kernelspec": {
   "display_name": "Python 3",
   "language": "python",
   "name": "python3"
  },
  "language_info": {
   "codemirror_mode": {
    "name": "ipython",
    "version": 3
   },
   "file_extension": ".py",
   "mimetype": "text/x-python",
   "name": "python",
   "nbconvert_exporter": "python",
   "pygments_lexer": "ipython3",
   "version": "3.11.1"
  },
  "orig_nbformat": 4,
  "vscode": {
   "interpreter": {
    "hash": "108095e740c160118120ad5e22811b4aca9f414a6f3c55c969835bc2c10848d1"
   }
  }
 },
 "nbformat": 4,
 "nbformat_minor": 2
}
