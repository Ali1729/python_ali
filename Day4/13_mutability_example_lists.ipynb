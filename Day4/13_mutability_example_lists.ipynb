{
 "cells": [
  {
   "cell_type": "code",
   "execution_count": 1,
   "metadata": {},
   "outputs": [
    {
     "ename": "TypeError",
     "evalue": "'tuple' object does not support item assignment",
     "output_type": "error",
     "traceback": [
      "\u001b[1;31m---------------------------------------------------------------------------\u001b[0m",
      "\u001b[1;31mTypeError\u001b[0m                                 Traceback (most recent call last)",
      "Cell \u001b[1;32mIn[1], line 6\u001b[0m\n\u001b[0;32m      2\u001b[0m InteractiveShell\u001b[39m.\u001b[39mast_node_interactivity \u001b[39m=\u001b[39m \u001b[39m\"\u001b[39m\u001b[39mall\u001b[39m\u001b[39m\"\u001b[39m\n\u001b[0;32m      5\u001b[0m nums \u001b[39m=\u001b[39m (\u001b[39m1\u001b[39m, \u001b[39m2\u001b[39m, \u001b[39m3\u001b[39m)\n\u001b[1;32m----> 6\u001b[0m nums[\u001b[39m0\u001b[39;49m] \u001b[39m=\u001b[39m \u001b[39m100\u001b[39m \u001b[39m# ERROR!\u001b[39;00m\n\u001b[0;32m      9\u001b[0m nums \u001b[39m=\u001b[39m [\u001b[39m1\u001b[39m, \u001b[39m2\u001b[39m, \u001b[39m3\u001b[39m]\n\u001b[0;32m     10\u001b[0m nums[\u001b[39m0\u001b[39m] \u001b[39m=\u001b[39m \u001b[39m100\u001b[39m \u001b[39m# Works\u001b[39;00m\n",
      "\u001b[1;31mTypeError\u001b[0m: 'tuple' object does not support item assignment"
     ]
    }
   ],
   "source": [
    "list1 = [1,2,3]\n",
    "nums = (1, 2, 3)\n",
    "nums[0] = 100 # ERROR!\n",
    "nums = [1, 2, 3]\n",
    "nums[0] = 100 # Works"
   ]
  },
  {
   "attachments": {},
   "cell_type": "markdown",
   "metadata": {},
   "source": [
    "    # Tuples and lists are both used to store collection of data\n",
    "    # Tuples and lists are both heterogeneous data types means that you can store any kind of data type.\n",
    "    # Tuples and lists are both ordered means the order in which you put the items are kept.\n",
    "    # Tuples and lists are both sequential data types so you can iterate over the items contained.\n",
    "    # Items of both tuples and lists can be accessed by an integer index operator, provided in square brackets, [index]."
   ]
  },
  {
   "cell_type": "code",
   "execution_count": 3,
   "metadata": {},
   "outputs": [
    {
     "name": "stdout",
     "output_type": "stream",
     "text": [
      "104\n",
      "80\n"
     ]
    }
   ],
   "source": [
    "# Tuples are memory efficient\n",
    "import sys\n",
    "\n",
    "a_list = list()\n",
    "a_tuple = tuple()\n",
    "\n",
    "a_list = [1,2,3,4,5]\n",
    "a_tuple = (1,2,3,4,5)\n",
    "\n",
    "print(sys.getsizeof(a_list))\n",
    "print(sys.getsizeof(a_tuple))\n"
   ]
  },
  {
   "cell_type": "code",
   "execution_count": 1,
   "metadata": {},
   "outputs": [
    {
     "name": "stdout",
     "output_type": "stream",
     "text": [
      "3.11.1\n",
      "Instantiation time for LIST: 0.20844125747680664\n",
      "Instantiation time for TUPLE: 0.22240853309631348\n",
      "Lookup time for LIST:  0.8754231929779053\n",
      "Lookup time for TUPLE:  0.9100773334503174\n"
     ]
    }
   ],
   "source": [
    "\n",
    "import sys, platform\n",
    "import time\n",
    "\n",
    "print(platform.python_version())\n",
    "\n",
    "start_time = time.time()\n",
    "b_list = list(range(10000000))\n",
    "end_time = time.time()\n",
    "print(\"Instantiation time for LIST:\", end_time - start_time)\n",
    "\n",
    "start_time = time.time()\n",
    "b_tuple = tuple(range(10000000))\n",
    "end_time = time.time()\n",
    "print(\"Instantiation time for TUPLE:\", end_time - start_time)\n",
    "\n",
    "start_time = time.time()\n",
    "for item in b_list:\n",
    "  aa = b_list[20000]\n",
    "end_time = time.time()\n",
    "print(\"Lookup time for LIST: \", end_time - start_time)\n",
    "\n",
    "start_time = time.time()\n",
    "for item in b_tuple:\n",
    "  aa = b_tuple[20000]\n",
    "end_time = time.time()\n",
    "print(\"Lookup time for TUPLE: \", end_time - start_time)"
   ]
  },
  {
   "attachments": {},
   "cell_type": "markdown",
   "metadata": {},
   "source": [
    "There may be some occasions when you don’t want your data to be changed. If you have data that’s not meant to be changed in the first place, you should choose tuple data type over lists.\n",
    "\n",
    "But if you know that the data will grow and shrink during the runtime of the application, you need to go with the list data type."
   ]
  },
  {
   "cell_type": "code",
   "execution_count": null,
   "metadata": {},
   "outputs": [],
   "source": []
  },
  {
   "cell_type": "code",
   "execution_count": 2,
   "metadata": {},
   "outputs": [
    {
     "data": {
      "text/plain": [
       "1809342142400"
      ]
     },
     "execution_count": 2,
     "metadata": {},
     "output_type": "execute_result"
    },
    {
     "data": {
      "text/plain": [
       "140710716171144"
      ]
     },
     "execution_count": 2,
     "metadata": {},
     "output_type": "execute_result"
    }
   ],
   "source": [
    "a = [1,2,3,4]\n",
    "id(a)\n",
    "id(a[3])"
   ]
  },
  {
   "cell_type": "code",
   "execution_count": 3,
   "metadata": {},
   "outputs": [
    {
     "ename": "TypeError",
     "evalue": "'tuple' object does not support item assignment",
     "output_type": "error",
     "traceback": [
      "\u001b[1;31m---------------------------------------------------------------------------\u001b[0m",
      "\u001b[1;31mTypeError\u001b[0m                                 Traceback (most recent call last)",
      "Cell \u001b[1;32mIn[3], line 6\u001b[0m\n\u001b[0;32m      2\u001b[0m InteractiveShell\u001b[39m.\u001b[39mast_node_interactivity \u001b[39m=\u001b[39m \u001b[39m\"\u001b[39m\u001b[39mall\u001b[39m\u001b[39m\"\u001b[39m\n\u001b[0;32m      5\u001b[0m nums \u001b[39m=\u001b[39m (\u001b[39m1\u001b[39m, \u001b[39m2\u001b[39m, \u001b[39m3\u001b[39m)\n\u001b[1;32m----> 6\u001b[0m nums[\u001b[39m0\u001b[39;49m] \u001b[39m=\u001b[39m \u001b[39m100\u001b[39m \u001b[39m# ERROR!\u001b[39;00m\n\u001b[0;32m      9\u001b[0m nums \u001b[39m=\u001b[39m [\u001b[39m1\u001b[39m, \u001b[39m2\u001b[39m, \u001b[39m3\u001b[39m]\n\u001b[0;32m     10\u001b[0m nums[\u001b[39m0\u001b[39m] \u001b[39m=\u001b[39m \u001b[39m100\u001b[39m \u001b[39m# Works\u001b[39;00m\n",
      "\u001b[1;31mTypeError\u001b[0m: 'tuple' object does not support item assignment"
     ]
    }
   ],
   "source": [
    "\n",
    "from IPython.core.interactiveshell import InteractiveShell\n",
    "InteractiveShell.ast_node_interactivity = \"all\"\n",
    "\n",
    "\n",
    "nums = (1, 2, 3)\n",
    "nums[0] = 100 # ERROR!\n",
    "\n",
    "\n",
    "nums = [1, 2, 3]\n",
    "nums[0] = 100 # Works\n",
    "\n",
    "   "
   ]
  },
  {
   "cell_type": "code",
   "execution_count": 2,
   "metadata": {},
   "outputs": [
    {
     "data": {
      "text/plain": [
       "(1, 2, 3, 4, [23, 4, 5, 10])"
      ]
     },
     "execution_count": 2,
     "metadata": {},
     "output_type": "execute_result"
    }
   ],
   "source": [
    "nums = (1,2,3,4,[23,4,5])\n",
    "nums[4].append(10)\n",
    "nums\n"
   ]
  },
  {
   "cell_type": "code",
   "execution_count": 5,
   "metadata": {},
   "outputs": [
    {
     "data": {
      "text/plain": [
       "2847248428912"
      ]
     },
     "execution_count": 5,
     "metadata": {},
     "output_type": "execute_result"
    },
    {
     "data": {
      "text/plain": [
       "2847248428912"
      ]
     },
     "execution_count": 5,
     "metadata": {},
     "output_type": "execute_result"
    },
    {
     "data": {
      "text/plain": [
       "2847248428912"
      ]
     },
     "execution_count": 5,
     "metadata": {},
     "output_type": "execute_result"
    },
    {
     "data": {
      "text/plain": [
       "2847248428912"
      ]
     },
     "execution_count": 5,
     "metadata": {},
     "output_type": "execute_result"
    },
    {
     "data": {
      "text/plain": [
       "2847248428912"
      ]
     },
     "execution_count": 5,
     "metadata": {},
     "output_type": "execute_result"
    },
    {
     "data": {
      "text/plain": [
       "(1, 2, 3, 4, [23, 4, 5, 10, 20, 500, 5000])"
      ]
     },
     "execution_count": 5,
     "metadata": {},
     "output_type": "execute_result"
    },
    {
     "name": "stdout",
     "output_type": "stream",
     "text": [
      "1 140710184477480\n",
      "2 140710184477512\n",
      "3 140710184477544\n",
      "4 140710184477576\n",
      "[23, 4, 5, 10, 20, 500, 5000] 2847248567168\n"
     ]
    }
   ],
   "source": [
    "for i in nums:\n",
    "    id(nums)\n",
    "\n",
    "nums[4].append(5000)\n",
    "nums\n",
    "for i in nums:\n",
    "    print(i , id(i))"
   ]
  },
  {
   "cell_type": "code",
   "execution_count": 9,
   "metadata": {},
   "outputs": [
    {
     "name": "stdout",
     "output_type": "stream",
     "text": [
      "1 140710716171048\n",
      "2 140710716171080\n",
      "3 140710716171112\n",
      "4 140710716171144\n",
      "5 140710716171176\n",
      "\n",
      "\n",
      "\n",
      "1 140710716171048\n",
      "2 140710716171080\n",
      "3 140710716171112\n",
      "4 140710716171144\n",
      "25 140710716171816\n"
     ]
    }
   ],
   "source": [
    "a = [1,2,3,4,5]\n",
    "for i in a:\n",
    "    print(i,id(i))\n",
    "\n",
    "print('\\n\\n')\n",
    "a[4] = 25\n",
    "for i in a:\n",
    "    print(i,id(i))"
   ]
  },
  {
   "cell_type": "code",
   "execution_count": null,
   "metadata": {},
   "outputs": [],
   "source": []
  },
  {
   "cell_type": "code",
   "execution_count": 10,
   "metadata": {},
   "outputs": [
    {
     "data": {
      "text/plain": [
       "1"
      ]
     },
     "execution_count": 10,
     "metadata": {},
     "output_type": "execute_result"
    },
    {
     "data": {
      "text/plain": [
       "3"
      ]
     },
     "execution_count": 10,
     "metadata": {},
     "output_type": "execute_result"
    }
   ],
   "source": [
    "# Accessing Tuple variables is same as access lists, but we cannot update.\n",
    "a= (1,2,3)\n",
    "a[0]\n",
    "a[2]\n"
   ]
  },
  {
   "cell_type": "code",
   "execution_count": 7,
   "metadata": {},
   "outputs": [
    {
     "ename": "AttributeError",
     "evalue": "'tuple' object has no attribute 'append'",
     "output_type": "error",
     "traceback": [
      "\u001b[1;31m---------------------------------------------------------------------------\u001b[0m",
      "\u001b[1;31mAttributeError\u001b[0m                            Traceback (most recent call last)",
      "Cell \u001b[1;32mIn[7], line 6\u001b[0m\n\u001b[0;32m      3\u001b[0m     \u001b[39mprint\u001b[39m(l)\n\u001b[0;32m      5\u001b[0m \u001b[39m# process([10,15,16])\u001b[39;00m\n\u001b[1;32m----> 6\u001b[0m process((\u001b[39m1\u001b[39;49m,\u001b[39m2\u001b[39;49m,\u001b[39m3\u001b[39;49m))\n",
      "Cell \u001b[1;32mIn[7], line 2\u001b[0m, in \u001b[0;36mprocess\u001b[1;34m(l)\u001b[0m\n\u001b[0;32m      1\u001b[0m \u001b[39mdef\u001b[39;00m \u001b[39mprocess\u001b[39m(l):\n\u001b[1;32m----> 2\u001b[0m     l\u001b[39m.\u001b[39;49mappend(\u001b[39m10\u001b[39m)\n\u001b[0;32m      3\u001b[0m     \u001b[39mprint\u001b[39m(l)\n",
      "\u001b[1;31mAttributeError\u001b[0m: 'tuple' object has no attribute 'append'"
     ]
    }
   ],
   "source": [
    "def process(l):\n",
    "    l.append(10)\n",
    "    print(l)\n",
    "\n",
    "# process([10,15,16])\n",
    "process((1,2,3))"
   ]
  },
  {
   "cell_type": "code",
   "execution_count": 8,
   "metadata": {},
   "outputs": [
    {
     "data": {
      "text/plain": [
       "[50, 15, 16]"
      ]
     },
     "execution_count": 8,
     "metadata": {},
     "output_type": "execute_result"
    },
    {
     "ename": "TypeError",
     "evalue": "'tuple' object does not support item assignment",
     "output_type": "error",
     "traceback": [
      "\u001b[1;31m---------------------------------------------------------------------------\u001b[0m",
      "\u001b[1;31mTypeError\u001b[0m                                 Traceback (most recent call last)",
      "Cell \u001b[1;32mIn[8], line 9\u001b[0m\n\u001b[0;32m      7\u001b[0m process(l)\n\u001b[0;32m      8\u001b[0m l\n\u001b[1;32m----> 9\u001b[0m process(t)\n\u001b[0;32m     10\u001b[0m t\n",
      "Cell \u001b[1;32mIn[8], line 5\u001b[0m, in \u001b[0;36mprocess\u001b[1;34m(l)\u001b[0m\n\u001b[0;32m      4\u001b[0m \u001b[39mdef\u001b[39;00m \u001b[39mprocess\u001b[39m(l):\n\u001b[1;32m----> 5\u001b[0m     l[\u001b[39m0\u001b[39;49m] \u001b[39m=\u001b[39m \u001b[39m50\u001b[39m\n",
      "\u001b[1;31mTypeError\u001b[0m: 'tuple' object does not support item assignment"
     ]
    }
   ],
   "source": [
    "# when trying to update the tuple it will return error.\n",
    "l= [10,15,16]\n",
    "t = (1,2,3)\n",
    "def process(l):\n",
    "    l[0] = 50\n",
    "\n",
    "process(l)\n",
    "l\n",
    "# process(t)\n",
    "# t\n",
    "\n"
   ]
  },
  {
   "cell_type": "code",
   "execution_count": 14,
   "metadata": {},
   "outputs": [
    {
     "name": "stdout",
     "output_type": "stream",
     "text": [
      "[50, 15, 16]\n"
     ]
    },
    {
     "data": {
      "text/plain": [
       "[10, 15, 16]"
      ]
     },
     "execution_count": 14,
     "metadata": {},
     "output_type": "execute_result"
    },
    {
     "ename": "TypeError",
     "evalue": "'tuple' object does not support item assignment",
     "output_type": "error",
     "traceback": [
      "\u001b[1;31m---------------------------------------------------------------------------\u001b[0m",
      "\u001b[1;31mTypeError\u001b[0m                                 Traceback (most recent call last)",
      "Cell \u001b[1;32mIn[14], line 12\u001b[0m\n\u001b[0;32m     10\u001b[0m process(l)\n\u001b[0;32m     11\u001b[0m l\n\u001b[1;32m---> 12\u001b[0m process(t)\n\u001b[0;32m     13\u001b[0m t\n",
      "Cell \u001b[1;32mIn[14], line 7\u001b[0m, in \u001b[0;36mprocess\u001b[1;34m(l)\u001b[0m\n\u001b[0;32m      5\u001b[0m \u001b[39mdef\u001b[39;00m \u001b[39mprocess\u001b[39m(l):\n\u001b[0;32m      6\u001b[0m     l2 \u001b[39m=\u001b[39m l[:]\n\u001b[1;32m----> 7\u001b[0m     l2[\u001b[39m0\u001b[39;49m] \u001b[39m=\u001b[39m \u001b[39m50\u001b[39m\n\u001b[0;32m      8\u001b[0m     \u001b[39mprint\u001b[39m(l2)\n",
      "\u001b[1;31mTypeError\u001b[0m: 'tuple' object does not support item assignment"
     ]
    }
   ],
   "source": [
    "# The function should be implemented in a different way to work\n",
    "\n",
    "l= [10,15,16]\n",
    "t = (1,2,3)\n",
    "def process(l):\n",
    "    l2 = l[:]\n",
    "    # l2[0] = 50\n",
    "    print(l2)\n",
    "\n",
    "process(l)\n",
    "l\n",
    "process(t)\n",
    "t"
   ]
  }
 ],
 "metadata": {
  "kernelspec": {
   "display_name": "Python 3",
   "language": "python",
   "name": "python3"
  },
  "language_info": {
   "codemirror_mode": {
    "name": "ipython",
    "version": 3
   },
   "file_extension": ".py",
   "mimetype": "text/x-python",
   "name": "python",
   "nbconvert_exporter": "python",
   "pygments_lexer": "ipython3",
   "version": "3.11.1"
  },
  "orig_nbformat": 4,
  "vscode": {
   "interpreter": {
    "hash": "108095e740c160118120ad5e22811b4aca9f414a6f3c55c969835bc2c10848d1"
   }
  }
 },
 "nbformat": 4,
 "nbformat_minor": 2
}
