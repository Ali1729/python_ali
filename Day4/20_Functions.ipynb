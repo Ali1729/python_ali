{
 "cells": [
  {
   "cell_type": "code",
   "execution_count": null,
   "metadata": {},
   "outputs": [],
   "source": []
  },
  {
   "attachments": {},
   "cell_type": "markdown",
   "metadata": {},
   "source": [
    "# Abstraction and Reusability\n",
    "# Modularity\n",
    "# Namespace Seperation.\n",
    "\n",
    "https://www.geeksforgeeks.org/understanding-code-reuse-modularity-python-3/\n"
   ]
  },
  {
   "cell_type": "code",
   "execution_count": 3,
   "metadata": {},
   "outputs": [
    {
     "name": "stdout",
     "output_type": "stream",
     "text": [
      "*******************************************************\n",
      " _   _      _ _       _ _ \n",
      "| | | | ___| | | ___ | | |\n",
      "| |_| |/ _ \\ | |/ _ \\| | |\n",
      "|  _  |  __/ | | (_) |_|_|\n",
      "|_| |_|\\___|_|_|\\___/(_|_)\n",
      "                          \n",
      "\n",
      "*******************************************************\n"
     ]
    }
   ],
   "source": [
    "# def statements can be kept in conditions also.\n",
    "import pyfiglet\n",
    "\n",
    "print(\"*\"*55)\n",
    "ascii_banner = pyfiglet.figlet_format(\"Hello!!\")\n",
    "print(ascii_banner)\n",
    "print(\"*\"*55)"
   ]
  },
  {
   "cell_type": "code",
   "execution_count": 4,
   "metadata": {},
   "outputs": [
    {
     "name": "stdout",
     "output_type": "stream",
     "text": [
      "*******************************************************\n",
      " _   _      _ _        __        __         _     _ _ _ \n",
      "| | | | ___| | | ___   \\ \\      / /__  _ __| | __| | | |\n",
      "| |_| |/ _ \\ | |/ _ \\   \\ \\ /\\ / / _ \\| '__| |/ _` | | |\n",
      "|  _  |  __/ | | (_) |   \\ V  V / (_) | |  | | (_| |_|_|\n",
      "|_| |_|\\___|_|_|\\___/     \\_/\\_/ \\___/|_|  |_|\\__,_(_|_)\n",
      "                                                        \n",
      "\n",
      "*******************************************************\n"
     ]
    }
   ],
   "source": [
    "# def statements can be kept in conditions also.\n",
    "import pyfiglet\n",
    "\n",
    "print(\"*\"*55)\n",
    "ascii_banner = pyfiglet.figlet_format(\"Hello World!!\")\n",
    "print(ascii_banner)\n",
    "print(\"*\"*55)"
   ]
  },
  {
   "cell_type": "code",
   "execution_count": 5,
   "metadata": {},
   "outputs": [
    {
     "name": "stdout",
     "output_type": "stream",
     "text": [
      "**************************************************************************************************************\n",
      " _   _      _ _        __        __         _     _ _ _ \n",
      "| | | | ___| | | ___   \\ \\      / /__  _ __| | __| | | |\n",
      "| |_| |/ _ \\ | |/ _ \\   \\ \\ /\\ / / _ \\| '__| |/ _` | | |\n",
      "|  _  |  __/ | | (_) |   \\ V  V / (_) | |  | | (_| |_|_|\n",
      "|_| |_|\\___|_|_|\\___/     \\_/\\_/ \\___/|_|  |_|\\__,_(_|_)\n",
      "                                                        \n",
      "\n",
      "**************************************************************************************************************\n"
     ]
    }
   ],
   "source": [
    "import pyfiglet\n",
    "\n",
    "def print_ali():\n",
    "    print(\"*\"*110)\n",
    "    ascii_banner = pyfiglet.figlet_format(\"Hello World!!\")\n",
    "    print(ascii_banner)\n",
    "    print(\"*\"*110)\n",
    "\n",
    "print_ali()\n"
   ]
  },
  {
   "cell_type": "code",
   "execution_count": 6,
   "metadata": {},
   "outputs": [
    {
     "name": "stdout",
     "output_type": "stream",
     "text": [
      "**************************************************************************************************************\n",
      "                       _   _      _ _                            _     _ \n",
      " _ __   _____      __ | | | | ___| | | ___   __      _____  _ __| | __| |\n",
      "| '_ \\ / _ \\ \\ /\\ / / | |_| |/ _ \\ | |/ _ \\  \\ \\ /\\ / / _ \\| '__| |/ _` |\n",
      "| | | |  __/\\ V  V /  |  _  |  __/ | | (_) |  \\ V  V / (_) | |  | | (_| |\n",
      "|_| |_|\\___| \\_/\\_/   |_| |_|\\___|_|_|\\___/    \\_/\\_/ \\___/|_|  |_|\\__,_|\n",
      "                                                                         \n",
      "\n",
      "**************************************************************************************************************\n"
     ]
    }
   ],
   "source": [
    "import pyfiglet\n",
    "\n",
    "def print_ali():\n",
    "    print(\"*\"*110)\n",
    "    ascii_banner = pyfiglet.figlet_format(\"new Hello world\")\n",
    "    print(ascii_banner)\n",
    "    print(\"*\"*110)\n",
    "\n",
    "print_ali()"
   ]
  },
  {
   "cell_type": "code",
   "execution_count": null,
   "metadata": {},
   "outputs": [],
   "source": []
  },
  {
   "cell_type": "code",
   "execution_count": 7,
   "metadata": {},
   "outputs": [
    {
     "name": "stdout",
     "output_type": "stream",
     "text": [
      "**************************************************************************************************************\n",
      " _                          _                           _   _     \n",
      "| |    ___  __ _ _ __ _ __ (_)_ __   __ _   _ __   __ _| |_| |__  \n",
      "| |   / _ \\/ _` | '__| '_ \\| | '_ \\ / _` | | '_ \\ / _` | __| '_ \\ \n",
      "| |__|  __/ (_| | |  | | | | | | | | (_| | | |_) | (_| | |_| | | |\n",
      "|_____\\___|\\__,_|_|  |_| |_|_|_| |_|\\__, | | .__/ \\__,_|\\__|_| |_|\n",
      "                                    |___/  |_|                    \n",
      "\n",
      "**************************************************************************************************************\n"
     ]
    }
   ],
   "source": [
    "import pyfiglet\n",
    "\n",
    "def print_ali(message):\n",
    "    print(\"*\"*110)\n",
    "    ascii_banner = pyfiglet.figlet_format(message)\n",
    "    print(ascii_banner)\n",
    "    print(\"*\"*110)\n",
    "\n",
    "print_ali(\"Learning path\")"
   ]
  },
  {
   "cell_type": "code",
   "execution_count": 5,
   "metadata": {},
   "outputs": [
    {
     "name": "stdout",
     "output_type": "stream",
     "text": [
      "*******************************************************\n",
      " _                          _                           _   _     \n",
      "| |    ___  __ _ _ __ _ __ (_)_ __   __ _   _ __   __ _| |_| |__  \n",
      "| |   / _ \\/ _` | '__| '_ \\| | '_ \\ / _` | | '_ \\ / _` | __| '_ \\ \n",
      "| |__|  __/ (_| | |  | | | | | | | | (_| | | |_) | (_| | |_| | | |\n",
      "|_____\\___|\\__,_|_|  |_| |_|_|_| |_|\\__, | | .__/ \\__,_|\\__|_| |_|\n",
      "                                    |___/  |_|                    \n",
      "\n",
      "*******************************************************\n"
     ]
    }
   ],
   "source": [
    "import pyfiglet\n",
    "\n",
    "def print_ali(message):\n",
    "    print(\"*\"*55)\n",
    "    ascii_banner = pyfiglet.figlet_format(message)\n",
    "    print(ascii_banner)\n",
    "    print(\"*\"*55)\n",
    "\n",
    "print_ali(\"Learning path\")"
   ]
  },
  {
   "cell_type": "code",
   "execution_count": 9,
   "metadata": {},
   "outputs": [
    {
     "name": "stdout",
     "output_type": "stream",
     "text": [
      "*******************************************************\n",
      " _                          _                           _   _     \n",
      "| |    ___  __ _ _ __ _ __ (_)_ __   __ _   _ __   __ _| |_| |__  \n",
      "| |   / _ \\/ _` | '__| '_ \\| | '_ \\ / _` | | '_ \\ / _` | __| '_ \\ \n",
      "| |__|  __/ (_| | |  | | | | | | | | (_| | | |_) | (_| | |_| | | |\n",
      "|_____\\___|\\__,_|_|  |_| |_|_|_| |_|\\__, | | .__/ \\__,_|\\__|_| |_|\n",
      "                                    |___/  |_|                    \n",
      "\n",
      "*******************************************************\n"
     ]
    }
   ],
   "source": [
    "import pyfiglet\n",
    "\n",
    "def print_ali(message,lengthy):\n",
    "    if lengthy ==True:\n",
    "        len2 = 100\n",
    "    else:\n",
    "        len2 = 55\n",
    "\n",
    "    print(\"*\"*len2)\n",
    "    ascii_banner = pyfiglet.figlet_format(message)\n",
    "    print(ascii_banner)\n",
    "    print(\"*\"*len2)\n",
    "\n",
    "print_ali(\"Learning path\", lengthy = False)"
   ]
  },
  {
   "cell_type": "code",
   "execution_count": 11,
   "metadata": {},
   "outputs": [
    {
     "name": "stdout",
     "output_type": "stream",
     "text": [
      "=======================================================\n",
      " _                          _                           _   _     \n",
      "| |    ___  __ _ _ __ _ __ (_)_ __   __ _   _ __   __ _| |_| |__  \n",
      "| |   / _ \\/ _` | '__| '_ \\| | '_ \\ / _` | | '_ \\ / _` | __| '_ \\ \n",
      "| |__|  __/ (_| | |  | | | | | | | | (_| | | |_) | (_| | |_| | | |\n",
      "|_____\\___|\\__,_|_|  |_| |_|_|_| |_|\\__, | | .__/ \\__,_|\\__|_| |_|\n",
      "                                    |___/  |_|                    \n",
      "\n",
      "=======================================================\n"
     ]
    }
   ],
   "source": [
    "import pyfiglet\n",
    "\n",
    "def print_ali(message,lengthy,st_end='*'):\n",
    "    if lengthy ==True:\n",
    "        len2 = 100\n",
    "    else:\n",
    "        len2 = 55\n",
    "\n",
    "    print(st_end*len2)\n",
    "    ascii_banner = pyfiglet.figlet_format(message)\n",
    "    print(ascii_banner)\n",
    "    print(st_end*len2)\n",
    "\n",
    "print_ali(\"Learning path\", lengthy = False,st_end='=')"
   ]
  },
  {
   "cell_type": "code",
   "execution_count": null,
   "metadata": {},
   "outputs": [],
   "source": [
    "import pyfiglet\n",
    "\n",
    "def print_ali(message,lengthy):\n",
    "    if lengthy ==True:\n",
    "        len2 = 100\n",
    "    else:\n",
    "        len2 = 55\n",
    "\n",
    "    print(\"*\"*len2)\n",
    "    ascii_banner = pyfiglet.figlet_format(message)\n",
    "    print(ascii_banner)\n",
    "    print(\"*\"*len2)\n",
    "\n",
    "print_ali(\"Learning path\")"
   ]
  },
  {
   "cell_type": "code",
   "execution_count": null,
   "metadata": {},
   "outputs": [],
   "source": [
    "import pyfiglet\n",
    "\n",
    "def print_ali(message,lengthy):\n",
    "    if lengthy ==True:\n",
    "        len2 = 100\n",
    "    else:\n",
    "        len2 = 55\n",
    "\n",
    "    print(\"*\"*len2)\n",
    "    ascii_banner = pyfiglet.figlet_format(message)\n",
    "    print(ascii_banner)\n",
    "    print(\"*\"*len2)\n",
    "\n",
    "print_ali(\"Learning path\")"
   ]
  },
  {
   "cell_type": "code",
   "execution_count": null,
   "metadata": {},
   "outputs": [],
   "source": [
    "def "
   ]
  },
  {
   "cell_type": "code",
   "execution_count": 17,
   "metadata": {},
   "outputs": [
    {
     "name": "stdout",
     "output_type": "stream",
     "text": [
      "a is  30\n"
     ]
    }
   ],
   "source": [
    "# polymorphism not supported in python.\n",
    "def times(x, y):\n",
    "    return x*y\n",
    "\n",
    "def addition(p,q):\n",
    "    return [a,b,c]\n",
    "\n",
    "\n",
    "# 5+6*30\n",
    "\n",
    "\n",
    "a = 5\n",
    "b = 6\n",
    "c = 30\n",
    "\n",
    "z = times(b,c)\n",
    "addition(a,z)\n",
    "\n",
    "addition(a,times(b,c))"
   ]
  },
  {
   "cell_type": "code",
   "execution_count": 21,
   "metadata": {},
   "outputs": [
    {
     "name": "stdout",
     "output_type": "stream",
     "text": [
      "not for children\n"
     ]
    },
    {
     "data": {
      "text/plain": [
       "False"
      ]
     },
     "execution_count": 21,
     "metadata": {},
     "output_type": "execute_result"
    }
   ],
   "source": [
    "#return statement.\n",
    "def if_Con(a):\n",
    "    if a <3:\n",
    "        print(\"not for children\")\n",
    "        return False\n",
    "    else:\n",
    "        \n",
    "        pass\n",
    "\n",
    "    print(\"Give toys\")\n",
    "\n",
    "if_Con(2)"
   ]
  },
  {
   "cell_type": "code",
   "execution_count": 7,
   "metadata": {},
   "outputs": [
    {
     "data": {
      "text/plain": [
       "'asdfasdfasdfasdfasdfasdfasdfasdfasdfasdfasdfasdfasdfasdfasdfasdfasdfasdfasdfasdfasdfasdfasdfasdfasdfasdfasdfasdfasdfasdfasdfasdfasdfasdfasdfasdfasdfasdfasdfasdfasdfasdfasdfasdfasdf'"
      ]
     },
     "execution_count": 7,
     "metadata": {},
     "output_type": "execute_result"
    }
   ],
   "source": [
    "def func_a(a):\n",
    "    if a<3:\n",
    "        def func_b():\n",
    "            pass\n",
    "    \n",
    "        return func_b"
   ]
  },
  {
   "cell_type": "code",
   "execution_count": null,
   "metadata": {},
   "outputs": [],
   "source": [
    "def addition(a,b):\n",
    "    "
   ]
  },
  {
   "cell_type": "code",
   "execution_count": 25,
   "metadata": {},
   "outputs": [
    {
     "data": {
      "text/plain": [
       "200"
      ]
     },
     "execution_count": 25,
     "metadata": {},
     "output_type": "execute_result"
    },
    {
     "ename": "TypeError",
     "evalue": "can't multiply sequence by non-int of type 'str'",
     "output_type": "error",
     "traceback": [
      "\u001b[1;31m---------------------------------------------------------------------------\u001b[0m",
      "\u001b[1;31mTypeError\u001b[0m                                 Traceback (most recent call last)",
      "Cell \u001b[1;32mIn[25], line 12\u001b[0m\n\u001b[0;32m     10\u001b[0m a \u001b[39m=\u001b[39m \u001b[39m\"\u001b[39m\u001b[39m234\u001b[39m\u001b[39m\"\u001b[39m\n\u001b[0;32m     11\u001b[0m b \u001b[39m=\u001b[39m \u001b[39m\"\u001b[39m\u001b[39msadf\u001b[39m\u001b[39m\"\u001b[39m\n\u001b[1;32m---> 12\u001b[0m times(a,b)\n\u001b[0;32m     13\u001b[0m times(b,a)\n",
      "Cell \u001b[1;32mIn[25], line 3\u001b[0m, in \u001b[0;36mtimes\u001b[1;34m(x, y)\u001b[0m\n\u001b[0;32m      2\u001b[0m \u001b[39mdef\u001b[39;00m \u001b[39mtimes\u001b[39m(x, y):\n\u001b[1;32m----> 3\u001b[0m     \u001b[39mreturn\u001b[39;00m x\u001b[39m*\u001b[39;49my\n",
      "\u001b[1;31mTypeError\u001b[0m: can't multiply sequence by non-int of type 'str'"
     ]
    }
   ],
   "source": [
    "# polymorphism not supported in python.\n",
    "def times(x, y):\n",
    "    return x*y\n",
    "\n",
    "\n",
    "a = 10\n",
    "b = 20\n",
    "\n",
    "times(a,b)\n",
    "a = 5\n",
    "b = \"sadf\"\n",
    "times(a,b)\n",
    "times(b,a)"
   ]
  }
 ],
 "metadata": {
  "kernelspec": {
   "display_name": "Python 3",
   "language": "python",
   "name": "python3"
  },
  "language_info": {
   "codemirror_mode": {
    "name": "ipython",
    "version": 3
   },
   "file_extension": ".py",
   "mimetype": "text/x-python",
   "name": "python",
   "nbconvert_exporter": "python",
   "pygments_lexer": "ipython3",
   "version": "3.11.1"
  },
  "orig_nbformat": 4,
  "vscode": {
   "interpreter": {
    "hash": "108095e740c160118120ad5e22811b4aca9f414a6f3c55c969835bc2c10848d1"
   }
  }
 },
 "nbformat": 4,
 "nbformat_minor": 2
}
