{
 "cells": [
  {
   "cell_type": "code",
   "execution_count": 17,
   "metadata": {},
   "outputs": [
    {
     "name": "stdout",
     "output_type": "stream",
     "text": [
      "Unknown exception occured\n",
      "Executed everytime\n"
     ]
    }
   ],
   "source": [
    "import sys\n",
    "\n",
    "a =10\n",
    "\n",
    "b= 1\n",
    "c= [1,2]\n",
    "\n",
    "try:\n",
    "    if a/b == 0:\n",
    "        print(\"not correct\")\n",
    "        \n",
    "    print(c[3])\n",
    "\n",
    "except ZeroDivisionError as e:\n",
    "    print(\"The divisor cannot be zero\")\n",
    "\n",
    "except Exception as e:\n",
    "    print(\"Unknown exception occured\")\n",
    "    \n",
    "    \n",
    "finally:\n",
    "    print(\"Executed everytime\")\n",
    "    \n",
    "    \n",
    "\n",
    "    "
   ]
  },
  {
   "cell_type": "code",
   "execution_count": 26,
   "metadata": {},
   "outputs": [],
   "source": [
    "class MinimumBalance(Exception):\n",
    "    pass"
   ]
  },
  {
   "cell_type": "code",
   "execution_count": 34,
   "metadata": {},
   "outputs": [
    {
     "ename": "TypeError",
     "evalue": "'traceback' object is not callable",
     "output_type": "error",
     "traceback": [
      "\u001b[1;31m---------------------------------------------------------------------------\u001b[0m",
      "\u001b[1;31mIndexError\u001b[0m                                Traceback (most recent call last)",
      "Cell \u001b[1;32mIn[34], line 10\u001b[0m\n\u001b[0;32m      9\u001b[0m     c \u001b[39m=\u001b[39m [\u001b[39m1\u001b[39m,\u001b[39m2\u001b[39m]\n\u001b[1;32m---> 10\u001b[0m     \u001b[39mprint\u001b[39m(c[\u001b[39m4\u001b[39;49m])\n\u001b[0;32m     11\u001b[0m \u001b[39mexcept\u001b[39;00m \u001b[39mZeroDivisionError\u001b[39;00m \u001b[39mas\u001b[39;00m e:\n",
      "\u001b[1;31mIndexError\u001b[0m: list index out of range",
      "\nDuring handling of the above exception, another exception occurred:\n",
      "\u001b[1;31mTypeError\u001b[0m                                 Traceback (most recent call last)",
      "Cell \u001b[1;32mIn[34], line 20\u001b[0m\n\u001b[0;32m     16\u001b[0m     \u001b[39mprint\u001b[39m(\u001b[39m\"\u001b[39m\u001b[39mMinimumBalance should not be less than zero\u001b[39m\u001b[39m\"\u001b[39m)\n\u001b[0;32m     18\u001b[0m \u001b[39mexcept\u001b[39;00m \u001b[39mException\u001b[39;00m \u001b[39mas\u001b[39;00m e:\n\u001b[1;32m---> 20\u001b[0m     \u001b[39mprint\u001b[39m(\u001b[39m\"\u001b[39m\u001b[39mException occured\u001b[39m\u001b[39m\"\u001b[39m,\u001b[39mstr\u001b[39m(e\u001b[39m.\u001b[39;49m__traceback__())) \n\u001b[0;32m     23\u001b[0m \u001b[39mprint\u001b[39m( bank1[\u001b[39m\"\u001b[39m\u001b[39mbalance\u001b[39m\u001b[39m\"\u001b[39m])\n",
      "\u001b[1;31mTypeError\u001b[0m: 'traceback' object is not callable"
     ]
    }
   ],
   "source": [
    "bank1 = {\"name\":\"al\",\"balance\":1000}\n",
    "try:\n",
    "    original_balance = bank1[\"balance\"]\n",
    "    bank1[\"balance\"] = bank1[\"balance\"]-400\n",
    "    if bank1[\"balance\"] < 500:\n",
    "        raise MinimumBalance\n",
    "\n",
    "    # a =25/0\n",
    "    c = [1,2]\n",
    "    print(c[4])\n",
    "except ZeroDivisionError as e:\n",
    "    print(\"zero division error occured:\")\n",
    "    \n",
    "except MinimumBalance as e:\n",
    "    bank1[\"balance\"] = original_balance\n",
    "    print(\"MinimumBalance should not be less than zero\")\n",
    "    \n",
    "except Exception as e:\n",
    "    \n",
    "    print(\"Exception occured\",str(e.__traceback__())) \n",
    "\n",
    "\n",
    "print( bank1[\"balance\"])\n",
    "\n"
   ]
  },
  {
   "cell_type": "code",
   "execution_count": 35,
   "metadata": {},
   "outputs": [],
   "source": [
    "assert(True)"
   ]
  },
  {
   "cell_type": "code",
   "execution_count": 36,
   "metadata": {},
   "outputs": [
    {
     "ename": "AssertionError",
     "evalue": "",
     "output_type": "error",
     "traceback": [
      "\u001b[1;31m---------------------------------------------------------------------------\u001b[0m",
      "\u001b[1;31mAssertionError\u001b[0m                            Traceback (most recent call last)",
      "Cell \u001b[1;32mIn[36], line 1\u001b[0m\n\u001b[1;32m----> 1\u001b[0m \u001b[39massert\u001b[39;00m(\u001b[39mFalse\u001b[39;00m)\n",
      "\u001b[1;31mAssertionError\u001b[0m: "
     ]
    }
   ],
   "source": [
    "assert(False)"
   ]
  },
  {
   "cell_type": "code",
   "execution_count": 38,
   "metadata": {},
   "outputs": [
    {
     "name": "stdout",
     "output_type": "stream",
     "text": [
      "Exception occured \n",
      "600\n"
     ]
    }
   ],
   "source": [
    "bank1 = {\"name\":\"al\",\"balance\":1000}\n",
    "try:\n",
    "    original_balance = bank1[\"balance\"]\n",
    "    bank1[\"balance\"] = bank1[\"balance\"]-400\n",
    "    assert(bank1[\"balance\"] < 500)\n",
    "        \n",
    "\n",
    "    # a =25/0\n",
    "    c = [1,2]\n",
    "    print(c[4])\n",
    "except ZeroDivisionError as e:\n",
    "    print(\"zero division error occured:\")\n",
    "    \n",
    "except MinimumBalance as e:\n",
    "    bank1[\"balance\"] = original_balance\n",
    "    print(\"MinimumBalance should not be less than zero\")\n",
    "    \n",
    "except Exception as e:\n",
    "    \n",
    "    print(\"Exception occured\",str(e)) \n",
    "\n",
    "\n",
    "print( bank1[\"balance\"])\n",
    "\n"
   ]
  },
  {
   "cell_type": "code",
   "execution_count": 43,
   "metadata": {},
   "outputs": [
    {
     "data": {
      "text/plain": [
       "'\\\\'"
      ]
     },
     "execution_count": 43,
     "metadata": {},
     "output_type": "execute_result"
    },
    {
     "data": {
      "text/plain": [
       "'c:\\\\Users\\\\LENOVO\\\\Documents\\\\python_ali\\\\exceptions'"
      ]
     },
     "execution_count": 43,
     "metadata": {},
     "output_type": "execute_result"
    }
   ],
   "source": [
    "import os\n",
    "os.path.sep\n",
    "os.getcwd()\n",
    "os.pa\n",
    "\n",
    "\n",
    "import os\n",
    "\n",
    "os.path.abspath()\n",
    "\n",
    "dir_path =  os.path.dirname(os.path.abspath(__file__))\n"
   ]
  }
 ],
 "metadata": {
  "kernelspec": {
   "display_name": "Python 3",
   "language": "python",
   "name": "python3"
  },
  "language_info": {
   "codemirror_mode": {
    "name": "ipython",
    "version": 3
   },
   "file_extension": ".py",
   "mimetype": "text/x-python",
   "name": "python",
   "nbconvert_exporter": "python",
   "pygments_lexer": "ipython3",
   "version": "3.11.1"
  },
  "orig_nbformat": 4,
  "vscode": {
   "interpreter": {
    "hash": "108095e740c160118120ad5e22811b4aca9f414a6f3c55c969835bc2c10848d1"
   }
  }
 },
 "nbformat": 4,
 "nbformat_minor": 2
}
