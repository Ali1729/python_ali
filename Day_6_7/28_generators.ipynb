{
 "cells": [
  {
   "cell_type": "code",
   "execution_count": null,
   "metadata": {},
   "outputs": [],
   "source": []
  },
  {
   "attachments": {},
   "cell_type": "markdown",
   "metadata": {},
   "source": [
    "\n",
    "3.1. Iterable\n",
    "\n",
    "An iterable is any object in Python which has an __iter__ or a __getitem__ method defined which returns an iterator or can take indexes (You can read more about them here). In short an iterable is any object which can provide us with an iterator. So what is an iterator?\n",
    "\n",
    "3.2. Iterator\n",
    "\n",
    "An iterator is any object in Python which has a next (Python2) or __next__ method defined. That’s it. That’s an iterator. Now let’s understand iteration.\n",
    "\n",
    "\n",
    "3.3. Iteration\n",
    "\n",
    "In simple words it is the process of taking an item from something e.g a list. When we use a loop to loop over something it is called iteration. It is the name given to the process itself. Now as we have a basic understanding of these terms let’s understand generators.\n"
   ]
  },
  {
   "cell_type": "code",
   "execution_count": 14,
   "metadata": {},
   "outputs": [
    {
     "data": {
      "text/plain": [
       "['__add__',\n",
       " '__class__',\n",
       " '__class_getitem__',\n",
       " '__contains__',\n",
       " '__delattr__',\n",
       " '__delitem__',\n",
       " '__dir__',\n",
       " '__doc__',\n",
       " '__eq__',\n",
       " '__format__',\n",
       " '__ge__',\n",
       " '__getattribute__',\n",
       " '__getitem__',\n",
       " '__getstate__',\n",
       " '__gt__',\n",
       " '__hash__',\n",
       " '__iadd__',\n",
       " '__imul__',\n",
       " '__init__',\n",
       " '__init_subclass__',\n",
       " '__iter__',\n",
       " '__le__',\n",
       " '__len__',\n",
       " '__lt__',\n",
       " '__mul__',\n",
       " '__ne__',\n",
       " '__new__',\n",
       " '__reduce__',\n",
       " '__reduce_ex__',\n",
       " '__repr__',\n",
       " '__reversed__',\n",
       " '__rmul__',\n",
       " '__setattr__',\n",
       " '__setitem__',\n",
       " '__sizeof__',\n",
       " '__str__',\n",
       " '__subclasshook__',\n",
       " 'append',\n",
       " 'clear',\n",
       " 'copy',\n",
       " 'count',\n",
       " 'extend',\n",
       " 'index',\n",
       " 'insert',\n",
       " 'pop',\n",
       " 'remove',\n",
       " 'reverse',\n",
       " 'sort']"
      ]
     },
     "execution_count": 14,
     "metadata": {},
     "output_type": "execute_result"
    }
   ],
   "source": [
    "list1 =[1,2]\n",
    "dir(list1)"
   ]
  },
  {
   "cell_type": "code",
   "execution_count": null,
   "metadata": {},
   "outputs": [],
   "source": [
    "def generator_function():\n",
    "    for i in range(10):\n",
    "        yield i\n",
    "\n",
    "for item in generator_function(): # observe this is not a list\n",
    "    print(item)\n"
   ]
  },
  {
   "cell_type": "code",
   "execution_count": 17,
   "metadata": {},
   "outputs": [
    {
     "ename": "AttributeError",
     "evalue": "'function' object has no attribute '__next__'",
     "output_type": "error",
     "traceback": [
      "\u001b[1;31m---------------------------------------------------------------------------\u001b[0m",
      "\u001b[1;31mAttributeError\u001b[0m                            Traceback (most recent call last)",
      "Cell \u001b[1;32mIn[17], line 18\u001b[0m\n\u001b[0;32m     13\u001b[0m     \u001b[39mreturn\u001b[39;00m list1\n\u001b[0;32m     15\u001b[0m \u001b[39m# for i in fibon(5):\u001b[39;00m\n\u001b[0;32m     16\u001b[0m \u001b[39m#     print(i)\u001b[39;00m\n\u001b[1;32m---> 18\u001b[0m fibon\u001b[39m.\u001b[39;49m\u001b[39m__next__\u001b[39;49m()\n",
      "\u001b[1;31mAttributeError\u001b[0m: 'function' object has no attribute '__next__'"
     ]
    }
   ],
   "source": [
    "import time\n",
    "def fibon(n):\n",
    "    a = b = 1\n",
    "    list1 = []\n",
    "    list1.append(a)\n",
    "    list1.append(b)\n",
    "    for i in range(n):\n",
    "        print(\" Iteration\")\n",
    "        time.sleep(3)\n",
    "        a, b = b, a + b # a 1,b 2\n",
    "        list1.append(b) \n",
    "             \n",
    "    return list1\n",
    "\n",
    "# for i in fibon(5):\n",
    "#     print(i)\n",
    "    \n",
    "fibon.__next__()"
   ]
  },
  {
   "attachments": {},
   "cell_type": "markdown",
   "metadata": {},
   "source": [
    "list1 = range(10)\n",
    "func0():\n",
    "    5 \n",
    "    50 seconds.\n",
    "\n",
    "5 \n",
    "\n",
    "for i in list1:\n",
    "    func1(i)\n",
    "    2 "
   ]
  },
  {
   "cell_type": "code",
   "execution_count": 18,
   "metadata": {},
   "outputs": [
    {
     "ename": "AttributeError",
     "evalue": "'function' object has no attribute '__next__'",
     "output_type": "error",
     "traceback": [
      "\u001b[1;31m---------------------------------------------------------------------------\u001b[0m",
      "\u001b[1;31mAttributeError\u001b[0m                            Traceback (most recent call last)",
      "Cell \u001b[1;32mIn[18], line 15\u001b[0m\n\u001b[0;32m      9\u001b[0m         a, b \u001b[39m=\u001b[39m b, a \u001b[39m+\u001b[39m b\n\u001b[0;32m     11\u001b[0m \u001b[39m# for i in fibon(5):\u001b[39;00m\n\u001b[0;32m     12\u001b[0m     \n\u001b[0;32m     13\u001b[0m \u001b[39m#     print(i)\u001b[39;00m\n\u001b[1;32m---> 15\u001b[0m fibon\u001b[39m.\u001b[39;49m\u001b[39m__next__\u001b[39;49m()\n",
      "\u001b[1;31mAttributeError\u001b[0m: 'function' object has no attribute '__next__'"
     ]
    }
   ],
   "source": [
    "import time\n",
    "def fibon(n):\n",
    "    a = b = 1\n",
    "\n",
    "    for i in range(n):\n",
    "        time.sleep(3)\n",
    "        print(\" Iteration\")\n",
    "        yield a\n",
    "        a, b = b, a + b\n",
    "        \n",
    "# for i in fibon(5):\n",
    "    \n",
    "#     print(i)\n",
    "\n",
    "fibon.__next__()"
   ]
  }
 ],
 "metadata": {
  "kernelspec": {
   "display_name": "Python 3",
   "language": "python",
   "name": "python3"
  },
  "language_info": {
   "codemirror_mode": {
    "name": "ipython",
    "version": 3
   },
   "file_extension": ".py",
   "mimetype": "text/x-python",
   "name": "python",
   "nbconvert_exporter": "python",
   "pygments_lexer": "ipython3",
   "version": "3.11.1"
  },
  "orig_nbformat": 4,
  "vscode": {
   "interpreter": {
    "hash": "108095e740c160118120ad5e22811b4aca9f414a6f3c55c969835bc2c10848d1"
   }
  }
 },
 "nbformat": 4,
 "nbformat_minor": 2
}
