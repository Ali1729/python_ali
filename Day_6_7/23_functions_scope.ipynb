{
 "cells": [
  {
   "cell_type": "code",
   "execution_count": 29,
   "metadata": {},
   "outputs": [
    {
     "name": "stdout",
     "output_type": "stream",
     "text": [
      "Printing var from inner_func(): 10\n",
      "5000\n",
      "Printing var from outer_func(): 5000\n",
      "Printing var from outside(): 3000\n"
     ]
    }
   ],
   "source": [
    "# More Clarity on Global.\n",
    "\n",
    "\n",
    "var = 3000\n",
    "def outer_func_1():\n",
    "    var = 5000\n",
    "    def outer_func():\n",
    "        # This block is the Local scope of outer_func()\n",
    "        # var = 100  # A nonlocal var\n",
    "        # It's also the enclosing scope of inner_func()\n",
    "        # for i in range(1):\n",
    "        #     var = 200\n",
    "            \n",
    "        def inner_func():\n",
    "            var = 10\n",
    "            # This block is the Local scope of inner_func()\n",
    "            print(f\"Printing var from inner_func(): {var}\")\n",
    "\n",
    "        inner_func()\n",
    "        print(var)\n",
    "        print(f\"Printing var from outer_func(): {var}\")\n",
    "\n",
    "    outer_func()\n",
    "\n",
    "outer_func_1()\n",
    "print(f\"Printing var from outside(): {var}\")\n",
    "\n",
    "    # Local\n",
    "    # Enclosing\n",
    "    # Global\n",
    "    # Builtin"
   ]
  },
  {
   "cell_type": "code",
   "execution_count": 1,
   "metadata": {},
   "outputs": [
    {
     "data": {
      "text/plain": [
       "['ArithmeticError',\n",
       " 'AssertionError',\n",
       " 'AttributeError',\n",
       " 'BaseException',\n",
       " 'BaseExceptionGroup',\n",
       " 'BlockingIOError',\n",
       " 'BrokenPipeError',\n",
       " 'BufferError',\n",
       " 'BytesWarning',\n",
       " 'ChildProcessError',\n",
       " 'ConnectionAbortedError',\n",
       " 'ConnectionError',\n",
       " 'ConnectionRefusedError',\n",
       " 'ConnectionResetError',\n",
       " 'DeprecationWarning',\n",
       " 'EOFError',\n",
       " 'Ellipsis',\n",
       " 'EncodingWarning',\n",
       " 'EnvironmentError',\n",
       " 'Exception',\n",
       " 'ExceptionGroup',\n",
       " 'False',\n",
       " 'FileExistsError',\n",
       " 'FileNotFoundError',\n",
       " 'FloatingPointError',\n",
       " 'FutureWarning',\n",
       " 'GeneratorExit',\n",
       " 'IOError',\n",
       " 'ImportError',\n",
       " 'ImportWarning',\n",
       " 'IndentationError',\n",
       " 'IndexError',\n",
       " 'InterruptedError',\n",
       " 'IsADirectoryError',\n",
       " 'KeyError',\n",
       " 'KeyboardInterrupt',\n",
       " 'LookupError',\n",
       " 'MemoryError',\n",
       " 'ModuleNotFoundError',\n",
       " 'NameError',\n",
       " 'None',\n",
       " 'NotADirectoryError',\n",
       " 'NotImplemented',\n",
       " 'NotImplementedError',\n",
       " 'OSError',\n",
       " 'OverflowError',\n",
       " 'PendingDeprecationWarning',\n",
       " 'PermissionError',\n",
       " 'ProcessLookupError',\n",
       " 'RecursionError',\n",
       " 'ReferenceError',\n",
       " 'ResourceWarning',\n",
       " 'RuntimeError',\n",
       " 'RuntimeWarning',\n",
       " 'StopAsyncIteration',\n",
       " 'StopIteration',\n",
       " 'SyntaxError',\n",
       " 'SyntaxWarning',\n",
       " 'SystemError',\n",
       " 'SystemExit',\n",
       " 'TabError',\n",
       " 'TimeoutError',\n",
       " 'True',\n",
       " 'TypeError',\n",
       " 'UnboundLocalError',\n",
       " 'UnicodeDecodeError',\n",
       " 'UnicodeEncodeError',\n",
       " 'UnicodeError',\n",
       " 'UnicodeTranslateError',\n",
       " 'UnicodeWarning',\n",
       " 'UserWarning',\n",
       " 'ValueError',\n",
       " 'Warning',\n",
       " 'WindowsError',\n",
       " 'ZeroDivisionError',\n",
       " '__IPYTHON__',\n",
       " '__build_class__',\n",
       " '__debug__',\n",
       " '__doc__',\n",
       " '__import__',\n",
       " '__loader__',\n",
       " '__name__',\n",
       " '__package__',\n",
       " '__spec__',\n",
       " 'abs',\n",
       " 'aiter',\n",
       " 'all',\n",
       " 'anext',\n",
       " 'any',\n",
       " 'ascii',\n",
       " 'bin',\n",
       " 'bool',\n",
       " 'breakpoint',\n",
       " 'bytearray',\n",
       " 'bytes',\n",
       " 'callable',\n",
       " 'chr',\n",
       " 'classmethod',\n",
       " 'compile',\n",
       " 'complex',\n",
       " 'copyright',\n",
       " 'credits',\n",
       " 'delattr',\n",
       " 'dict',\n",
       " 'dir',\n",
       " 'display',\n",
       " 'divmod',\n",
       " 'enumerate',\n",
       " 'eval',\n",
       " 'exec',\n",
       " 'execfile',\n",
       " 'filter',\n",
       " 'float',\n",
       " 'format',\n",
       " 'frozenset',\n",
       " 'get_ipython',\n",
       " 'getattr',\n",
       " 'globals',\n",
       " 'hasattr',\n",
       " 'hash',\n",
       " 'help',\n",
       " 'hex',\n",
       " 'id',\n",
       " 'input',\n",
       " 'int',\n",
       " 'isinstance',\n",
       " 'issubclass',\n",
       " 'iter',\n",
       " 'len',\n",
       " 'license',\n",
       " 'list',\n",
       " 'locals',\n",
       " 'map',\n",
       " 'max',\n",
       " 'memoryview',\n",
       " 'min',\n",
       " 'next',\n",
       " 'object',\n",
       " 'oct',\n",
       " 'open',\n",
       " 'ord',\n",
       " 'pow',\n",
       " 'print',\n",
       " 'property',\n",
       " 'range',\n",
       " 'repr',\n",
       " 'reversed',\n",
       " 'round',\n",
       " 'runfile',\n",
       " 'set',\n",
       " 'setattr',\n",
       " 'slice',\n",
       " 'sorted',\n",
       " 'staticmethod',\n",
       " 'str',\n",
       " 'sum',\n",
       " 'super',\n",
       " 'tuple',\n",
       " 'type',\n",
       " 'vars',\n",
       " 'zip']"
      ]
     },
     "execution_count": 1,
     "metadata": {},
     "output_type": "execute_result"
    }
   ],
   "source": [
    "# Builtin variables.\n",
    "import builtins\n",
    "dir(builtins)"
   ]
  },
  {
   "cell_type": "code",
   "execution_count": 34,
   "metadata": {},
   "outputs": [
    {
     "name": "stdout",
     "output_type": "stream",
     "text": [
      "inside 5000\n",
      "outside 3000\n"
     ]
    }
   ],
   "source": [
    "# Global\n",
    "\n",
    "var = 3000\n",
    "def func1():\n",
    "    var = 5000\n",
    "    print(\"inside\",var)\n",
    "\n",
    "func1()\n",
    "print(\"outside\",var)"
   ]
  },
  {
   "cell_type": "code",
   "execution_count": 36,
   "metadata": {},
   "outputs": [
    {
     "name": "stdout",
     "output_type": "stream",
     "text": [
      "3000\n",
      "inside 5000\n",
      "5000\n"
     ]
    }
   ],
   "source": [
    "# Global\n",
    "\n",
    "var = 3000\n",
    "def func1():\n",
    "    # global var =6000\n",
    "    global var\n",
    "    print(var)\n",
    "    var = 5000\n",
    "    print(\"inside\",var)\n",
    "\n",
    "func1()\n",
    "print(var)\n",
    "\n"
   ]
  },
  {
   "cell_type": "code",
   "execution_count": 39,
   "metadata": {},
   "outputs": [
    {
     "name": "stdout",
     "output_type": "stream",
     "text": [
      "3000\n",
      "inside 5000\n",
      "5000\n"
     ]
    }
   ],
   "source": [
    "# Global\n",
    "\n",
    "var = 3000\n",
    "def func1(var):\n",
    "    # global var =6000\n",
    "    # global var\n",
    "    print(var)\n",
    "    var = 5000\n",
    "    print(\"inside\",var)\n",
    "    return var\n",
    "\n",
    "var = func1(var)\n",
    "print(var)"
   ]
  },
  {
   "cell_type": "code",
   "execution_count": 41,
   "metadata": {},
   "outputs": [
    {
     "name": "stdout",
     "output_type": "stream",
     "text": [
      "9\n"
     ]
    }
   ],
   "source": [
    "# loop variables \n",
    "i = \"asdf\"\n",
    "for i in range(10):\n",
    "    pass\n",
    "\n",
    "print(i)\n",
    "    "
   ]
  },
  {
   "cell_type": "code",
   "execution_count": 43,
   "metadata": {},
   "outputs": [
    {
     "data": {
      "text/plain": [
       "int"
      ]
     },
     "execution_count": 43,
     "metadata": {},
     "output_type": "execute_result"
    }
   ],
   "source": [
    "# before going to local let us understand , we can return functions \n",
    "def func1():\n",
    "\n",
    "    \n",
    "    return 10\n",
    "\n",
    "\n",
    "a = func1()\n",
    "type(a)"
   ]
  },
  {
   "cell_type": "code",
   "execution_count": 44,
   "metadata": {},
   "outputs": [
    {
     "name": "stdout",
     "output_type": "stream",
     "text": [
      "This is outer function\n"
     ]
    },
    {
     "data": {
      "text/plain": [
       "function"
      ]
     },
     "execution_count": 44,
     "metadata": {},
     "output_type": "execute_result"
    }
   ],
   "source": [
    "# before going to local let us understand , we can return functions \n",
    "def func1():\n",
    "    print(\"This is outer function\")\n",
    "    def func2():\n",
    "        print(\"This is function2\")\n",
    "        x = 0\n",
    "        print(x)\n",
    "    \n",
    "    return func2\n",
    "\n",
    "a = func1()\n",
    "type(a)\n"
   ]
  },
  {
   "cell_type": "code",
   "execution_count": 45,
   "metadata": {},
   "outputs": [
    {
     "data": {
      "text/plain": [
       "function"
      ]
     },
     "execution_count": 45,
     "metadata": {},
     "output_type": "execute_result"
    },
    {
     "name": "stdout",
     "output_type": "stream",
     "text": [
      "This is outer function\n"
     ]
    },
    {
     "data": {
      "text/plain": [
       "<function __main__.func1.<locals>.func2()>"
      ]
     },
     "execution_count": 45,
     "metadata": {},
     "output_type": "execute_result"
    }
   ],
   "source": [
    "var1 = func1\n",
    "type(var1)\n",
    "var1()"
   ]
  },
  {
   "cell_type": "code",
   "execution_count": null,
   "metadata": {},
   "outputs": [],
   "source": [
    "a = 10\n",
    "b = a\n"
   ]
  },
  {
   "cell_type": "code",
   "execution_count": 28,
   "metadata": {},
   "outputs": [
    {
     "name": "stdout",
     "output_type": "stream",
     "text": [
      "This is outer function\n"
     ]
    },
    {
     "data": {
      "text/plain": [
       "function"
      ]
     },
     "execution_count": 28,
     "metadata": {},
     "output_type": "execute_result"
    },
    {
     "name": "stdout",
     "output_type": "stream",
     "text": [
      "This is function2\n",
      "0\n",
      "This is function2\n",
      "0\n"
     ]
    }
   ],
   "source": [
    "var1 = func1()\n",
    "type(var1)\n",
    "var1()\n",
    "var1()"
   ]
  },
  {
   "cell_type": "code",
   "execution_count": 48,
   "metadata": {},
   "outputs": [
    {
     "ename": "UnboundLocalError",
     "evalue": "cannot access local variable 'x' where it is not associated with a value",
     "output_type": "error",
     "traceback": [
      "\u001b[1;31m---------------------------------------------------------------------------\u001b[0m",
      "\u001b[1;31mUnboundLocalError\u001b[0m                         Traceback (most recent call last)",
      "Cell \u001b[1;32mIn[48], line 14\u001b[0m\n\u001b[0;32m     10\u001b[0m     func2()      \n\u001b[0;32m     11\u001b[0m     \u001b[39mprint\u001b[39m(x)\n\u001b[1;32m---> 14\u001b[0m func1()\n",
      "Cell \u001b[1;32mIn[48], line 10\u001b[0m, in \u001b[0;36mfunc1\u001b[1;34m()\u001b[0m\n\u001b[0;32m      6\u001b[0m     x \u001b[39m=\u001b[39m \u001b[39m300\u001b[39m\n\u001b[0;32m      7\u001b[0m     \u001b[39mprint\u001b[39m(x)\n\u001b[1;32m---> 10\u001b[0m func2()      \n\u001b[0;32m     11\u001b[0m \u001b[39mprint\u001b[39m(x)\n",
      "Cell \u001b[1;32mIn[48], line 5\u001b[0m, in \u001b[0;36mfunc1.<locals>.func2\u001b[1;34m()\u001b[0m\n\u001b[0;32m      3\u001b[0m \u001b[39mdef\u001b[39;00m \u001b[39mfunc2\u001b[39m():\n\u001b[0;32m      4\u001b[0m     \u001b[39m# \u001b[39;00m\n\u001b[1;32m----> 5\u001b[0m     \u001b[39mprint\u001b[39m(x)\n\u001b[0;32m      6\u001b[0m     x \u001b[39m=\u001b[39m \u001b[39m300\u001b[39m\n\u001b[0;32m      7\u001b[0m     \u001b[39mprint\u001b[39m(x)\n",
      "\u001b[1;31mUnboundLocalError\u001b[0m: cannot access local variable 'x' where it is not associated with a value"
     ]
    }
   ],
   "source": [
    "def func1():\n",
    "    x =20\n",
    "    def func2():\n",
    "        # \n",
    "        print(x)\n",
    "        x = 300\n",
    "        print(x)\n",
    "    \n",
    "    \n",
    "    func2()      \n",
    "    print(x)\n",
    "      \n",
    "    \n",
    "func1()\n"
   ]
  },
  {
   "cell_type": "code",
   "execution_count": 16,
   "metadata": {},
   "outputs": [
    {
     "name": "stdout",
     "output_type": "stream",
     "text": [
      "300\n",
      "300\n"
     ]
    }
   ],
   "source": [
    "# The nonlocal keyword is used in nested functions to reference a variable in the parent function. \n",
    "def func1():\n",
    "    x =20\n",
    "    def func2():\n",
    "        # \n",
    "        nonlocal x\n",
    "        x=300\n",
    "        print(x)\n",
    "    \n",
    "        \n",
    "    func2()        \n",
    "    print(x)\n",
    "    \n",
    "func1()\n"
   ]
  },
  {
   "cell_type": "code",
   "execution_count": 51,
   "metadata": {},
   "outputs": [
    {
     "name": "stdout",
     "output_type": "stream",
     "text": [
      "300\n",
      "20\n",
      "outer-outer 300\n"
     ]
    }
   ],
   "source": [
    "# The nonlocal keyword is used in nested functions to reference a variable in the parent function. \n",
    "def func1():\n",
    "    x =20\n",
    "    def func2():\n",
    "        # \n",
    "        global x\n",
    "        x=300\n",
    "        print(x)\n",
    "    \n",
    "        \n",
    "    func2()        \n",
    "    print(x)\n",
    "    \n",
    "func1()\n",
    "print(\"outer-outer\",x)\n"
   ]
  },
  {
   "cell_type": "code",
   "execution_count": 52,
   "metadata": {},
   "outputs": [
    {
     "name": "stdout",
     "output_type": "stream",
     "text": [
      "1\n",
      "1\n",
      "1\n"
     ]
    }
   ],
   "source": [
    "def counter_old():\n",
    "    c =0\n",
    "    c = c+1\n",
    "    return c\n",
    "\n",
    "for i in range(3):\n",
    "    print(counter_old())"
   ]
  },
  {
   "cell_type": "code",
   "execution_count": 55,
   "metadata": {},
   "outputs": [
    {
     "name": "stdout",
     "output_type": "stream",
     "text": [
      "1\n",
      "2\n",
      "3\n",
      "End of my_counter\n"
     ]
    }
   ],
   "source": [
    "\n",
    "def counter():\n",
    "  c = 0 # Local counter variable\n",
    "   \n",
    "  # This function manipulate the\n",
    "  # local c variable, when called\n",
    "  def count():\n",
    "    nonlocal c\n",
    "    c += 1\n",
    "    return c\n",
    "   \n",
    "  # Return the count() function to manipulate\n",
    "  # the local c variable on every call\n",
    "  return count\n",
    " \n",
    "my_counter = counter()\n",
    "for i in range(3):\n",
    "  print(my_counter())\n",
    "print('End of my_counter')"
   ]
  },
  {
   "cell_type": "code",
   "execution_count": 58,
   "metadata": {},
   "outputs": [
    {
     "data": {
      "text/plain": [
       "function"
      ]
     },
     "execution_count": 58,
     "metadata": {},
     "output_type": "execute_result"
    },
    {
     "name": "stdout",
     "output_type": "stream",
     "text": [
      "al\n"
     ]
    },
    {
     "data": {
      "text/plain": [
       "1"
      ]
     },
     "execution_count": 58,
     "metadata": {},
     "output_type": "execute_result"
    }
   ],
   "source": [
    "\n",
    "def counter():\n",
    "  c = 0 # Local counter variable\n",
    "   \n",
    "  # This function manipulate the\n",
    "  # local c variable, when called\n",
    "  def count():\n",
    "    print(\"al\")\n",
    "    nonlocal c\n",
    "    c += 1\n",
    "    return c\n",
    "   \n",
    "  # Return the count() function to manipulate\n",
    "  # the local c variable on every call\n",
    "  return count\n",
    "   \n",
    "\n",
    " \n",
    "my_counter = counter()\n",
    "type(my_counter)\n",
    "my_counter()\n"
   ]
  },
  {
   "cell_type": "code",
   "execution_count": 18,
   "metadata": {},
   "outputs": [
    {
     "name": "stdout",
     "output_type": "stream",
     "text": [
      "1\n",
      "1\n",
      "1\n",
      "End of my_counter\n",
      "1\n",
      "2\n",
      "3\n",
      "End of my_counter\n",
      "1\n",
      "2\n",
      "3\n",
      "End of new_counter\n"
     ]
    }
   ],
   "source": [
    "# Our counter function\n",
    "def counter_old():\n",
    "    c =0\n",
    "    c = c+1\n",
    "    return c\n",
    "\n",
    "def counter():\n",
    "  c = 0 # Local counter variable\n",
    "   \n",
    "  # This function manipulate the\n",
    "  # local c variable, when called\n",
    "  def count():\n",
    "    nonlocal c\n",
    "    c += 1\n",
    "    return c\n",
    "   \n",
    "  # Return the count() function to manipulate\n",
    "  # the local c variable on every call\n",
    "  return count\n",
    " \n",
    "my_counter = counter()\n",
    "for i in range(3):\n",
    "  print(counter_old())\n",
    "print('End of my_counter')\n",
    "\n",
    "\n",
    "# Assign the result of counter() to\n",
    "# a variable which we use to count up\n",
    "my_counter = counter()\n",
    "for i in range(3):\n",
    "  print(my_counter())\n",
    "print('End of my_counter')\n",
    "   \n",
    "# Create a new counter\n",
    "new_counter = counter()\n",
    "for i in range(3):\n",
    "  print(new_counter())\n",
    "print('End of new_counter')"
   ]
  },
  {
   "cell_type": "code",
   "execution_count": 20,
   "metadata": {},
   "outputs": [
    {
     "name": "stdout",
     "output_type": "stream",
     "text": [
      "Function is being called\n",
      "1\n",
      "1\n",
      "1\n",
      "End of my_counter\n",
      "Function is being called\n",
      "<function counter.<locals>.count at 0x0000026002966520>\n",
      "Function is being called\n",
      "<function counter.<locals>.count at 0x0000026002966520>\n",
      "Function is being called\n",
      "<function counter.<locals>.count at 0x0000026002966520>\n",
      "End of my_counter\n",
      "Function is being called\n",
      "1\n",
      "2\n",
      "3\n",
      "End of my_counter\n",
      "Function is being called\n",
      "1\n",
      "2\n",
      "3\n",
      "End of new_counter\n"
     ]
    }
   ],
   "source": [
    "# Our counter function\n",
    "def counter_old():\n",
    "    c =0\n",
    "    c = c+1\n",
    "    return c\n",
    "\n",
    "def counter():\n",
    "  c = 0 # Local counter variable\n",
    "  print(\"Function is being called\") \n",
    "  # This function manipulate the\n",
    "  # local c variable, when called\n",
    "  def count():\n",
    "    nonlocal c\n",
    "    c += 1\n",
    "    return c\n",
    "   \n",
    "  # Return the count() function to manipulate\n",
    "  # the local c variable on every call\n",
    "  return count\n",
    " \n",
    "my_counter = counter()\n",
    "for i in range(3):\n",
    "  print(counter_old())\n",
    "print('End of my_counter')\n",
    "\n",
    "\n",
    "\n",
    "for i in range(3):\n",
    "  print(counter())\n",
    "print('End of my_counter')\n",
    "\n",
    "# Assign the result of counter() to\n",
    "# a variable which we use to count up\n",
    "my_counter = counter()\n",
    "for i in range(3):\n",
    "  print(my_counter())\n",
    "print('End of my_counter')\n",
    "   \n",
    "# Create a new counter\n",
    "new_counter = counter()\n",
    "for i in range(3):\n",
    "  print(new_counter())\n",
    "print('End of new_counter')"
   ]
  }
 ],
 "metadata": {
  "kernelspec": {
   "display_name": "Python 3",
   "language": "python",
   "name": "python3"
  },
  "language_info": {
   "codemirror_mode": {
    "name": "ipython",
    "version": 3
   },
   "file_extension": ".py",
   "mimetype": "text/x-python",
   "name": "python",
   "nbconvert_exporter": "python",
   "pygments_lexer": "ipython3",
   "version": "3.11.1"
  },
  "orig_nbformat": 4,
  "vscode": {
   "interpreter": {
    "hash": "108095e740c160118120ad5e22811b4aca9f414a6f3c55c969835bc2c10848d1"
   }
  }
 },
 "nbformat": 4,
 "nbformat_minor": 2
}
