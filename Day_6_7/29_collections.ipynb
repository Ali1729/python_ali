{
 "cells": [
  {
   "cell_type": "code",
   "execution_count": 8,
   "metadata": {},
   "outputs": [
    {
     "ename": "KeyError",
     "evalue": "'colours'",
     "output_type": "error",
     "traceback": [
      "\u001b[1;31m---------------------------------------------------------------------------\u001b[0m",
      "\u001b[1;31mKeyError\u001b[0m                                  Traceback (most recent call last)",
      "Cell \u001b[1;32mIn[8], line 4\u001b[0m\n\u001b[0;32m      2\u001b[0m some_dict[\u001b[39m\"\u001b[39m\u001b[39mlasdf\u001b[39m\u001b[39m\"\u001b[39m] \u001b[39m=\u001b[39m \u001b[39m\"\u001b[39m\u001b[39masd\u001b[39m\u001b[39m\"\u001b[39m\n\u001b[0;32m      3\u001b[0m \u001b[39m# some_dict\u001b[39;00m\n\u001b[1;32m----> 4\u001b[0m some_dict[\u001b[39m'\u001b[39;49m\u001b[39mcolours\u001b[39;49m\u001b[39m'\u001b[39;49m][\u001b[39m'\u001b[39m\u001b[39mfavourite\u001b[39m\u001b[39m'\u001b[39m] \u001b[39m=\u001b[39m \u001b[39m\"\u001b[39m\u001b[39myellow\u001b[39m\u001b[39m\"\u001b[39m\n",
      "\u001b[1;31mKeyError\u001b[0m: 'colours'"
     ]
    }
   ],
   "source": [
    "some_dict = {}\n",
    "some_dict[\"lasdf\"] = \"asd\"\n",
    "# some_dict\n",
    "if some_dict.has_key(\"colours\") :\n",
    "    some_dict['colours']['favourite'] = \"yellow\"\n",
    "else:\n",
    "    some_dict['colours' ] =[]\n",
    "    \n"
   ]
  },
  {
   "cell_type": "code",
   "execution_count": 2,
   "metadata": {},
   "outputs": [
    {
     "ename": "TypeError",
     "evalue": "'collections.defaultdict' object is not callable",
     "output_type": "error",
     "traceback": [
      "\u001b[1;31m---------------------------------------------------------------------------\u001b[0m",
      "\u001b[1;31mTypeError\u001b[0m                                 Traceback (most recent call last)",
      "Cell \u001b[1;32mIn[2], line 3\u001b[0m\n\u001b[0;32m      1\u001b[0m \u001b[39mfrom\u001b[39;00m \u001b[39mcollections\u001b[39;00m \u001b[39mimport\u001b[39;00m defaultdict\n\u001b[0;32m      2\u001b[0m tree \u001b[39m=\u001b[39m defaultdict()\n\u001b[1;32m----> 3\u001b[0m some_dict \u001b[39m=\u001b[39m tree()\n\u001b[0;32m      4\u001b[0m some_dict[\u001b[39m'\u001b[39m\u001b[39mcolours\u001b[39m\u001b[39m'\u001b[39m]\u001b[39m=\u001b[39m \u001b[39m\"\u001b[39m\u001b[39myellow\u001b[39m\u001b[39m\"\u001b[39m\n",
      "\u001b[1;31mTypeError\u001b[0m: 'collections.defaultdict' object is not callable"
     ]
    }
   ],
   "source": [
    "from collections import defaultdict\n",
    "tree = defaultdict()\n",
    "some_dict = tree()\n",
    "some_dict['colours']= \"yellow\""
   ]
  },
  {
   "cell_type": "code",
   "execution_count": 4,
   "metadata": {},
   "outputs": [
    {
     "data": {
      "text/plain": [
       "defaultdict(<function __main__.<lambda>()>,\n",
       "            {'colours': defaultdict(<function __main__.<lambda>()>,\n",
       "                         {'favourite': 'yellow'})})"
      ]
     },
     "execution_count": 4,
     "metadata": {},
     "output_type": "execute_result"
    }
   ],
   "source": [
    "from collections import defaultdict\n",
    "tree = lambda: defaultdict(tree)\n",
    "some_dict = tree()\n",
    "some_dict['colours']['favourite'] = \"yellow\"\n",
    "some_dict"
   ]
  },
  {
   "cell_type": "code",
   "execution_count": null,
   "metadata": {},
   "outputs": [],
   "source": [
    "a = {\"1\":2,\"3\":4}\n",
    "b = {\"3\":4,\"1\":2}"
   ]
  },
  {
   "attachments": {},
   "cell_type": "markdown",
   "metadata": {},
   "source": [
    "from collections import defaultdict"
   ]
  }
 ],
 "metadata": {
  "kernelspec": {
   "display_name": "Python 3",
   "language": "python",
   "name": "python3"
  },
  "language_info": {
   "codemirror_mode": {
    "name": "ipython",
    "version": 3
   },
   "file_extension": ".py",
   "mimetype": "text/x-python",
   "name": "python",
   "nbconvert_exporter": "python",
   "pygments_lexer": "ipython3",
   "version": "3.11.1"
  },
  "orig_nbformat": 4,
  "vscode": {
   "interpreter": {
    "hash": "108095e740c160118120ad5e22811b4aca9f414a6f3c55c969835bc2c10848d1"
   }
  }
 },
 "nbformat": 4,
 "nbformat_minor": 2
}
