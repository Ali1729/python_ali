{
 "cells": [
  {
   "cell_type": "code",
   "execution_count": 36,
   "metadata": {},
   "outputs": [
    {
     "name": "stdout",
     "output_type": "stream",
     "text": [
      "3\n"
     ]
    }
   ],
   "source": [
    "def func1(a,b,c,d):\n",
    "    print(c)\n",
    "    \n",
    "func1(1,2,3,4)"
   ]
  },
  {
   "cell_type": "code",
   "execution_count": 37,
   "metadata": {},
   "outputs": [
    {
     "ename": "TypeError",
     "evalue": "func1() takes 4 positional arguments but 5 were given",
     "output_type": "error",
     "traceback": [
      "\u001b[1;31m---------------------------------------------------------------------------\u001b[0m",
      "\u001b[1;31mTypeError\u001b[0m                                 Traceback (most recent call last)",
      "Cell \u001b[1;32mIn[37], line 1\u001b[0m\n\u001b[1;32m----> 1\u001b[0m func1(\u001b[39m1\u001b[39;49m,\u001b[39m2\u001b[39;49m,\u001b[39m3\u001b[39;49m,\u001b[39m4\u001b[39;49m,\u001b[39m5\u001b[39;49m)\n",
      "\u001b[1;31mTypeError\u001b[0m: func1() takes 4 positional arguments but 5 were given"
     ]
    }
   ],
   "source": [
    "func1(1,2,3,4,5)"
   ]
  },
  {
   "cell_type": "code",
   "execution_count": 38,
   "metadata": {},
   "outputs": [
    {
     "ename": "TypeError",
     "evalue": "func1() missing 1 required positional argument: 'd'",
     "output_type": "error",
     "traceback": [
      "\u001b[1;31m---------------------------------------------------------------------------\u001b[0m",
      "\u001b[1;31mTypeError\u001b[0m                                 Traceback (most recent call last)",
      "Cell \u001b[1;32mIn[38], line 1\u001b[0m\n\u001b[1;32m----> 1\u001b[0m func1(\u001b[39m1\u001b[39;49m,\u001b[39m2\u001b[39;49m,\u001b[39m3\u001b[39;49m)\n",
      "\u001b[1;31mTypeError\u001b[0m: func1() missing 1 required positional argument: 'd'"
     ]
    }
   ],
   "source": [
    "func1(1,2,3)"
   ]
  },
  {
   "cell_type": "code",
   "execution_count": 39,
   "metadata": {},
   "outputs": [
    {
     "name": "stdout",
     "output_type": "stream",
     "text": [
      "100\n",
      "20\n",
      "outside 100\n"
     ]
    }
   ],
   "source": [
    "def func1(a,b,c,d):\n",
    "    print(c)\n",
    "    c= 20\n",
    "    print(c)\n",
    "\n",
    "k = 100\n",
    "func1(1,2,k,4)\n",
    "print(\"outside\",str(k))"
   ]
  },
  {
   "cell_type": "code",
   "execution_count": 43,
   "metadata": {},
   "outputs": [
    {
     "name": "stdout",
     "output_type": "stream",
     "text": [
      "outside\n",
      "[1, 2, 3, 4]\n"
     ]
    }
   ],
   "source": [
    "# Changing mutable object inside a function , will change calling variable also.\n",
    "# we need to use deep copy or copy for avoiding this changes, if not intended.\n",
    "# observe the passing variable and function variable need not be the same.\n",
    "\n",
    "# if it looks like a duck and if it quacks like a duck , then it is a duck\n",
    "def func1(a):\n",
    "    print(\"inside function\")\n",
    "    print(a)\n",
    "    a.append(100)\n",
    "    print(\"inside function after change\")\n",
    "    print(a)\n",
    "\n",
    "\n",
    "k = [1,2,3,4]\n",
    "func1(k[:])\n",
    "print(\"outside\")\n",
    "\n",
    "print(k)\n",
    "\n",
    "\n",
    "j\n",
    "l.count()\n",
    "l.append()"
   ]
  },
  {
   "cell_type": "code",
   "execution_count": null,
   "metadata": {},
   "outputs": [],
   "source": [
    "def func1(a):\n",
    "    if type(a) == int:\n",
    "        return a * 8\n",
    "    elif type(a ) == str:\n",
    "        str1 =''\n",
    "        for i in range(8):\n",
    "            str1= str1+a\n",
    "        \n",
    "        return str1\n",
    "    \n",
    "def func1(a):\n",
    "    return a * 8\n",
    "\n",
    "func1(5)\n",
    "func1(\"asdf\")\n",
    "func1([1,2,3,4])"
   ]
  },
  {
   "cell_type": "code",
   "execution_count": 54,
   "metadata": {},
   "outputs": [
    {
     "name": "stdout",
     "output_type": "stream",
     "text": [
      "inside function\n",
      "10\n",
      "inside function after change\n",
      "100\n",
      "outside\n",
      "[1, 2, 3, 4]\n",
      "None\n"
     ]
    }
   ],
   "source": [
    "\n",
    "def func1(a):\n",
    "    print(\"inside function\")\n",
    "    print(a)\n",
    "    a=100\n",
    "    print(\"inside function after change\")\n",
    "    print(a)\n",
    "    \n",
    "    # return 10\n",
    "\n",
    "k = [1,2,3,4]\n",
    "a = func1(10)\n",
    "print(\"outside\")\n",
    "print(k)\n",
    "print(a)"
   ]
  },
  {
   "cell_type": "code",
   "execution_count": 55,
   "metadata": {},
   "outputs": [
    {
     "name": "stdout",
     "output_type": "stream",
     "text": [
      "inside function\n",
      "[1, 2, 3, 4]\n",
      "inside function after change\n",
      "[1, 2, 3, 4, 100]\n",
      "outside\n",
      "[1, 2, 3, 4]\n"
     ]
    }
   ],
   "source": [
    "# for avoid pass by reference in immutable types use deep copy or copy\n",
    "def func1(a):\n",
    "    a = a[:]\n",
    "    print(\"inside function\")\n",
    "    print(a)\n",
    "    a.append(100)\n",
    "    print(\"inside function after change\")\n",
    "    print(a)\n",
    "\n",
    "    \n",
    "k = [1,2,3,4]\n",
    "func1(k)\n",
    "print(\"outside\")\n",
    "print(k)"
   ]
  },
  {
   "cell_type": "code",
   "execution_count": null,
   "metadata": {},
   "outputs": [],
   "source": [
    "# passed by value\n",
    "# passed by address/reference\n",
    "// passes a pointer (called reference in java) to an integer\n",
    "void call_by_value(int *p) { // :1\n",
    "    p = NULL;\n",
    "}\n",
    "\n",
    "// passes an integer\n",
    "void call_by_value(int p) { // :2\n",
    "    p = 42;\n",
    "}\n",
    "\n",
    "// passes an integer by reference\n",
    "void call_by_reference(int & p) { // :3\n",
    "    p = 42;\n",
    "}\n",
    "int main() {\n",
    "    int value = 10;\n",
    "    int * pointer = &value;\n",
    "\n",
    "    call_by_value(pointer); // :1\n",
    "    assert(pointer == &value); // pointer was copied\n",
    "\n",
    "    call_by_value(value); // :2\n",
    "    assert(value == 10); // value was copied\n",
    "\n",
    "    call_by_reference(value); // :3\n",
    "    assert(value == 42); // value was passed by reference\n",
    "\n",
    "    call_by_value_special(pointer); // :4\n",
    "    // pointer was copied but what pointer references was changed.\n",
    "    assert(value == 10 && pointer == &value);\n",
    "}"
   ]
  },
  {
   "attachments": {},
   "cell_type": "markdown",
   "metadata": {},
   "source": [
    "Argument passing and unpacking of variables."
   ]
  },
  {
   "cell_type": "code",
   "execution_count": 57,
   "metadata": {},
   "outputs": [
    {
     "ename": "ValueError",
     "evalue": "not enough values to unpack (expected 3, got 2)",
     "output_type": "error",
     "traceback": [
      "\u001b[1;31m---------------------------------------------------------------------------\u001b[0m",
      "\u001b[1;31mValueError\u001b[0m                                Traceback (most recent call last)",
      "Cell \u001b[1;32mIn[57], line 3\u001b[0m\n\u001b[0;32m      1\u001b[0m a \u001b[39m=\u001b[39m \u001b[39m100\u001b[39m\n\u001b[0;32m      2\u001b[0m b \u001b[39m=\u001b[39m \u001b[39m200\u001b[39m\n\u001b[1;32m----> 3\u001b[0m a, b,c  \u001b[39m=\u001b[39m \u001b[39m100\u001b[39m,\u001b[39m200\u001b[39m\n",
      "\u001b[1;31mValueError\u001b[0m: not enough values to unpack (expected 3, got 2)"
     ]
    }
   ],
   "source": [
    "a = 100\n",
    "b = 200\n",
    "a, b  = 100,200"
   ]
  },
  {
   "cell_type": "code",
   "execution_count": 99,
   "metadata": {},
   "outputs": [
    {
     "data": {
      "text/plain": [
       "100"
      ]
     },
     "execution_count": 99,
     "metadata": {},
     "output_type": "execute_result"
    },
    {
     "data": {
      "text/plain": [
       "[200, 300]"
      ]
     },
     "execution_count": 99,
     "metadata": {},
     "output_type": "execute_result"
    },
    {
     "data": {
      "text/plain": [
       "int"
      ]
     },
     "execution_count": 99,
     "metadata": {},
     "output_type": "execute_result"
    },
    {
     "data": {
      "text/plain": [
       "list"
      ]
     },
     "execution_count": 99,
     "metadata": {},
     "output_type": "execute_result"
    }
   ],
   "source": [
    "a = 100\n",
    "b = 200\n",
    "a , *b = 100,200,300\n",
    "a\n",
    "b\n",
    "type(a)\n",
    "type(b)"
   ]
  },
  {
   "cell_type": "code",
   "execution_count": 67,
   "metadata": {},
   "outputs": [
    {
     "name": "stdout",
     "output_type": "stream",
     "text": [
      "100\n",
      "name\n",
      "<class 'int'>\n"
     ]
    }
   ],
   "source": [
    "# returning more than one variable\n",
    "\n",
    "def func1():\n",
    "    a = 100\n",
    "    b = \"name\"\n",
    "    \n",
    "    return a, b\n",
    "\n",
    "x,y = func1()\n",
    "print(x)\n",
    "print(y)\n",
    "print(type(x))\n"
   ]
  },
  {
   "cell_type": "code",
   "execution_count": 10,
   "metadata": {},
   "outputs": [
    {
     "name": "stdout",
     "output_type": "stream",
     "text": [
      "100 name\n",
      "<class 'int'>\n"
     ]
    }
   ],
   "source": [
    "def func1():\n",
    "    a = 100\n",
    "    b = \"name\"\n",
    "    \n",
    "    return a, b\n",
    "\n",
    "x,y = func1()\n",
    "print(x,y)\n",
    "print(type(x))\n"
   ]
  },
  {
   "attachments": {},
   "cell_type": "markdown",
   "metadata": {},
   "source": [
    "Positionals: Arguments passed in "
   ]
  },
  {
   "cell_type": "code",
   "execution_count": 68,
   "metadata": {},
   "outputs": [
    {
     "name": "stdout",
     "output_type": "stream",
     "text": [
      "1\n",
      "3\n"
     ]
    }
   ],
   "source": [
    "def func1(a,b,c,d):\n",
    "    print(a)\n",
    "    print(c)\n",
    "    \n",
    "func1(1,2,3,4)"
   ]
  },
  {
   "cell_type": "code",
   "execution_count": 69,
   "metadata": {},
   "outputs": [
    {
     "name": "stdout",
     "output_type": "stream",
     "text": [
      "4\n",
      "2\n"
     ]
    }
   ],
   "source": [
    "def func1(a,b,c,d):\n",
    "    print(a)\n",
    "    print(c)\n",
    "    \n",
    "func1(4,3,2,1)"
   ]
  },
  {
   "cell_type": "code",
   "execution_count": 72,
   "metadata": {},
   "outputs": [
    {
     "name": "stdout",
     "output_type": "stream",
     "text": [
      "10\n",
      "30\n",
      "20\n",
      "1\n",
      "2\n",
      "3\n"
     ]
    }
   ],
   "source": [
    "def func1(p,q,r):\n",
    "    print(p)\n",
    "    print(q)\n",
    "    print(r)\n",
    "    \n",
    "a ,b,c = (10,20,30)\n",
    "func1(p=a,q=c,r=b)\n",
    "func1(1,2,r=3)"
   ]
  },
  {
   "cell_type": "code",
   "execution_count": 73,
   "metadata": {},
   "outputs": [
    {
     "ename": "SyntaxError",
     "evalue": "positional argument follows keyword argument (1781074567.py, line 7)",
     "output_type": "error",
     "traceback": [
      "\u001b[1;36m  Cell \u001b[1;32mIn[73], line 7\u001b[1;36m\u001b[0m\n\u001b[1;33m    func1(p=a,c,b)\u001b[0m\n\u001b[1;37m                 ^\u001b[0m\n\u001b[1;31mSyntaxError\u001b[0m\u001b[1;31m:\u001b[0m positional argument follows keyword argument\n"
     ]
    }
   ],
   "source": [
    "def func1(p,q,r):\n",
    "    print(p)\n",
    "    print(q)\n",
    "    print(r)\n",
    "    \n",
    "a ,b,c = (10,20,30)\n",
    "func1(p=a,c,b)"
   ]
  },
  {
   "cell_type": "code",
   "execution_count": 76,
   "metadata": {},
   "outputs": [
    {
     "name": "stdout",
     "output_type": "stream",
     "text": [
      "10\n",
      "30\n",
      "20\n",
      "10\n",
      "30\n",
      "20\n"
     ]
    }
   ],
   "source": [
    "def func1(p,q,r):\n",
    "    print(p)\n",
    "    print(q)\n",
    "    print(r)\n",
    "    \n",
    "a ,b,c = (10,20,30)\n",
    "func1(a,r=b,q=c)\n",
    "func1(a,q=c,r=b)"
   ]
  },
  {
   "cell_type": "code",
   "execution_count": 77,
   "metadata": {},
   "outputs": [
    {
     "name": "stdout",
     "output_type": "stream",
     "text": [
      "10\n",
      "30\n",
      "20\n",
      "100\n"
     ]
    }
   ],
   "source": [
    "def func1(p,q,r,s=100):\n",
    "    print(p)\n",
    "    print(q)\n",
    "    print(r)\n",
    "    print(s)\n",
    "    \n",
    "a ,b,c = (10,20,30)\n",
    "func1(a,q=c,r=b)"
   ]
  },
  {
   "cell_type": "code",
   "execution_count": 78,
   "metadata": {},
   "outputs": [
    {
     "name": "stdout",
     "output_type": "stream",
     "text": [
      "10\n",
      "30\n",
      "20\n",
      "200\n"
     ]
    }
   ],
   "source": [
    "d = 200\n",
    "func1(a,q=c,r=b,s=d)"
   ]
  },
  {
   "cell_type": "code",
   "execution_count": 81,
   "metadata": {},
   "outputs": [
    {
     "ename": "TypeError",
     "evalue": "func1() got an unexpected keyword argument 'd'",
     "output_type": "error",
     "traceback": [
      "\u001b[1;31m---------------------------------------------------------------------------\u001b[0m",
      "\u001b[1;31mTypeError\u001b[0m                                 Traceback (most recent call last)",
      "Cell \u001b[1;32mIn[81], line 2\u001b[0m\n\u001b[0;32m      1\u001b[0m d \u001b[39m=\u001b[39m \u001b[39m200\u001b[39m\n\u001b[1;32m----> 2\u001b[0m func1(a,d,d,d\u001b[39m=\u001b[39;49m\u001b[39m500\u001b[39;49m)\n",
      "\u001b[1;31mTypeError\u001b[0m: func1() got an unexpected keyword argument 'd'"
     ]
    }
   ],
   "source": [
    "d = 200\n",
    "z=10\n",
    "func1(a,d,d,d)\n",
    "func1(a,d,d,z)"
   ]
  },
  {
   "cell_type": "code",
   "execution_count": 86,
   "metadata": {},
   "outputs": [
    {
     "name": "stdout",
     "output_type": "stream",
     "text": [
      "4\n",
      "3\n",
      "2\n",
      "1\n",
      "4\n",
      "3\n",
      "2\n",
      "1\n"
     ]
    }
   ],
   "source": [
    "# names of variables. does not matter in positional arguments\n",
    "def func1(a,b,c,d):\n",
    "    print(a)\n",
    "    print(b)\n",
    "    print(c)\n",
    "    print(d)\n",
    "    \n",
    "a1,b1,c1,d1 = 1,2,3,4\n",
    "func1(d1,c1,b1,a1)\n",
    "func1(a=d1,b=c1,c=b1,d=a1)"
   ]
  },
  {
   "cell_type": "code",
   "execution_count": 85,
   "metadata": {},
   "outputs": [
    {
     "name": "stdout",
     "output_type": "stream",
     "text": [
      "1\n",
      "2\n"
     ]
    }
   ],
   "source": [
    "func1(d=a,a=d,b=c,c=b)"
   ]
  },
  {
   "cell_type": "code",
   "execution_count": 84,
   "metadata": {},
   "outputs": [
    {
     "name": "stdout",
     "output_type": "stream",
     "text": [
      "1\n",
      "1\n"
     ]
    }
   ],
   "source": [
    "a = 1\n",
    "b =2\n",
    "c =3\n",
    "d  =4\n",
    "d=a # d is a---> 1\n",
    "a=d # a is d -->1 \n",
    "print(a)\n",
    "print(d)"
   ]
  },
  {
   "cell_type": "code",
   "execution_count": null,
   "metadata": {},
   "outputs": [],
   "source": []
  },
  {
   "cell_type": "code",
   "execution_count": 28,
   "metadata": {},
   "outputs": [
    {
     "name": "stdout",
     "output_type": "stream",
     "text": [
      "1\n",
      "3\n"
     ]
    }
   ],
   "source": [
    "# names of variables. does not matter in positional arguments\n",
    "def func1(a,b,c,d):\n",
    "    print(a)\n",
    "    print(c)\n",
    "    \n",
    "a,b,c,d = 1,2,3,4\n",
    "func1(d=d,c=c,b=b,a=a)"
   ]
  },
  {
   "cell_type": "code",
   "execution_count": null,
   "metadata": {},
   "outputs": [],
   "source": [
    "a=10\n",
    "a=20\n",
    "print(a)"
   ]
  },
  {
   "cell_type": "code",
   "execution_count": 88,
   "metadata": {},
   "outputs": [
    {
     "data": {
      "text/plain": [
       "50"
      ]
     },
     "execution_count": 88,
     "metadata": {},
     "output_type": "execute_result"
    }
   ],
   "source": [
    "def calculate_area(a): # 1\n",
    "    return a*a\n",
    "\n",
    "def calculate_area(a,b): # 1\n",
    "    return a*b\n",
    "\n",
    "\n",
    "calculate_area(5,10)\n"
   ]
  },
  {
   "cell_type": "code",
   "execution_count": 91,
   "metadata": {},
   "outputs": [
    {
     "data": {
      "text/plain": [
       "50"
      ]
     },
     "execution_count": 91,
     "metadata": {},
     "output_type": "execute_result"
    },
    {
     "data": {
      "text/plain": [
       "25"
      ]
     },
     "execution_count": 91,
     "metadata": {},
     "output_type": "execute_result"
    }
   ],
   "source": [
    "def calculate_area(a): # 1\n",
    "    if len(a) ==1:\n",
    "        return a[0]*a[0]\n",
    "    \n",
    "    elif len(a) ==2:\n",
    "        return a[0]*a[1]\n",
    "\n",
    "\n",
    "calculate_area([5,10])\n",
    "calculate_area([5])"
   ]
  },
  {
   "cell_type": "code",
   "execution_count": 92,
   "metadata": {},
   "outputs": [
    {
     "data": {
      "text/plain": [
       "50"
      ]
     },
     "execution_count": 92,
     "metadata": {},
     "output_type": "execute_result"
    },
    {
     "data": {
      "text/plain": [
       "25"
      ]
     },
     "execution_count": 92,
     "metadata": {},
     "output_type": "execute_result"
    }
   ],
   "source": [
    "def calculate_area(*a): # 1\n",
    "    if len(a) ==1:\n",
    "        return a[0]*a[0]\n",
    "    \n",
    "    elif len(a) ==2:\n",
    "        return a[0]*a[1]\n",
    "    \n",
    "calculate_area(5,10)\n",
    "calculate_area(5)"
   ]
  },
  {
   "attachments": {},
   "cell_type": "markdown",
   "metadata": {},
   "source": [
    "list arguments\n"
   ]
  },
  {
   "cell_type": "code",
   "execution_count": 23,
   "metadata": {},
   "outputs": [
    {
     "name": "stdout",
     "output_type": "stream",
     "text": [
      "(1, 2, 3, 4)\n",
      "<class 'tuple'>\n"
     ]
    }
   ],
   "source": [
    "def func1(*l1):\n",
    "    print(l1)\n",
    "    print(type(l1))\n",
    "    \n",
    "func1(1,2,3,4)"
   ]
  },
  {
   "cell_type": "code",
   "execution_count": 24,
   "metadata": {},
   "outputs": [
    {
     "name": "stdout",
     "output_type": "stream",
     "text": [
      "([1, 2, 3, 4],)\n",
      "<class 'tuple'>\n"
     ]
    }
   ],
   "source": [
    "def func1(*l1):\n",
    "    print(l1)\n",
    "    print(type(l1))\n",
    "    \n",
    "func1([1,2,3,4])"
   ]
  },
  {
   "cell_type": "code",
   "execution_count": null,
   "metadata": {},
   "outputs": [],
   "source": [
    "def calculate_area(*a): # 1\n",
    "    if len(a) ==1:\n",
    "        return a[0]*a[0]\n",
    "    \n",
    "    elif len(a) ==2:\n",
    "        return a[0]*a[1]\n",
    "    \n",
    "calculate_area(side1=10,side2=50)"
   ]
  },
  {
   "cell_type": "code",
   "execution_count": 93,
   "metadata": {},
   "outputs": [
    {
     "ename": "TypeError",
     "evalue": "func_dic() takes 0 positional arguments but 4 were given",
     "output_type": "error",
     "traceback": [
      "\u001b[1;31m---------------------------------------------------------------------------\u001b[0m",
      "\u001b[1;31mTypeError\u001b[0m                                 Traceback (most recent call last)",
      "Cell \u001b[1;32mIn[93], line 5\u001b[0m\n\u001b[0;32m      2\u001b[0m     \u001b[39mprint\u001b[39m(l1)\n\u001b[0;32m      3\u001b[0m     \u001b[39mprint\u001b[39m(\u001b[39mtype\u001b[39m(l1))\n\u001b[1;32m----> 5\u001b[0m func_dic(\u001b[39m1\u001b[39;49m,\u001b[39m2\u001b[39;49m,\u001b[39m3\u001b[39;49m,\u001b[39m4\u001b[39;49m)\n",
      "\u001b[1;31mTypeError\u001b[0m: func_dic() takes 0 positional arguments but 4 were given"
     ]
    }
   ],
   "source": [
    "def func_dic(**l1):\n",
    "    print(l1)\n",
    "    print(type(l1))\n",
    "    \n",
    "func_dic(1,2,3,4)"
   ]
  },
  {
   "cell_type": "code",
   "execution_count": 25,
   "metadata": {},
   "outputs": [
    {
     "name": "stdout",
     "output_type": "stream",
     "text": [
      "{'a': 1, 'b': 2, 'c': 3, 'd': 4}\n",
      "<class 'dict'>\n"
     ]
    }
   ],
   "source": [
    "# ** == keywordargs\n",
    "def func_dic(**l1):\n",
    "    print(l1)\n",
    "    print(type(l1))\n",
    "    \n",
    "func_dic(a=1,b=2,c=3,d=4)"
   ]
  },
  {
   "cell_type": "code",
   "execution_count": 97,
   "metadata": {},
   "outputs": [
    {
     "name": "stdout",
     "output_type": "stream",
     "text": [
      "Dictionary to be checked: \n",
      "{'A': 'Geeks', 'B': 'For', 'C': 'Geeks'}\n"
     ]
    },
    {
     "ename": "AttributeError",
     "evalue": "'dict' object has no attribute 'has_key'",
     "output_type": "error",
     "traceback": [
      "\u001b[1;31m---------------------------------------------------------------------------\u001b[0m",
      "\u001b[1;31mAttributeError\u001b[0m                            Traceback (most recent call last)",
      "Cell \u001b[1;32mIn[97], line 13\u001b[0m\n\u001b[0;32m      9\u001b[0m \u001b[39mprint\u001b[39m(Dictionary1)\n\u001b[0;32m     11\u001b[0m \u001b[39m# Use of has_key() to check\u001b[39;00m\n\u001b[0;32m     12\u001b[0m \u001b[39m# for presence of a key in Dictionary\u001b[39;00m\n\u001b[1;32m---> 13\u001b[0m \u001b[39mprint\u001b[39m(Dictionary1\u001b[39m.\u001b[39;49mhas_key(\u001b[39m'\u001b[39m\u001b[39mA\u001b[39m\u001b[39m'\u001b[39m))\n\u001b[0;32m     14\u001b[0m \u001b[39mprint\u001b[39m(Dictionary1\u001b[39m.\u001b[39mhas_key(\u001b[39m'\u001b[39m\u001b[39mFor\u001b[39m\u001b[39m'\u001b[39m))\n",
      "\u001b[1;31mAttributeError\u001b[0m: 'dict' object has no attribute 'has_key'"
     ]
    }
   ],
   "source": [
    "# Python program to show working\n",
    "# of has_key() method in Dictionary\n",
    "\n",
    "# Dictionary with three items\n",
    "Dictionary1 = {'A': 'Geeks', 'B': 'For', 'C': 'Geeks'}\n",
    "\n",
    "# Dictionary to be checked\n",
    "print(\"Dictionary to be checked: \")\n",
    "print(Dictionary1)\n",
    "\n",
    "# Use of has_key() to check\n",
    "# for presence of a key in Dictionary\n",
    "print(Dictionary1.has_key('A'))\n",
    "print(Dictionary1.has_key('For'))\n"
   ]
  },
  {
   "cell_type": "code",
   "execution_count": 96,
   "metadata": {},
   "outputs": [
    {
     "ename": "AttributeError",
     "evalue": "'dict' object has no attribute 'has_key'",
     "output_type": "error",
     "traceback": [
      "\u001b[1;31m---------------------------------------------------------------------------\u001b[0m",
      "\u001b[1;31mAttributeError\u001b[0m                            Traceback (most recent call last)",
      "Cell \u001b[1;32mIn[96], line 2\u001b[0m\n\u001b[0;32m      1\u001b[0m a \u001b[39m=\u001b[39m {\u001b[39m\"\u001b[39m\u001b[39mA\u001b[39m\u001b[39m\"\u001b[39m: \u001b[39m1\u001b[39m,\u001b[39m\"\u001b[39m\u001b[39mB\u001b[39m\u001b[39m\"\u001b[39m:\u001b[39m2\u001b[39m}\n\u001b[1;32m----> 2\u001b[0m \u001b[39mprint\u001b[39m(a\u001b[39m.\u001b[39;49mhas_key(\u001b[39m'\u001b[39m\u001b[39mA\u001b[39m\u001b[39m'\u001b[39m))\n",
      "\u001b[1;31mAttributeError\u001b[0m: 'dict' object has no attribute 'has_key'"
     ]
    }
   ],
   "source": [
    "a = {\"A\": 1,\"B\":2}\n",
    "print(a.has_key('A'))"
   ]
  },
  {
   "cell_type": "code",
   "execution_count": 98,
   "metadata": {},
   "outputs": [
    {
     "data": {
      "text/plain": [
       "250"
      ]
     },
     "execution_count": 98,
     "metadata": {},
     "output_type": "execute_result"
    },
    {
     "data": {
      "text/plain": [
       "100"
      ]
     },
     "execution_count": 98,
     "metadata": {},
     "output_type": "execute_result"
    },
    {
     "data": {
      "text/plain": [
       "250"
      ]
     },
     "execution_count": 98,
     "metadata": {},
     "output_type": "execute_result"
    }
   ],
   "source": [
    "\n",
    "\n",
    "def calculate_area(**a): # 1\n",
    "    if a['side1'] == 5:\n",
    "        return a[\"side1\"] * a[\"side2\"]\n",
    "    else:\n",
    "        return a[\"side1\"] * a[\"side1\"]\n",
    "    \n",
    "calculate_area(side1=5,side2=50)\n",
    "calculate_area(side1=10)\n",
    "calculate_area(side1=5,side2=50,side3 = 60)"
   ]
  },
  {
   "cell_type": "code",
   "execution_count": null,
   "metadata": {},
   "outputs": [],
   "source": [
    "positional arguments\n",
    "keyword arguments\n",
    "default arguement\n",
    "kargs arguments -- list\n",
    "kwargs argument --dictionary\n"
   ]
  },
  {
   "cell_type": "code",
   "execution_count": null,
   "metadata": {},
   "outputs": [],
   "source": [
    "# positional arguments should not fallow keyword arguments, when calling the function"
   ]
  },
  {
   "attachments": {},
   "cell_type": "markdown",
   "metadata": {},
   "source": [
    "Combination of above is allowed. \n",
    "but Order of argument must be followd.\n",
    "\n",
    "1. Assign nonkeyword arguments by position.\n",
    "2. Assign keyword arguments by matching names.\n",
    "3. Assign extra nonkeyword arguments to *name tuple.\n",
    "4. Assign extra keyword arguments to **name dictionary.\n",
    "5. Assign default values to unassigned arguments in header."
   ]
  },
  {
   "cell_type": "code",
   "execution_count": 100,
   "metadata": {},
   "outputs": [
    {
     "name": "stdout",
     "output_type": "stream",
     "text": [
      "10 12\n"
     ]
    }
   ],
   "source": [
    "def func2(a,b,c = d,*args,**kwargs):\n",
    "    print(a,b)\n",
    "    \n",
    "func2(10,12,30,40,x=20,y=30)"
   ]
  },
  {
   "cell_type": "code",
   "execution_count": 104,
   "metadata": {},
   "outputs": [
    {
     "ename": "TypeError",
     "evalue": "func2() got multiple values for argument 'c'",
     "output_type": "error",
     "traceback": [
      "\u001b[1;31m---------------------------------------------------------------------------\u001b[0m",
      "\u001b[1;31mTypeError\u001b[0m                                 Traceback (most recent call last)",
      "Cell \u001b[1;32mIn[104], line 7\u001b[0m\n\u001b[0;32m      4\u001b[0m     \u001b[39mprint\u001b[39m(args)\n\u001b[0;32m      5\u001b[0m     \u001b[39mprint\u001b[39m(kwargs)\n\u001b[1;32m----> 7\u001b[0m func2(\u001b[39m10\u001b[39;49m,\u001b[39m12\u001b[39;49m,\u001b[39m30\u001b[39;49m,\u001b[39m40\u001b[39;49m,x\u001b[39m=\u001b[39;49m\u001b[39m20\u001b[39;49m,y\u001b[39m=\u001b[39;49m\u001b[39m30\u001b[39;49m, c\u001b[39m=\u001b[39;49m\u001b[39m50\u001b[39;49m)\n",
      "\u001b[1;31mTypeError\u001b[0m: func2() got multiple values for argument 'c'"
     ]
    }
   ],
   "source": [
    "def func2(a,b,c=d,*args,**kwargs):\n",
    "    print(a,b)\n",
    "    print(c)\n",
    "    print(args)\n",
    "    print(kwargs)\n",
    "    \n",
    "func2(10,12,30,40,x=20,y=30)"
   ]
  },
  {
   "attachments": {},
   "cell_type": "markdown",
   "metadata": {},
   "source": [
    "# default arguments"
   ]
  },
  {
   "cell_type": "code",
   "execution_count": 33,
   "metadata": {},
   "outputs": [
    {
     "name": "stdout",
     "output_type": "stream",
     "text": [
      "10 12\n",
      "(30, 40)\n",
      "{'x': 20, 'y': 30}\n"
     ]
    }
   ],
   "source": [
    "def func2(a,b,*args,dfl=\"a\",**kwargs):\n",
    "    print(a,b)\n",
    "    print(args)\n",
    "    print(kwargs)\n",
    "    \n",
    "func2(10,12,30,40,x=20,y=30)"
   ]
  },
  {
   "cell_type": "code",
   "execution_count": null,
   "metadata": {},
   "outputs": [],
   "source": [
    "def func2(a,b,dfl=\"a\",*args,**kwargs):\n",
    "    print(a,b)\n",
    "    print(args)\n",
    "    print(kwargs)\n",
    "    \n",
    "func2(10,12,30,40,x=20,y=30)"
   ]
  },
  {
   "cell_type": "code",
   "execution_count": 34,
   "metadata": {},
   "outputs": [
    {
     "ename": "SyntaxError",
     "evalue": "arguments cannot follow var-keyword argument (2210195442.py, line 1)",
     "output_type": "error",
     "traceback": [
      "\u001b[1;36m  Cell \u001b[1;32mIn[34], line 1\u001b[1;36m\u001b[0m\n\u001b[1;33m    def func2(a,b,*args,**kwargs,dfl=\"a\"):\u001b[0m\n\u001b[1;37m                                 ^\u001b[0m\n\u001b[1;31mSyntaxError\u001b[0m\u001b[1;31m:\u001b[0m arguments cannot follow var-keyword argument\n"
     ]
    }
   ],
   "source": [
    "def func2(a,b,*args,**kwargs,dfl=\"a\"):\n",
    "    print(a,b)\n",
    "    print(args)\n",
    "    print(kwargs)\n",
    "    \n",
    "func2(10,12,30,40,x=20,y=30)"
   ]
  },
  {
   "cell_type": "code",
   "execution_count": null,
   "metadata": {},
   "outputs": [],
   "source": [
    "def arg_printer(a, b, *args, option=True, **kwargs):\n",
    "   print(a, b)\n",
    "   print(args)\n",
    "   print(option)\n",
    "   print(kwargs)\n",
    "   \n",
    "arg_printer(1, 4, 6, 5, param1=5, param2=6)\n"
   ]
  },
  {
   "cell_type": "code",
   "execution_count": 105,
   "metadata": {},
   "outputs": [
    {
     "ename": "SyntaxError",
     "evalue": "arguments cannot follow var-keyword argument (2181696919.py, line 2)",
     "output_type": "error",
     "traceback": [
      "\u001b[1;36m  Cell \u001b[1;32mIn[105], line 2\u001b[1;36m\u001b[0m\n\u001b[1;33m    def arg_printer(a, b, **kwargs, option=True, *args):\u001b[0m\n\u001b[1;37m                                    ^\u001b[0m\n\u001b[1;31mSyntaxError\u001b[0m\u001b[1;31m:\u001b[0m arguments cannot follow var-keyword argument\n"
     ]
    }
   ],
   "source": [
    "# negative example keyword arguments\n",
    "def arg_printer(a, b, **kwargs, option=True, *args):\n",
    "   print(a, b)\n",
    "   print(args)\n",
    "   print(option)\n",
    "   print(kwargs)\n",
    "   \n",
    "arg_printer(1, 4, 6, 5, param1=5, param2=6)"
   ]
  },
  {
   "cell_type": "code",
   "execution_count": 35,
   "metadata": {},
   "outputs": [
    {
     "ename": "SyntaxError",
     "evalue": "arguments cannot follow var-keyword argument (67321315.py, line 2)",
     "output_type": "error",
     "traceback": [
      "\u001b[1;36m  Cell \u001b[1;32mIn[35], line 2\u001b[1;36m\u001b[0m\n\u001b[1;33m    def arg_printer(a, b, **kwargs, option=True, **kwargs2):\u001b[0m\n\u001b[1;37m                                    ^\u001b[0m\n\u001b[1;31mSyntaxError\u001b[0m\u001b[1;31m:\u001b[0m arguments cannot follow var-keyword argument\n"
     ]
    }
   ],
   "source": [
    "# negative example keyword arguments , giving two kwargs\n",
    "def arg_printer(a, b, **kwargs, option=True, **kwargs2):\n",
    "   print(a, b)\n",
    "   print(args)\n",
    "   print(option)\n",
    "   print(kwargs)\n",
    "   \n",
    "arg_printer(1, 4, 6, 5, param1=5, param2=6)"
   ]
  }
 ],
 "metadata": {
  "kernelspec": {
   "display_name": "Python 3",
   "language": "python",
   "name": "python3"
  },
  "language_info": {
   "codemirror_mode": {
    "name": "ipython",
    "version": 3
   },
   "file_extension": ".py",
   "mimetype": "text/x-python",
   "name": "python",
   "nbconvert_exporter": "python",
   "pygments_lexer": "ipython3",
   "version": "3.11.1"
  },
  "orig_nbformat": 4,
  "vscode": {
   "interpreter": {
    "hash": "108095e740c160118120ad5e22811b4aca9f414a6f3c55c969835bc2c10848d1"
   }
  }
 },
 "nbformat": 4,
 "nbformat_minor": 2
}
