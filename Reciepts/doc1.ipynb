{
 "cells": [
  {
   "cell_type": "code",
   "execution_count": 1,
   "metadata": {},
   "outputs": [],
   "source": [
    "import pandas as pd\n",
    "df1 = pd.read_excel('ADMNREGISTER.xlsx', \"TEMPLATESHEET\", skiprows =5, nrows =2000, usecols = \"A:Z\",na_filter=False)"
   ]
  },
  {
   "cell_type": "code",
   "execution_count": 2,
   "metadata": {},
   "outputs": [
    {
     "data": {
      "text/html": [
       "<div>\n",
       "<style scoped>\n",
       "    .dataframe tbody tr th:only-of-type {\n",
       "        vertical-align: middle;\n",
       "    }\n",
       "\n",
       "    .dataframe tbody tr th {\n",
       "        vertical-align: top;\n",
       "    }\n",
       "\n",
       "    .dataframe thead th {\n",
       "        text-align: right;\n",
       "    }\n",
       "</style>\n",
       "<table border=\"1\" class=\"dataframe\">\n",
       "  <thead>\n",
       "    <tr style=\"text-align: right;\">\n",
       "      <th></th>\n",
       "      <th>S.No</th>\n",
       "      <th>ADMN</th>\n",
       "      <th>DOST ID</th>\n",
       "      <th>H.T.NO</th>\n",
       "      <th>Applicant Name</th>\n",
       "      <th>Identification Marks1</th>\n",
       "      <th>Identification Marks2</th>\n",
       "      <th>Course</th>\n",
       "      <th>Fathername</th>\n",
       "      <th>Mothername</th>\n",
       "      <th>...</th>\n",
       "      <th>Caste</th>\n",
       "      <th>Second   language</th>\n",
       "      <th>Religion</th>\n",
       "      <th>PH Category</th>\n",
       "      <th>Address</th>\n",
       "      <th>Date Of Joining</th>\n",
       "      <th>Mobile Number</th>\n",
       "      <th>CellNumber /Remarks</th>\n",
       "      <th>Start_Year</th>\n",
       "      <th>End_Year</th>\n",
       "    </tr>\n",
       "  </thead>\n",
       "  <tbody>\n",
       "    <tr>\n",
       "      <th>0</th>\n",
       "      <td>1</td>\n",
       "      <td>1267</td>\n",
       "      <td>TI1314233034</td>\n",
       "      <td>606922111001</td>\n",
       "      <td>ADEPU NAVEEN KUMAR</td>\n",
       "      <td>A MOLE ON THE CHIN</td>\n",
       "      <td>A MOLE ON THE RIGHT HAND</td>\n",
       "      <td>B.A(EPP)</td>\n",
       "      <td>ADEPU KISTAIAH</td>\n",
       "      <td>ADEPU KANAKAVVA</td>\n",
       "      <td>...</td>\n",
       "      <td>BC-B</td>\n",
       "      <td>Telugu</td>\n",
       "      <td>Hindu</td>\n",
       "      <td>NA</td>\n",
       "      <td>5-39/a, gopalpur-GOPALPUR-JAGDEVPUR-SIDDIPET-5...</td>\n",
       "      <td>2022-10-30</td>\n",
       "      <td>9908679401</td>\n",
       "      <td></td>\n",
       "      <td>2022</td>\n",
       "      <td></td>\n",
       "    </tr>\n",
       "    <tr>\n",
       "      <th>1</th>\n",
       "      <td>2</td>\n",
       "      <td>1268</td>\n",
       "      <td>TI2147208406</td>\n",
       "      <td>606922111002</td>\n",
       "      <td>AMBALLA ARUN</td>\n",
       "      <td>NA</td>\n",
       "      <td></td>\n",
       "      <td>B.A(EPP)</td>\n",
       "      <td>AMBALLA YELLAIAH</td>\n",
       "      <td>AMBALLA NAGALAXMI</td>\n",
       "      <td>...</td>\n",
       "      <td>BC-B</td>\n",
       "      <td>Telugu</td>\n",
       "      <td>Hindu</td>\n",
       "      <td>NA</td>\n",
       "      <td>3-28, MANTHUR-MANTOOR-RAIPOLE-SIDDIPET-502279</td>\n",
       "      <td>2022-10-15</td>\n",
       "      <td>8185947169</td>\n",
       "      <td></td>\n",
       "      <td>2022</td>\n",
       "      <td></td>\n",
       "    </tr>\n",
       "    <tr>\n",
       "      <th>2</th>\n",
       "      <td>3</td>\n",
       "      <td>1269</td>\n",
       "      <td>TI2247501440</td>\n",
       "      <td>606922111004</td>\n",
       "      <td>ARIKELA UPENDAR</td>\n",
       "      <td>A MOLE ON CHIN</td>\n",
       "      <td>NO</td>\n",
       "      <td>B.A(EPP)</td>\n",
       "      <td>ARIKELA SRINIVAS</td>\n",
       "      <td>ARIKELA LAXMI</td>\n",
       "      <td>...</td>\n",
       "      <td>BC-D</td>\n",
       "      <td>Telugu</td>\n",
       "      <td>Hindu</td>\n",
       "      <td>NA</td>\n",
       "      <td>6-93, ahmadipur-AHMADIPUR-GAJWEL-SIDDIPET-502278</td>\n",
       "      <td>2022-09-21</td>\n",
       "      <td>8978582302</td>\n",
       "      <td></td>\n",
       "      <td>2022</td>\n",
       "      <td></td>\n",
       "    </tr>\n",
       "    <tr>\n",
       "      <th>3</th>\n",
       "      <td>4</td>\n",
       "      <td>1270</td>\n",
       "      <td>TI2247204278</td>\n",
       "      <td>606922111005</td>\n",
       "      <td>BANDARI ASHWINI</td>\n",
       "      <td>NA</td>\n",
       "      <td></td>\n",
       "      <td>B.A(EPP)</td>\n",
       "      <td>BANDARI SWAMY</td>\n",
       "      <td>BANDARI LAXMI</td>\n",
       "      <td>...</td>\n",
       "      <td>SC</td>\n",
       "      <td>Telugu</td>\n",
       "      <td>Hindu</td>\n",
       "      <td>NA</td>\n",
       "      <td>2-2, RAMCHANDRAPUR-RAMACHANDRAPUR-JAGDEVPUR-SI...</td>\n",
       "      <td>2022-09-22</td>\n",
       "      <td>6304428100</td>\n",
       "      <td></td>\n",
       "      <td>2022</td>\n",
       "      <td></td>\n",
       "    </tr>\n",
       "    <tr>\n",
       "      <th>4</th>\n",
       "      <td>5</td>\n",
       "      <td>1271</td>\n",
       "      <td>TI2247501957</td>\n",
       "      <td>606922111007</td>\n",
       "      <td>BANOTH PRAVEEN</td>\n",
       "      <td>NA</td>\n",
       "      <td></td>\n",
       "      <td>B.A(EPP)</td>\n",
       "      <td>BANOTH RAJU</td>\n",
       "      <td>BANOTH MANGAMMA</td>\n",
       "      <td>...</td>\n",
       "      <td>ST</td>\n",
       "      <td>Telugu</td>\n",
       "      <td>Hindu</td>\n",
       "      <td>NA</td>\n",
       "      <td>0-0, VEMULAGHAT-VEMULAGHAT-THOGUTA-SIDDIPET-50...</td>\n",
       "      <td>2022-09-18</td>\n",
       "      <td>7995867913</td>\n",
       "      <td></td>\n",
       "      <td>2022</td>\n",
       "      <td></td>\n",
       "    </tr>\n",
       "  </tbody>\n",
       "</table>\n",
       "<p>5 rows × 26 columns</p>\n",
       "</div>"
      ],
      "text/plain": [
       "   S.No  ADMN       DOST ID        H.T.NO      Applicant Name  \\\n",
       "0     1  1267  TI1314233034  606922111001  ADEPU NAVEEN KUMAR   \n",
       "1     2  1268  TI2147208406  606922111002        AMBALLA ARUN   \n",
       "2     3  1269  TI2247501440  606922111004     ARIKELA UPENDAR   \n",
       "3     4  1270  TI2247204278  606922111005     BANDARI ASHWINI   \n",
       "4     5  1271  TI2247501957  606922111007      BANOTH PRAVEEN   \n",
       "\n",
       "  Identification Marks1     Identification Marks2    Course        Fathername  \\\n",
       "0    A MOLE ON THE CHIN  A MOLE ON THE RIGHT HAND  B.A(EPP)    ADEPU KISTAIAH   \n",
       "1                    NA                            B.A(EPP)  AMBALLA YELLAIAH   \n",
       "2        A MOLE ON CHIN                        NO  B.A(EPP)  ARIKELA SRINIVAS   \n",
       "3                    NA                            B.A(EPP)     BANDARI SWAMY   \n",
       "4                    NA                            B.A(EPP)       BANOTH RAJU   \n",
       "\n",
       "          Mothername  ... Caste  Second   language  Religion PH Category  \\\n",
       "0    ADEPU KANAKAVVA  ...  BC-B             Telugu     Hindu          NA   \n",
       "1  AMBALLA NAGALAXMI  ...  BC-B             Telugu     Hindu          NA   \n",
       "2      ARIKELA LAXMI  ...  BC-D             Telugu     Hindu          NA   \n",
       "3      BANDARI LAXMI  ...    SC             Telugu     Hindu          NA   \n",
       "4    BANOTH MANGAMMA  ...    ST             Telugu     Hindu          NA   \n",
       "\n",
       "                                             Address Date Of Joining  \\\n",
       "0  5-39/a, gopalpur-GOPALPUR-JAGDEVPUR-SIDDIPET-5...      2022-10-30   \n",
       "1      3-28, MANTHUR-MANTOOR-RAIPOLE-SIDDIPET-502279      2022-10-15   \n",
       "2   6-93, ahmadipur-AHMADIPUR-GAJWEL-SIDDIPET-502278      2022-09-21   \n",
       "3  2-2, RAMCHANDRAPUR-RAMACHANDRAPUR-JAGDEVPUR-SI...      2022-09-22   \n",
       "4  0-0, VEMULAGHAT-VEMULAGHAT-THOGUTA-SIDDIPET-50...      2022-09-18   \n",
       "\n",
       "  Mobile Number CellNumber /Remarks Start_Year End_Year  \n",
       "0    9908679401                           2022           \n",
       "1    8185947169                           2022           \n",
       "2    8978582302                           2022           \n",
       "3    6304428100                           2022           \n",
       "4    7995867913                           2022           \n",
       "\n",
       "[5 rows x 26 columns]"
      ]
     },
     "execution_count": 2,
     "metadata": {},
     "output_type": "execute_result"
    }
   ],
   "source": [
    "df1.head()"
   ]
  },
  {
   "cell_type": "code",
   "execution_count": 5,
   "metadata": {},
   "outputs": [
    {
     "data": {
      "text/plain": [
       "datetime.datetime(2023, 3, 10, 18, 0, 24, 947053)"
      ]
     },
     "execution_count": 5,
     "metadata": {},
     "output_type": "execute_result"
    }
   ],
   "source": [
    "from datetime import datetime\n",
    "a = datetime.now()\n",
    "a"
   ]
  },
  {
   "cell_type": "code",
   "execution_count": 6,
   "metadata": {},
   "outputs": [
    {
     "data": {
      "text/plain": [
       "3"
      ]
     },
     "execution_count": 6,
     "metadata": {},
     "output_type": "execute_result"
    }
   ],
   "source": [
    "a.month"
   ]
  },
  {
   "cell_type": "code",
   "execution_count": 8,
   "metadata": {},
   "outputs": [
    {
     "data": {
      "text/plain": [
       "['3']"
      ]
     },
     "execution_count": 8,
     "metadata": {},
     "output_type": "execute_result"
    }
   ],
   "source": [
    "a =3\n",
    "list(str(a))"
   ]
  }
 ],
 "metadata": {
  "kernelspec": {
   "display_name": "Python 3",
   "language": "python",
   "name": "python3"
  },
  "language_info": {
   "codemirror_mode": {
    "name": "ipython",
    "version": 3
   },
   "file_extension": ".py",
   "mimetype": "text/x-python",
   "name": "python",
   "nbconvert_exporter": "python",
   "pygments_lexer": "ipython3",
   "version": "3.11.1"
  },
  "orig_nbformat": 4,
  "vscode": {
   "interpreter": {
    "hash": "108095e740c160118120ad5e22811b4aca9f414a6f3c55c969835bc2c10848d1"
   }
  }
 },
 "nbformat": 4,
 "nbformat_minor": 2
}
