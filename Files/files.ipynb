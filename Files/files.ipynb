{
 "cells": [
  {
   "cell_type": "code",
   "execution_count": null,
   "metadata": {},
   "outputs": [],
   "source": [
    "output = open(r'C:\\spam', 'w') Create output file ('w' means write)\n",
    "input = open('data', 'r') Create input file ('r' means read)\n",
    "input = open('data') Same as prior line ('r' is the default)\n",
    "aString = input.read() Read entire file into a single string\n",
    "aString = input.read(N) Read up to next N characters (or bytes) into a string\n",
    "aString = input.readline() Read next line (including \\n newline) into a string\n",
    "aList = input.readlines() Read entire file into list of line strings (with \\n)\n",
    "output.write(aString) Write a string of characters (or bytes) into file\n",
    "output.writelines(aList) Write all line strings in a list into file\n",
    "output.close() Manual close (done for you when file is collected)\n",
    "output.flush() Flush output buffer to disk without closing\n",
    "anyFile.seek(N) Change file position to offset N for next operation\n",
    "for line in open('data'): use line File iterators read line by line\n",
    "open('f.txt', encoding='latin-1') Python 3.X Unicode text files (str strings)\n",
    "open('f.bin', 'rb') Python 3.X bytes files (bytes strings)"
   ]
  },
  {
   "cell_type": "code",
   "execution_count": null,
   "metadata": {},
   "outputs": [],
   "source": [
    "Pickle module\n",
    "The python file modules only accepts string, we have to convert before storing.\n"
   ]
  },
  {
   "cell_type": "code",
   "execution_count": null,
   "metadata": {},
   "outputs": [],
   "source": []
  }
 ],
 "metadata": {
  "kernelspec": {
   "display_name": "Python 3",
   "language": "python",
   "name": "python3"
  },
  "language_info": {
   "name": "python",
   "version": "3.11.1"
  },
  "orig_nbformat": 4,
  "vscode": {
   "interpreter": {
    "hash": "108095e740c160118120ad5e22811b4aca9f414a6f3c55c969835bc2c10848d1"
   }
  }
 },
 "nbformat": 4,
 "nbformat_minor": 2
}
