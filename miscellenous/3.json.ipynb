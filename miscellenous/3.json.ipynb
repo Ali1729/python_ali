{
 "cells": [
  {
   "cell_type": "code",
   "execution_count": 2,
   "metadata": {},
   "outputs": [
    {
     "data": {
      "text/plain": [
       "{'name': 'Charles',\n",
       " 'age': 33,\n",
       " 'has_hair': False,\n",
       " 'hobbies': ['photography', 'running']}"
      ]
     },
     "execution_count": 2,
     "metadata": {},
     "output_type": "execute_result"
    },
    {
     "data": {
      "text/plain": [
       "dict"
      ]
     },
     "execution_count": 2,
     "metadata": {},
     "output_type": "execute_result"
    },
    {
     "data": {
      "text/plain": [
       "'Charles'"
      ]
     },
     "execution_count": 2,
     "metadata": {},
     "output_type": "execute_result"
    }
   ],
   "source": [
    "import json\n",
    "json_person = '{\"name\": \"Charles\", \"age\": 33, \"has_hair\": false, \"hobbies\": [\"photography\", \"running\"]}'\n",
    "python_person = json.loads(json_person)\n",
    "python_person\n",
    "type(python_person)\n",
    "python_person.get(\"name\")"
   ]
  },
  {
   "cell_type": "code",
   "execution_count": 3,
   "metadata": {},
   "outputs": [
    {
     "data": {
      "text/plain": [
       "list"
      ]
     },
     "execution_count": 3,
     "metadata": {},
     "output_type": "execute_result"
    }
   ],
   "source": [
    "type(python_person[\"hobbies\"])"
   ]
  },
  {
   "cell_type": "code",
   "execution_count": 4,
   "metadata": {},
   "outputs": [
    {
     "data": {
      "text/plain": [
       "{'name': 'Charles',\n",
       " 'age': 33,\n",
       " 'has_hair': False,\n",
       " 'hobbies': ['photography', 'running'],\n",
       " 'appearance': {'eyes': 'brown', 'hair_color': None}}"
      ]
     },
     "execution_count": 4,
     "metadata": {},
     "output_type": "execute_result"
    }
   ],
   "source": [
    "with open(\"a.json\", \"r\") as f:\n",
    "\tjson_content = json.loads(f.read())\n",
    "\t\n",
    "json_content"
   ]
  },
  {
   "cell_type": "code",
   "execution_count": 5,
   "metadata": {},
   "outputs": [
    {
     "data": {
      "text/plain": [
       "30"
      ]
     },
     "execution_count": 5,
     "metadata": {},
     "output_type": "execute_result"
    }
   ],
   "source": [
    "import json\n",
    "\n",
    "person = {'name': 'Charles', 'age': 33}\n",
    "\n",
    "with open(\"filename.json\", \"w\") as f:\n",
    "    f.write(json.dumps(person))"
   ]
  },
  {
   "cell_type": "code",
   "execution_count": 9,
   "metadata": {},
   "outputs": [
    {
     "name": "stdout",
     "output_type": "stream",
     "text": [
      "{   'age': 33,\n",
      "    'appearance': {   'eyes': 'brown',\n",
      "                      'hair_color': None,\n",
      "                      'second': {   'age': 33,\n",
      "                                    'appearance': {   'eyes': 'brown',\n",
      "                                                      'hair_color': None},\n",
      "                                    'has_hair': False,\n",
      "                                    'hobbies': ['photography', 'running'],\n",
      "                                    'name': 'Charles'}},\n",
      "    'has_hair': False,\n",
      "    'hobbies': ['photography', 'running'],\n",
      "    'name': 'Charles'}\n"
     ]
    }
   ],
   "source": [
    "import pprint\n",
    "pp = pprint.PrettyPrinter(indent=4)\n",
    "with open(\"a.json\", \"r\") as f:\n",
    "\tjson_content = json.loads(f.read())\n",
    "\t\n",
    "pp.pprint(json_content)"
   ]
  },
  {
   "cell_type": "code",
   "execution_count": 16,
   "metadata": {},
   "outputs": [
    {
     "data": {
      "text/plain": [
       "[2, 3, 4, 6]"
      ]
     },
     "execution_count": 16,
     "metadata": {},
     "output_type": "execute_result"
    }
   ],
   "source": [
    "from collections import namedtuple\n",
    "\n",
    "a = [1,2,3,4,6]\n",
    "def func1(a):\n",
    "    a = a[1:]\n",
    "    return a\n",
    "\n",
    "a = func1(a)\n",
    "a"
   ]
  },
  {
   "cell_type": "code",
   "execution_count": 17,
   "metadata": {},
   "outputs": [
    {
     "data": {
      "text/plain": [
       "True"
      ]
     },
     "execution_count": 17,
     "metadata": {},
     "output_type": "execute_result"
    }
   ],
   "source": [
    "# dictionary\n",
    "a = {\"a\":\"x\",\"b\":\"y\"}\n",
    "\n",
    "b = {\"b\":\"y\",\"a\":\"x\"}\n",
    "\n",
    "a == b"
   ]
  },
  {
   "cell_type": "code",
   "execution_count": 19,
   "metadata": {},
   "outputs": [
    {
     "data": {
      "text/plain": [
       "False"
      ]
     },
     "execution_count": 19,
     "metadata": {},
     "output_type": "execute_result"
    },
    {
     "data": {
      "text/plain": [
       "collections.OrderedDict"
      ]
     },
     "execution_count": 19,
     "metadata": {},
     "output_type": "execute_result"
    }
   ],
   "source": [
    "from collections import OrderedDict\n",
    "\n",
    "a = {\"a\":\"x\",\"b\":\"y\"}\n",
    "\n",
    "b = {\"b\":\"y\",\"a\":\"x\"}\n",
    "\n",
    "a = OrderedDict(a)\n",
    "b = OrderedDict(b)\n",
    "a==b\n",
    "type(a)"
   ]
  },
  {
   "cell_type": "code",
   "execution_count": 20,
   "metadata": {},
   "outputs": [
    {
     "data": {
      "text/plain": [
       "1"
      ]
     },
     "execution_count": 20,
     "metadata": {},
     "output_type": "execute_result"
    }
   ],
   "source": [
    "a = namedtuple(\"as\":1,\"as2\":2)\n",
    "a[0]\n",
    "\n"
   ]
  },
  {
   "cell_type": "code",
   "execution_count": 27,
   "metadata": {},
   "outputs": [
    {
     "ename": "TypeError",
     "evalue": "unsupported operand type(s) for +: 'A' and 'A'",
     "output_type": "error",
     "traceback": [
      "\u001b[1;31m---------------------------------------------------------------------------\u001b[0m",
      "\u001b[1;31mTypeError\u001b[0m                                 Traceback (most recent call last)",
      "Cell \u001b[1;32mIn[27], line 8\u001b[0m\n\u001b[0;32m      6\u001b[0m a \u001b[39m=\u001b[39m A()\n\u001b[0;32m      7\u001b[0m b \u001b[39m=\u001b[39m A()\n\u001b[1;32m----> 8\u001b[0m a\u001b[39m+\u001b[39;49mb\n",
      "\u001b[1;31mTypeError\u001b[0m: unsupported operand type(s) for +: 'A' and 'A'"
     ]
    }
   ],
   "source": [
    "class A():\n",
    "    # def __add__(self,other):\n",
    "    #     print(\"addition is getting called\")\n",
    "    pass\n",
    "        \n",
    "a = A()\n",
    "b = A()\n",
    "a+b"
   ]
  },
  {
   "cell_type": "code",
   "execution_count": null,
   "metadata": {},
   "outputs": [],
   "source": [
    "import pprint\n",
    "pp = pprint.PrettyPrinter(indent=4)\n",
    "with open(\"a.json\", \"r\") as f:\n",
    "\tjson_content = json.loads(f.read())\n",
    "\t\n",
    "pp.pprint(json_content)"
   ]
  },
  {
   "cell_type": "code",
   "execution_count": 23,
   "metadata": {},
   "outputs": [
    {
     "data": {
      "text/plain": [
       "30"
      ]
     },
     "execution_count": 23,
     "metadata": {},
     "output_type": "execute_result"
    }
   ],
   "source": [
    "import json\n",
    "\n",
    "person = {'name': 'Charles', 'age': 33}\n",
    "\n",
    "f= open(\"filename.json\", \"w\")\n",
    "f.write(json.dumps(person))\n",
    "f.close()"
   ]
  },
  {
   "cell_type": "code",
   "execution_count": 24,
   "metadata": {},
   "outputs": [
    {
     "data": {
      "text/plain": [
       "30"
      ]
     },
     "execution_count": 24,
     "metadata": {},
     "output_type": "execute_result"
    }
   ],
   "source": [
    "import json\n",
    "\n",
    "person = {'name': 'Charles', 'age': 33}\n",
    "with open(\"filename.json\", \"w\") as f:\n",
    "    f.write(json.dumps(person))\n"
   ]
  },
  {
   "cell_type": "code",
   "execution_count": null,
   "metadata": {},
   "outputs": [],
   "source": [
    "def __context_manager__()"
   ]
  },
  {
   "cell_type": "code",
   "execution_count": 30,
   "metadata": {},
   "outputs": [
    {
     "ename": "TypeError",
     "evalue": "A.__str__() takes 0 positional arguments but 1 was given",
     "output_type": "error",
     "traceback": [
      "\u001b[1;31m---------------------------------------------------------------------------\u001b[0m",
      "\u001b[1;31mTypeError\u001b[0m                                 Traceback (most recent call last)",
      "Cell \u001b[1;32mIn[30], line 6\u001b[0m\n\u001b[0;32m      3\u001b[0m         \u001b[39mreturn\u001b[39;00m(\u001b[39m\"\u001b[39m\u001b[39mThis is class A\u001b[39m\u001b[39m\"\u001b[39m)\n\u001b[0;32m      5\u001b[0m a \u001b[39m=\u001b[39m A()\n\u001b[1;32m----> 6\u001b[0m \u001b[39mstr\u001b[39;49m(a)\n",
      "\u001b[1;31mTypeError\u001b[0m: A.__str__() takes 0 positional arguments but 1 was given"
     ]
    }
   ],
   "source": [
    "class A():\n",
    "    def __str__(self):\n",
    "        return(\"This is class A\")\n",
    "\n",
    "a = A()\n",
    "str(a)\n"
   ]
  }
 ],
 "metadata": {
  "kernelspec": {
   "display_name": "Python 3",
   "language": "python",
   "name": "python3"
  },
  "language_info": {
   "codemirror_mode": {
    "name": "ipython",
    "version": 3
   },
   "file_extension": ".py",
   "mimetype": "text/x-python",
   "name": "python",
   "nbconvert_exporter": "python",
   "pygments_lexer": "ipython3",
   "version": "3.11.1"
  },
  "orig_nbformat": 4,
  "vscode": {
   "interpreter": {
    "hash": "108095e740c160118120ad5e22811b4aca9f414a6f3c55c969835bc2c10848d1"
   }
  }
 },
 "nbformat": 4,
 "nbformat_minor": 2
}
